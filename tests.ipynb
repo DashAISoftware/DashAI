{
 "cells": [
  {
   "cell_type": "code",
   "execution_count": 8,
   "id": "402e548f",
   "metadata": {
    "execution": {
     "iopub.execute_input": "2024-04-25T20:36:41.445183Z",
     "iopub.status.busy": "2024-04-25T20:36:41.444446Z",
     "iopub.status.idle": "2024-04-25T20:36:41.451846Z",
     "shell.execute_reply": "2024-04-25T20:36:41.450251Z",
     "shell.execute_reply.started": "2024-04-25T20:36:41.445160Z"
    }
   },
   "outputs": [],
   "source": [
    "import matplotlib\n",
    "import shap\n",
    "import numpy as np\n",
    "import plotly\n",
    "import matplotlib.pyplot as plt\n",
    "from sklearn.inspection import (\n",
    "    partial_dependence,\n",
    "    permutation_importance, \n",
    "    PartialDependenceDisplay\n",
    ")\n",
    "from sklearn.metrics import accuracy_score, balanced_accuracy_score, make_scorer\n",
    "from datasets import concatenate_datasets"
   ]
  },
  {
   "cell_type": "code",
   "execution_count": 9,
   "id": "07ccc357",
   "metadata": {
    "execution": {
     "iopub.execute_input": "2024-04-25T20:36:41.677691Z",
     "iopub.status.busy": "2024-04-25T20:36:41.676605Z",
     "iopub.status.idle": "2024-04-25T20:36:41.682766Z",
     "shell.execute_reply": "2024-04-25T20:36:41.681470Z",
     "shell.execute_reply.started": "2024-04-25T20:36:41.677662Z"
    }
   },
   "outputs": [],
   "source": [
    "from DashAI.back.dataloaders.classes.dashai_dataset import (\n",
    "    load_dataset,\n",
    "    select_columns,\n",
    ")\n",
    "from DashAI.back.tasks import TabularClassificationTask\n",
    "from DashAI.back.models import KNeighborsClassifier, SVC\n",
    "from DashAI.back.explainability import (\n",
    "    KernelShap, \n",
    "    PermutationFeatureImportance, \n",
    "    PartialDependence\n",
    ")"
   ]
  },
  {
   "cell_type": "code",
   "execution_count": 10,
   "id": "9c237899",
   "metadata": {
    "execution": {
     "iopub.execute_input": "2024-04-25T20:36:42.697710Z",
     "iopub.status.busy": "2024-04-25T20:36:42.695740Z",
     "iopub.status.idle": "2024-04-25T20:36:42.705144Z",
     "shell.execute_reply": "2024-04-25T20:36:42.703046Z",
     "shell.execute_reply.started": "2024-04-25T20:36:42.697644Z"
    }
   },
   "outputs": [],
   "source": [
    "run_id = 21"
   ]
  },
  {
   "cell_type": "markdown",
   "id": "8273be10",
   "metadata": {},
   "source": [
    "### Modelo y dato"
   ]
  },
  {
   "cell_type": "code",
   "execution_count": 11,
   "id": "d6bb0231",
   "metadata": {
    "execution": {
     "iopub.execute_input": "2024-04-25T20:36:46.466863Z",
     "iopub.status.busy": "2024-04-25T20:36:46.466224Z",
     "iopub.status.idle": "2024-04-25T20:36:46.620310Z",
     "shell.execute_reply": "2024-04-25T20:36:46.619427Z",
     "shell.execute_reply.started": "2024-04-25T20:36:46.466844Z"
    }
   },
   "outputs": [],
   "source": [
    "task= TabularClassificationTask()\n",
    "\n",
    "cc_path = \"/home/naabarca/.DashAI/datasets/breast/dataset\"\n",
    "cc_dataset = load_dataset(cc_path)\n",
    "cc_inputs_columns = list(cc_dataset['train'].features)[:-1]\n",
    "cc_outputs_columns = ['diagnosis']\n",
    "\n",
    "cc_dataset = task.prepare_for_task(\n",
    "    datasetdict=cc_dataset,\n",
    "    outputs_columns=cc_outputs_columns\n",
    ")\n",
    "cc_dataset = select_columns(cc_dataset, cc_inputs_columns, cc_outputs_columns)\n",
    "\n",
    "cc_path_i = \"/home/naabarca/.DashAI/datasets/breast_instances/dataset\"\n",
    "cc_dataset_i = load_dataset(cc_path_i)\n",
    "\n",
    "cc_dataset_i = task.prepare_for_task(\n",
    "    datasetdict=cc_dataset_i,\n",
    "    outputs_columns=cc_outputs_columns\n",
    ")\n",
    "cc_dataset_i = select_columns(cc_dataset_i, cc_inputs_columns, cc_outputs_columns)"
   ]
  },
  {
   "cell_type": "code",
   "execution_count": 15,
   "id": "0f949739-b9f0-4640-a7da-552ef7234961",
   "metadata": {
    "execution": {
     "iopub.execute_input": "2024-04-25T20:20:56.436064Z",
     "iopub.status.busy": "2024-04-25T20:20:56.435504Z",
     "iopub.status.idle": "2024-04-25T20:20:56.442472Z",
     "shell.execute_reply": "2024-04-25T20:20:56.441524Z",
     "shell.execute_reply.started": "2024-04-25T20:20:56.436043Z"
    }
   },
   "outputs": [
    {
     "data": {
      "text/plain": [
       "['M', 'B']"
      ]
     },
     "execution_count": 15,
     "metadata": {},
     "output_type": "execute_result"
    }
   ],
   "source": [
    "cc_dataset[1][\"test\"].features[\"diagnosis\"].names"
   ]
  },
  {
   "cell_type": "code",
   "execution_count": 17,
   "id": "e9a7686a-ae48-46a0-9771-2452b27cb431",
   "metadata": {
    "execution": {
     "iopub.execute_input": "2024-04-25T20:43:47.329891Z",
     "iopub.status.busy": "2024-04-25T20:43:47.329071Z",
     "iopub.status.idle": "2024-04-25T20:43:47.335514Z",
     "shell.execute_reply": "2024-04-25T20:43:47.334703Z",
     "shell.execute_reply.started": "2024-04-25T20:43:47.329866Z"
    }
   },
   "outputs": [
    {
     "data": {
      "text/plain": [
       "['M']"
      ]
     },
     "execution_count": 17,
     "metadata": {},
     "output_type": "execute_result"
    }
   ],
   "source": [
    "[cc_dataset[1][\"test\"].features[\"diagnosis\"]._int2str[1]]"
   ]
  },
  {
   "cell_type": "code",
   "execution_count": 33,
   "id": "12644990-267d-4f60-bb46-d9ea9a08f353",
   "metadata": {
    "execution": {
     "iopub.execute_input": "2024-04-25T16:15:27.288479Z",
     "iopub.status.busy": "2024-04-25T16:15:27.287775Z",
     "iopub.status.idle": "2024-04-25T16:15:27.293695Z",
     "shell.execute_reply": "2024-04-25T16:15:27.292687Z",
     "shell.execute_reply.started": "2024-04-25T16:15:27.288457Z"
    }
   },
   "outputs": [
    {
     "data": {
      "text/plain": [
       "DashAI.back.dataloaders.classes.dashai_dataset.DashAIDataset"
      ]
     },
     "execution_count": 33,
     "metadata": {},
     "output_type": "execute_result"
    }
   ],
   "source": [
    "type(cc_dataset[1][\"test\"])"
   ]
  },
  {
   "cell_type": "code",
   "execution_count": 18,
   "id": "23f1fc35",
   "metadata": {
    "execution": {
     "iopub.execute_input": "2024-04-25T20:44:11.378434Z",
     "iopub.status.busy": "2024-04-25T20:44:11.377835Z",
     "iopub.status.idle": "2024-04-25T20:44:11.450578Z",
     "shell.execute_reply": "2024-04-25T20:44:11.449816Z",
     "shell.execute_reply.started": "2024-04-25T20:44:11.378416Z"
    }
   },
   "outputs": [],
   "source": [
    "iris_path = \"/home/naabarca/.DashAI/datasets/iris/dataset\"\n",
    "iris_dataset = load_dataset(iris_path)\n",
    "iris_inputs_columns = ['SepalLengthCm', 'SepalWidthCm', 'PetalWidthCm']\n",
    "iris_outputs_columns = ['Species']\n",
    "\n",
    "iris_dataset = task.prepare_for_task(\n",
    "    datasetdict=iris_dataset,\n",
    "    outputs_columns=iris_outputs_columns\n",
    ")\n",
    "iris_dataset = select_columns(iris_dataset, iris_inputs_columns, iris_outputs_columns)\n",
    "\n",
    "iris_path_i = \"/home/naabarca/.DashAI/datasets/iris_instances/dataset\"\n",
    "iris_dataset_i = load_dataset(iris_path_i)\n",
    "\n",
    "iris_dataset_i = task.prepare_for_task(\n",
    "    datasetdict=iris_dataset_i,\n",
    "    outputs_columns=iris_outputs_columns\n",
    ")\n",
    "iris_dataset_i= select_columns(iris_dataset_i, iris_inputs_columns, iris_outputs_columns)"
   ]
  },
  {
   "cell_type": "code",
   "execution_count": 19,
   "id": "a15ca1e9-ff1f-42e5-8bcc-a34e3a64b300",
   "metadata": {
    "execution": {
     "iopub.execute_input": "2024-04-25T20:44:25.774612Z",
     "iopub.status.busy": "2024-04-25T20:44:25.773563Z",
     "iopub.status.idle": "2024-04-25T20:44:25.781400Z",
     "shell.execute_reply": "2024-04-25T20:44:25.780163Z",
     "shell.execute_reply.started": "2024-04-25T20:44:25.774581Z"
    }
   },
   "outputs": [
    {
     "data": {
      "text/plain": [
       "['Iris-setosa', 'Iris-versicolor', 'Iris-virginica']"
      ]
     },
     "execution_count": 19,
     "metadata": {},
     "output_type": "execute_result"
    }
   ],
   "source": [
    "iris_dataset[1][\"test\"].features[\"Species\"].names"
   ]
  },
  {
   "cell_type": "code",
   "execution_count": 24,
   "id": "8b07a70a-3ffc-4b2f-a6f7-782459f6ce1a",
   "metadata": {
    "execution": {
     "iopub.execute_input": "2024-04-25T20:46:34.850766Z",
     "iopub.status.busy": "2024-04-25T20:46:34.850255Z",
     "iopub.status.idle": "2024-04-25T20:46:34.857175Z",
     "shell.execute_reply": "2024-04-25T20:46:34.856325Z",
     "shell.execute_reply.started": "2024-04-25T20:46:34.850748Z"
    }
   },
   "outputs": [
    {
     "data": {
      "text/plain": [
       "dict_keys(['Iris-setosa', 'Iris-versicolor', 'Iris-virginica'])"
      ]
     },
     "execution_count": 24,
     "metadata": {},
     "output_type": "execute_result"
    }
   ],
   "source": [
    "iris_dataset[1][\"test\"].features[\"Species\"]._str2int.keys()"
   ]
  },
  {
   "cell_type": "code",
   "execution_count": 12,
   "id": "81bf68de",
   "metadata": {
    "execution": {
     "iopub.execute_input": "2024-04-25T20:37:02.718411Z",
     "iopub.status.busy": "2024-04-25T20:37:02.718117Z",
     "iopub.status.idle": "2024-04-25T20:37:02.725776Z",
     "shell.execute_reply": "2024-04-25T20:37:02.724552Z",
     "shell.execute_reply.started": "2024-04-25T20:37:02.718393Z"
    }
   },
   "outputs": [],
   "source": [
    "#model_class = KNeighborsClassifier()\n",
    "model_class = SVC()\n",
    "model_path = f\"/home/naabarca/.DashAI/runs/{run_id}\"\n",
    "model = model_class.load(model_path)"
   ]
  },
  {
   "cell_type": "markdown",
   "id": "5fc26c91",
   "metadata": {},
   "source": [
    "### PDP"
   ]
  },
  {
   "cell_type": "code",
   "execution_count": 13,
   "id": "6583212e",
   "metadata": {
    "execution": {
     "iopub.execute_input": "2024-04-25T20:37:05.281037Z",
     "iopub.status.busy": "2024-04-25T20:37:05.280461Z",
     "iopub.status.idle": "2024-04-25T20:37:06.411169Z",
     "shell.execute_reply": "2024-04-25T20:37:06.409934Z",
     "shell.execute_reply.started": "2024-04-25T20:37:05.281016Z"
    }
   },
   "outputs": [
    {
     "name": "stderr",
     "output_type": "stream",
     "text": [
      "/home/naabarca/rod/lib/python3.8/site-packages/sklearn/utils/_bunch.py:35: FutureWarning:\n",
      "\n",
      "Key: 'values', is deprecated in 1.3 and will be removed in 1.5. Please use 'grid_values' instead.\n",
      "\n",
      "/home/naabarca/rod/lib/python3.8/site-packages/sklearn/utils/_bunch.py:35: FutureWarning:\n",
      "\n",
      "Key: 'values', is deprecated in 1.3 and will be removed in 1.5. Please use 'grid_values' instead.\n",
      "\n",
      "/home/naabarca/rod/lib/python3.8/site-packages/sklearn/utils/_bunch.py:35: FutureWarning:\n",
      "\n",
      "Key: 'values', is deprecated in 1.3 and will be removed in 1.5. Please use 'grid_values' instead.\n",
      "\n",
      "/home/naabarca/rod/lib/python3.8/site-packages/sklearn/utils/_bunch.py:35: FutureWarning:\n",
      "\n",
      "Key: 'values', is deprecated in 1.3 and will be removed in 1.5. Please use 'grid_values' instead.\n",
      "\n",
      "/home/naabarca/rod/lib/python3.8/site-packages/sklearn/utils/_bunch.py:35: FutureWarning:\n",
      "\n",
      "Key: 'values', is deprecated in 1.3 and will be removed in 1.5. Please use 'grid_values' instead.\n",
      "\n",
      "/home/naabarca/rod/lib/python3.8/site-packages/sklearn/utils/_bunch.py:35: FutureWarning:\n",
      "\n",
      "Key: 'values', is deprecated in 1.3 and will be removed in 1.5. Please use 'grid_values' instead.\n",
      "\n",
      "/home/naabarca/rod/lib/python3.8/site-packages/sklearn/utils/_bunch.py:35: FutureWarning:\n",
      "\n",
      "Key: 'values', is deprecated in 1.3 and will be removed in 1.5. Please use 'grid_values' instead.\n",
      "\n",
      "/home/naabarca/rod/lib/python3.8/site-packages/sklearn/utils/_bunch.py:35: FutureWarning:\n",
      "\n",
      "Key: 'values', is deprecated in 1.3 and will be removed in 1.5. Please use 'grid_values' instead.\n",
      "\n",
      "/home/naabarca/rod/lib/python3.8/site-packages/sklearn/utils/_bunch.py:35: FutureWarning:\n",
      "\n",
      "Key: 'values', is deprecated in 1.3 and will be removed in 1.5. Please use 'grid_values' instead.\n",
      "\n",
      "/home/naabarca/rod/lib/python3.8/site-packages/sklearn/utils/_bunch.py:35: FutureWarning:\n",
      "\n",
      "Key: 'values', is deprecated in 1.3 and will be removed in 1.5. Please use 'grid_values' instead.\n",
      "\n",
      "/home/naabarca/rod/lib/python3.8/site-packages/sklearn/utils/_bunch.py:35: FutureWarning:\n",
      "\n",
      "Key: 'values', is deprecated in 1.3 and will be removed in 1.5. Please use 'grid_values' instead.\n",
      "\n",
      "/home/naabarca/rod/lib/python3.8/site-packages/sklearn/utils/_bunch.py:35: FutureWarning:\n",
      "\n",
      "Key: 'values', is deprecated in 1.3 and will be removed in 1.5. Please use 'grid_values' instead.\n",
      "\n",
      "/home/naabarca/rod/lib/python3.8/site-packages/sklearn/utils/_bunch.py:35: FutureWarning:\n",
      "\n",
      "Key: 'values', is deprecated in 1.3 and will be removed in 1.5. Please use 'grid_values' instead.\n",
      "\n",
      "/home/naabarca/rod/lib/python3.8/site-packages/sklearn/utils/_bunch.py:35: FutureWarning:\n",
      "\n",
      "Key: 'values', is deprecated in 1.3 and will be removed in 1.5. Please use 'grid_values' instead.\n",
      "\n",
      "/home/naabarca/rod/lib/python3.8/site-packages/sklearn/utils/_bunch.py:35: FutureWarning:\n",
      "\n",
      "Key: 'values', is deprecated in 1.3 and will be removed in 1.5. Please use 'grid_values' instead.\n",
      "\n",
      "/home/naabarca/rod/lib/python3.8/site-packages/sklearn/utils/_bunch.py:35: FutureWarning:\n",
      "\n",
      "Key: 'values', is deprecated in 1.3 and will be removed in 1.5. Please use 'grid_values' instead.\n",
      "\n",
      "/home/naabarca/rod/lib/python3.8/site-packages/sklearn/utils/_bunch.py:35: FutureWarning:\n",
      "\n",
      "Key: 'values', is deprecated in 1.3 and will be removed in 1.5. Please use 'grid_values' instead.\n",
      "\n",
      "/home/naabarca/rod/lib/python3.8/site-packages/sklearn/utils/_bunch.py:35: FutureWarning:\n",
      "\n",
      "Key: 'values', is deprecated in 1.3 and will be removed in 1.5. Please use 'grid_values' instead.\n",
      "\n",
      "/home/naabarca/rod/lib/python3.8/site-packages/sklearn/utils/_bunch.py:35: FutureWarning:\n",
      "\n",
      "Key: 'values', is deprecated in 1.3 and will be removed in 1.5. Please use 'grid_values' instead.\n",
      "\n",
      "/home/naabarca/rod/lib/python3.8/site-packages/sklearn/utils/_bunch.py:35: FutureWarning:\n",
      "\n",
      "Key: 'values', is deprecated in 1.3 and will be removed in 1.5. Please use 'grid_values' instead.\n",
      "\n",
      "/home/naabarca/rod/lib/python3.8/site-packages/sklearn/utils/_bunch.py:35: FutureWarning:\n",
      "\n",
      "Key: 'values', is deprecated in 1.3 and will be removed in 1.5. Please use 'grid_values' instead.\n",
      "\n",
      "/home/naabarca/rod/lib/python3.8/site-packages/sklearn/utils/_bunch.py:35: FutureWarning:\n",
      "\n",
      "Key: 'values', is deprecated in 1.3 and will be removed in 1.5. Please use 'grid_values' instead.\n",
      "\n",
      "/home/naabarca/rod/lib/python3.8/site-packages/sklearn/utils/_bunch.py:35: FutureWarning:\n",
      "\n",
      "Key: 'values', is deprecated in 1.3 and will be removed in 1.5. Please use 'grid_values' instead.\n",
      "\n",
      "/home/naabarca/rod/lib/python3.8/site-packages/sklearn/utils/_bunch.py:35: FutureWarning:\n",
      "\n",
      "Key: 'values', is deprecated in 1.3 and will be removed in 1.5. Please use 'grid_values' instead.\n",
      "\n",
      "/home/naabarca/rod/lib/python3.8/site-packages/sklearn/utils/_bunch.py:35: FutureWarning:\n",
      "\n",
      "Key: 'values', is deprecated in 1.3 and will be removed in 1.5. Please use 'grid_values' instead.\n",
      "\n",
      "/home/naabarca/rod/lib/python3.8/site-packages/sklearn/utils/_bunch.py:35: FutureWarning:\n",
      "\n",
      "Key: 'values', is deprecated in 1.3 and will be removed in 1.5. Please use 'grid_values' instead.\n",
      "\n",
      "/home/naabarca/rod/lib/python3.8/site-packages/sklearn/utils/_bunch.py:35: FutureWarning:\n",
      "\n",
      "Key: 'values', is deprecated in 1.3 and will be removed in 1.5. Please use 'grid_values' instead.\n",
      "\n",
      "/home/naabarca/rod/lib/python3.8/site-packages/sklearn/utils/_bunch.py:35: FutureWarning:\n",
      "\n",
      "Key: 'values', is deprecated in 1.3 and will be removed in 1.5. Please use 'grid_values' instead.\n",
      "\n",
      "/home/naabarca/rod/lib/python3.8/site-packages/sklearn/utils/_bunch.py:35: FutureWarning:\n",
      "\n",
      "Key: 'values', is deprecated in 1.3 and will be removed in 1.5. Please use 'grid_values' instead.\n",
      "\n",
      "/home/naabarca/rod/lib/python3.8/site-packages/sklearn/utils/_bunch.py:35: FutureWarning:\n",
      "\n",
      "Key: 'values', is deprecated in 1.3 and will be removed in 1.5. Please use 'grid_values' instead.\n",
      "\n"
     ]
    },
    {
     "data": {
      "application/vnd.plotly.v1+json": {
       "config": {
        "plotlyServerURL": "https://plot.ly"
       },
       "data": [
        {
         "hovertemplate": "Feature value=%{x}<br>y=%{y}<extra></extra>",
         "legendgroup": "",
         "line": {
          "color": "#636efa",
          "dash": "solid"
         },
         "marker": {
          "symbol": "circle"
         },
         "mode": "lines",
         "name": "",
         "orientation": "v",
         "showlegend": false,
         "type": "scatter",
         "x": [
          307.56,
          430.975,
          554.39,
          677.805,
          801.22,
          924.635,
          1048.05,
          1171.465,
          1294.88,
          1418.295,
          1541.71,
          1665.125,
          1788.54,
          1911.955,
          2035.37
         ],
         "xaxis": "x",
         "y": [
          0.019,
          0.03,
          0.064,
          0.173,
          0.459,
          0.805,
          0.954,
          0.989,
          0.998,
          1,
          1,
          1,
          1,
          1,
          1
         ],
         "yaxis": "y"
        }
       ],
       "layout": {
        "annotations": [
         {
          "align": "center",
          "arrowsize": 0.3,
          "arrowwidth": 0.1,
          "borderwidth": 2,
          "font": {
           "size": 12
          },
          "showarrow": false,
          "text": "This graph shows the marginal effect of the selected feature on the <br> probability predicted by the model for the selected class",
          "x": 0.5,
          "xanchor": "center",
          "xref": "paper",
          "y": -0.35,
          "yanchor": "bottom",
          "yref": "paper"
         }
        ],
        "autosize": true,
        "legend": {
         "tracegroupgap": 0
        },
        "margin": {
         "t": 60
        },
        "template": {
         "data": {
          "bar": [
           {
            "error_x": {
             "color": "#2a3f5f"
            },
            "error_y": {
             "color": "#2a3f5f"
            },
            "marker": {
             "line": {
              "color": "#E5ECF6",
              "width": 0.5
             },
             "pattern": {
              "fillmode": "overlay",
              "size": 10,
              "solidity": 0.2
             }
            },
            "type": "bar"
           }
          ],
          "barpolar": [
           {
            "marker": {
             "line": {
              "color": "#E5ECF6",
              "width": 0.5
             },
             "pattern": {
              "fillmode": "overlay",
              "size": 10,
              "solidity": 0.2
             }
            },
            "type": "barpolar"
           }
          ],
          "carpet": [
           {
            "aaxis": {
             "endlinecolor": "#2a3f5f",
             "gridcolor": "white",
             "linecolor": "white",
             "minorgridcolor": "white",
             "startlinecolor": "#2a3f5f"
            },
            "baxis": {
             "endlinecolor": "#2a3f5f",
             "gridcolor": "white",
             "linecolor": "white",
             "minorgridcolor": "white",
             "startlinecolor": "#2a3f5f"
            },
            "type": "carpet"
           }
          ],
          "choropleth": [
           {
            "colorbar": {
             "outlinewidth": 0,
             "ticks": ""
            },
            "type": "choropleth"
           }
          ],
          "contour": [
           {
            "colorbar": {
             "outlinewidth": 0,
             "ticks": ""
            },
            "colorscale": [
             [
              0,
              "#0d0887"
             ],
             [
              0.1111111111111111,
              "#46039f"
             ],
             [
              0.2222222222222222,
              "#7201a8"
             ],
             [
              0.3333333333333333,
              "#9c179e"
             ],
             [
              0.4444444444444444,
              "#bd3786"
             ],
             [
              0.5555555555555556,
              "#d8576b"
             ],
             [
              0.6666666666666666,
              "#ed7953"
             ],
             [
              0.7777777777777778,
              "#fb9f3a"
             ],
             [
              0.8888888888888888,
              "#fdca26"
             ],
             [
              1,
              "#f0f921"
             ]
            ],
            "type": "contour"
           }
          ],
          "contourcarpet": [
           {
            "colorbar": {
             "outlinewidth": 0,
             "ticks": ""
            },
            "type": "contourcarpet"
           }
          ],
          "heatmap": [
           {
            "colorbar": {
             "outlinewidth": 0,
             "ticks": ""
            },
            "colorscale": [
             [
              0,
              "#0d0887"
             ],
             [
              0.1111111111111111,
              "#46039f"
             ],
             [
              0.2222222222222222,
              "#7201a8"
             ],
             [
              0.3333333333333333,
              "#9c179e"
             ],
             [
              0.4444444444444444,
              "#bd3786"
             ],
             [
              0.5555555555555556,
              "#d8576b"
             ],
             [
              0.6666666666666666,
              "#ed7953"
             ],
             [
              0.7777777777777778,
              "#fb9f3a"
             ],
             [
              0.8888888888888888,
              "#fdca26"
             ],
             [
              1,
              "#f0f921"
             ]
            ],
            "type": "heatmap"
           }
          ],
          "heatmapgl": [
           {
            "colorbar": {
             "outlinewidth": 0,
             "ticks": ""
            },
            "colorscale": [
             [
              0,
              "#0d0887"
             ],
             [
              0.1111111111111111,
              "#46039f"
             ],
             [
              0.2222222222222222,
              "#7201a8"
             ],
             [
              0.3333333333333333,
              "#9c179e"
             ],
             [
              0.4444444444444444,
              "#bd3786"
             ],
             [
              0.5555555555555556,
              "#d8576b"
             ],
             [
              0.6666666666666666,
              "#ed7953"
             ],
             [
              0.7777777777777778,
              "#fb9f3a"
             ],
             [
              0.8888888888888888,
              "#fdca26"
             ],
             [
              1,
              "#f0f921"
             ]
            ],
            "type": "heatmapgl"
           }
          ],
          "histogram": [
           {
            "marker": {
             "pattern": {
              "fillmode": "overlay",
              "size": 10,
              "solidity": 0.2
             }
            },
            "type": "histogram"
           }
          ],
          "histogram2d": [
           {
            "colorbar": {
             "outlinewidth": 0,
             "ticks": ""
            },
            "colorscale": [
             [
              0,
              "#0d0887"
             ],
             [
              0.1111111111111111,
              "#46039f"
             ],
             [
              0.2222222222222222,
              "#7201a8"
             ],
             [
              0.3333333333333333,
              "#9c179e"
             ],
             [
              0.4444444444444444,
              "#bd3786"
             ],
             [
              0.5555555555555556,
              "#d8576b"
             ],
             [
              0.6666666666666666,
              "#ed7953"
             ],
             [
              0.7777777777777778,
              "#fb9f3a"
             ],
             [
              0.8888888888888888,
              "#fdca26"
             ],
             [
              1,
              "#f0f921"
             ]
            ],
            "type": "histogram2d"
           }
          ],
          "histogram2dcontour": [
           {
            "colorbar": {
             "outlinewidth": 0,
             "ticks": ""
            },
            "colorscale": [
             [
              0,
              "#0d0887"
             ],
             [
              0.1111111111111111,
              "#46039f"
             ],
             [
              0.2222222222222222,
              "#7201a8"
             ],
             [
              0.3333333333333333,
              "#9c179e"
             ],
             [
              0.4444444444444444,
              "#bd3786"
             ],
             [
              0.5555555555555556,
              "#d8576b"
             ],
             [
              0.6666666666666666,
              "#ed7953"
             ],
             [
              0.7777777777777778,
              "#fb9f3a"
             ],
             [
              0.8888888888888888,
              "#fdca26"
             ],
             [
              1,
              "#f0f921"
             ]
            ],
            "type": "histogram2dcontour"
           }
          ],
          "mesh3d": [
           {
            "colorbar": {
             "outlinewidth": 0,
             "ticks": ""
            },
            "type": "mesh3d"
           }
          ],
          "parcoords": [
           {
            "line": {
             "colorbar": {
              "outlinewidth": 0,
              "ticks": ""
             }
            },
            "type": "parcoords"
           }
          ],
          "pie": [
           {
            "automargin": true,
            "type": "pie"
           }
          ],
          "scatter": [
           {
            "fillpattern": {
             "fillmode": "overlay",
             "size": 10,
             "solidity": 0.2
            },
            "type": "scatter"
           }
          ],
          "scatter3d": [
           {
            "line": {
             "colorbar": {
              "outlinewidth": 0,
              "ticks": ""
             }
            },
            "marker": {
             "colorbar": {
              "outlinewidth": 0,
              "ticks": ""
             }
            },
            "type": "scatter3d"
           }
          ],
          "scattercarpet": [
           {
            "marker": {
             "colorbar": {
              "outlinewidth": 0,
              "ticks": ""
             }
            },
            "type": "scattercarpet"
           }
          ],
          "scattergeo": [
           {
            "marker": {
             "colorbar": {
              "outlinewidth": 0,
              "ticks": ""
             }
            },
            "type": "scattergeo"
           }
          ],
          "scattergl": [
           {
            "marker": {
             "colorbar": {
              "outlinewidth": 0,
              "ticks": ""
             }
            },
            "type": "scattergl"
           }
          ],
          "scattermapbox": [
           {
            "marker": {
             "colorbar": {
              "outlinewidth": 0,
              "ticks": ""
             }
            },
            "type": "scattermapbox"
           }
          ],
          "scatterpolar": [
           {
            "marker": {
             "colorbar": {
              "outlinewidth": 0,
              "ticks": ""
             }
            },
            "type": "scatterpolar"
           }
          ],
          "scatterpolargl": [
           {
            "marker": {
             "colorbar": {
              "outlinewidth": 0,
              "ticks": ""
             }
            },
            "type": "scatterpolargl"
           }
          ],
          "scatterternary": [
           {
            "marker": {
             "colorbar": {
              "outlinewidth": 0,
              "ticks": ""
             }
            },
            "type": "scatterternary"
           }
          ],
          "surface": [
           {
            "colorbar": {
             "outlinewidth": 0,
             "ticks": ""
            },
            "colorscale": [
             [
              0,
              "#0d0887"
             ],
             [
              0.1111111111111111,
              "#46039f"
             ],
             [
              0.2222222222222222,
              "#7201a8"
             ],
             [
              0.3333333333333333,
              "#9c179e"
             ],
             [
              0.4444444444444444,
              "#bd3786"
             ],
             [
              0.5555555555555556,
              "#d8576b"
             ],
             [
              0.6666666666666666,
              "#ed7953"
             ],
             [
              0.7777777777777778,
              "#fb9f3a"
             ],
             [
              0.8888888888888888,
              "#fdca26"
             ],
             [
              1,
              "#f0f921"
             ]
            ],
            "type": "surface"
           }
          ],
          "table": [
           {
            "cells": {
             "fill": {
              "color": "#EBF0F8"
             },
             "line": {
              "color": "white"
             }
            },
            "header": {
             "fill": {
              "color": "#C8D4E3"
             },
             "line": {
              "color": "white"
             }
            },
            "type": "table"
           }
          ]
         },
         "layout": {
          "annotationdefaults": {
           "arrowcolor": "#2a3f5f",
           "arrowhead": 0,
           "arrowwidth": 1
          },
          "autotypenumbers": "strict",
          "coloraxis": {
           "colorbar": {
            "outlinewidth": 0,
            "ticks": ""
           }
          },
          "colorscale": {
           "diverging": [
            [
             0,
             "#8e0152"
            ],
            [
             0.1,
             "#c51b7d"
            ],
            [
             0.2,
             "#de77ae"
            ],
            [
             0.3,
             "#f1b6da"
            ],
            [
             0.4,
             "#fde0ef"
            ],
            [
             0.5,
             "#f7f7f7"
            ],
            [
             0.6,
             "#e6f5d0"
            ],
            [
             0.7,
             "#b8e186"
            ],
            [
             0.8,
             "#7fbc41"
            ],
            [
             0.9,
             "#4d9221"
            ],
            [
             1,
             "#276419"
            ]
           ],
           "sequential": [
            [
             0,
             "#0d0887"
            ],
            [
             0.1111111111111111,
             "#46039f"
            ],
            [
             0.2222222222222222,
             "#7201a8"
            ],
            [
             0.3333333333333333,
             "#9c179e"
            ],
            [
             0.4444444444444444,
             "#bd3786"
            ],
            [
             0.5555555555555556,
             "#d8576b"
            ],
            [
             0.6666666666666666,
             "#ed7953"
            ],
            [
             0.7777777777777778,
             "#fb9f3a"
            ],
            [
             0.8888888888888888,
             "#fdca26"
            ],
            [
             1,
             "#f0f921"
            ]
           ],
           "sequentialminus": [
            [
             0,
             "#0d0887"
            ],
            [
             0.1111111111111111,
             "#46039f"
            ],
            [
             0.2222222222222222,
             "#7201a8"
            ],
            [
             0.3333333333333333,
             "#9c179e"
            ],
            [
             0.4444444444444444,
             "#bd3786"
            ],
            [
             0.5555555555555556,
             "#d8576b"
            ],
            [
             0.6666666666666666,
             "#ed7953"
            ],
            [
             0.7777777777777778,
             "#fb9f3a"
            ],
            [
             0.8888888888888888,
             "#fdca26"
            ],
            [
             1,
             "#f0f921"
            ]
           ]
          },
          "colorway": [
           "#636efa",
           "#EF553B",
           "#00cc96",
           "#ab63fa",
           "#FFA15A",
           "#19d3f3",
           "#FF6692",
           "#B6E880",
           "#FF97FF",
           "#FECB52"
          ],
          "font": {
           "color": "#2a3f5f"
          },
          "geo": {
           "bgcolor": "white",
           "lakecolor": "white",
           "landcolor": "#E5ECF6",
           "showlakes": true,
           "showland": true,
           "subunitcolor": "white"
          },
          "hoverlabel": {
           "align": "left"
          },
          "hovermode": "closest",
          "mapbox": {
           "style": "light"
          },
          "paper_bgcolor": "white",
          "plot_bgcolor": "#E5ECF6",
          "polar": {
           "angularaxis": {
            "gridcolor": "white",
            "linecolor": "white",
            "ticks": ""
           },
           "bgcolor": "#E5ECF6",
           "radialaxis": {
            "gridcolor": "white",
            "linecolor": "white",
            "ticks": ""
           }
          },
          "scene": {
           "xaxis": {
            "backgroundcolor": "#E5ECF6",
            "gridcolor": "white",
            "gridwidth": 2,
            "linecolor": "white",
            "showbackground": true,
            "ticks": "",
            "zerolinecolor": "white"
           },
           "yaxis": {
            "backgroundcolor": "#E5ECF6",
            "gridcolor": "white",
            "gridwidth": 2,
            "linecolor": "white",
            "showbackground": true,
            "ticks": "",
            "zerolinecolor": "white"
           },
           "zaxis": {
            "backgroundcolor": "#E5ECF6",
            "gridcolor": "white",
            "gridwidth": 2,
            "linecolor": "white",
            "showbackground": true,
            "ticks": "",
            "zerolinecolor": "white"
           }
          },
          "shapedefaults": {
           "line": {
            "color": "#2a3f5f"
           }
          },
          "ternary": {
           "aaxis": {
            "gridcolor": "white",
            "linecolor": "white",
            "ticks": ""
           },
           "baxis": {
            "gridcolor": "white",
            "linecolor": "white",
            "ticks": ""
           },
           "bgcolor": "#E5ECF6",
           "caxis": {
            "gridcolor": "white",
            "linecolor": "white",
            "ticks": ""
           }
          },
          "title": {
           "x": 0.05
          },
          "xaxis": {
           "automargin": true,
           "gridcolor": "white",
           "linecolor": "white",
           "ticks": "",
           "title": {
            "standoff": 15
           },
           "zerolinecolor": "white",
           "zerolinewidth": 2
          },
          "yaxis": {
           "automargin": true,
           "gridcolor": "white",
           "linecolor": "white",
           "ticks": "",
           "title": {
            "standoff": 15
           },
           "zerolinecolor": "white",
           "zerolinewidth": 2
          }
         }
        },
        "updatemenus": [
         {
          "active": 23,
          "buttons": [
           {
            "args": [
             {
              "x": [
               [
                8.196,
                8.671,
                8.734,
                8.888,
                9.042,
                9.397,
                10.17,
                10.26,
                10.48,
                10.51,
                10.75,
                10.88,
                11.04,
                11.08,
                11.13,
                11.15,
                11.29,
                11.37,
                11.43,
                11.47,
                11.52,
                11.62,
                11.99,
                12.03,
                12.18,
                12.25,
                12.31,
                12.45,
                12.46,
                12.56,
                12.67,
                12.7,
                12.76,
                12.81,
                12.83,
                12.89,
                12.94,
                12.96,
                12.98,
                12.99,
                13,
                13.03,
                13.11,
                13.27,
                13.37,
                13.43,
                13.61,
                13.69,
                13.71,
                13.77,
                13.85,
                14.03,
                14.11,
                14.22,
                14.42,
                14.53,
                14.54,
                14.58,
                14.61,
                14.62,
                14.86,
                14.9,
                14.99,
                15.08,
                15.1,
                15.12,
                15.78,
                16.07,
                16.26,
                16.5,
                16.84,
                17.42,
                17.46,
                18.01,
                18.25,
                18.31,
                18.45,
                19.17,
                19.21,
                19.45,
                19.53,
                19.68,
                20.18,
                20.2,
                20.29,
                20.44,
                20.51,
                20.58,
                20.94,
                21.37,
                21.75,
                22.27,
                27.42
               ]
              ],
              "y": [
               [
                0.405,
                0.405,
                0.405,
                0.405,
                0.405,
                0.405,
                0.405,
                0.405,
                0.405,
                0.405,
                0.405,
                0.405,
                0.405,
                0.405,
                0.405,
                0.405,
                0.405,
                0.405,
                0.405,
                0.405,
                0.405,
                0.405,
                0.405,
                0.405,
                0.405,
                0.405,
                0.405,
                0.405,
                0.405,
                0.405,
                0.405,
                0.405,
                0.405,
                0.405,
                0.405,
                0.405,
                0.405,
                0.405,
                0.405,
                0.405,
                0.405,
                0.405,
                0.405,
                0.405,
                0.405,
                0.405,
                0.405,
                0.405,
                0.405,
                0.405,
                0.405,
                0.405,
                0.405,
                0.405,
                0.405,
                0.405,
                0.405,
                0.405,
                0.405,
                0.405,
                0.405,
                0.405,
                0.405,
                0.405,
                0.405,
                0.405,
                0.405,
                0.405,
                0.405,
                0.405,
                0.405,
                0.405,
                0.405,
                0.405,
                0.405,
                0.405,
                0.405,
                0.405,
                0.405,
                0.405,
                0.405,
                0.405,
                0.405,
                0.405,
                0.405,
                0.405,
                0.405,
                0.405,
                0.405,
                0.405,
                0.405,
                0.405,
                0.405
               ]
              ]
             }
            ],
            "label": "Feature: radius_mean - Class: B",
            "method": "restyle"
           },
           {
            "args": [
             {
              "x": [
               [
                13.068,
                14.035,
                15.001,
                15.968,
                16.935,
                17.901,
                18.868,
                19.834,
                20.801,
                21.767,
                22.734,
                23.701,
                24.667,
                25.634,
                26.6
               ]
              ],
              "y": [
               [
                0.405,
                0.405,
                0.405,
                0.405,
                0.405,
                0.405,
                0.405,
                0.405,
                0.405,
                0.405,
                0.405,
                0.405,
                0.405,
                0.405,
                0.405
               ]
              ]
             }
            ],
            "label": "Feature: texture_mean - Class: B",
            "method": "restyle"
           },
           {
            "args": [
             {
              "x": [
               [
                59.881,
                65.414,
                70.947,
                76.48,
                82.013,
                87.546,
                93.079,
                98.612,
                104.145,
                109.677,
                115.21,
                120.743,
                126.276,
                131.809,
                137.342
               ]
              ],
              "y": [
               [
                0.405,
                0.405,
                0.405,
                0.405,
                0.405,
                0.405,
                0.405,
                0.405,
                0.405,
                0.405,
                0.405,
                0.405,
                0.406,
                0.406,
                0.406
               ]
              ]
             }
            ],
            "label": "Feature: perimeter_mean - Class: B",
            "method": "restyle"
           },
           {
            "args": [
             {
              "x": [
               [
                254.463,
                332.398,
                410.333,
                488.267,
                566.202,
                644.137,
                722.072,
                800.007,
                877.941,
                955.876,
                1033.811,
                1111.746,
                1189.68,
                1267.615,
                1345.55
               ]
              ],
              "y": [
               [
                0.436,
                0.423,
                0.414,
                0.407,
                0.403,
                0.4,
                0.4,
                0.403,
                0.407,
                0.414,
                0.423,
                0.435,
                0.45,
                0.469,
                0.492
               ]
              ]
             }
            ],
            "label": "Feature: area_mean - Class: B",
            "method": "restyle"
           },
           {
            "args": [
             {
              "x": [
               [
                0.077,
                0.08,
                0.083,
                0.086,
                0.089,
                0.092,
                0.095,
                0.098,
                0.101,
                0.104,
                0.107,
                0.11,
                0.113,
                0.116,
                0.119
               ]
              ],
              "y": [
               [
                0.405,
                0.405,
                0.405,
                0.405,
                0.405,
                0.405,
                0.405,
                0.405,
                0.405,
                0.405,
                0.405,
                0.405,
                0.405,
                0.405,
                0.405
               ]
              ]
             }
            ],
            "label": "Feature: smoothness_mean - Class: B",
            "method": "restyle"
           },
           {
            "args": [
             {
              "x": [
               [
                0.038,
                0.05,
                0.061,
                0.073,
                0.084,
                0.095,
                0.107,
                0.118,
                0.129,
                0.141,
                0.152,
                0.163,
                0.175,
                0.186,
                0.198
               ]
              ],
              "y": [
               [
                0.405,
                0.405,
                0.405,
                0.405,
                0.405,
                0.405,
                0.405,
                0.405,
                0.405,
                0.405,
                0.405,
                0.405,
                0.405,
                0.405,
                0.405
               ]
              ]
             }
            ],
            "label": "Feature: compactness_mean - Class: B",
            "method": "restyle"
           },
           {
            "args": [
             {
              "x": [
               [
                0.011,
                0.026,
                0.041,
                0.056,
                0.071,
                0.086,
                0.101,
                0.115,
                0.13,
                0.145,
                0.16,
                0.175,
                0.19,
                0.205,
                0.22
               ]
              ],
              "y": [
               [
                0.405,
                0.405,
                0.405,
                0.405,
                0.405,
                0.405,
                0.405,
                0.405,
                0.405,
                0.405,
                0.405,
                0.405,
                0.405,
                0.405,
                0.405
               ]
              ]
             }
            ],
            "label": "Feature: concavity_mean - Class: B",
            "method": "restyle"
           },
           {
            "args": [
             {
              "x": [
               [
                0.006,
                0.015,
                0.023,
                0.032,
                0.04,
                0.049,
                0.057,
                0.066,
                0.075,
                0.083,
                0.092,
                0.1,
                0.109,
                0.117,
                0.126
               ]
              ],
              "y": [
               [
                0.405,
                0.405,
                0.405,
                0.405,
                0.405,
                0.405,
                0.405,
                0.405,
                0.405,
                0.405,
                0.405,
                0.405,
                0.405,
                0.405,
                0.405
               ]
              ]
             }
            ],
            "label": "Feature: concave points_mean - Class: B",
            "method": "restyle"
           },
           {
            "args": [
             {
              "x": [
               [
                0.139,
                0.145,
                0.152,
                0.159,
                0.165,
                0.172,
                0.179,
                0.185,
                0.192,
                0.199,
                0.205,
                0.212,
                0.218,
                0.225,
                0.232
               ]
              ],
              "y": [
               [
                0.405,
                0.405,
                0.405,
                0.405,
                0.405,
                0.405,
                0.405,
                0.405,
                0.405,
                0.405,
                0.405,
                0.405,
                0.405,
                0.405,
                0.405
               ]
              ]
             }
            ],
            "label": "Feature: symmetry_mean - Class: B",
            "method": "restyle"
           },
           {
            "args": [
             {
              "x": [
               [
                0.054,
                0.056,
                0.057,
                0.059,
                0.06,
                0.062,
                0.063,
                0.065,
                0.066,
                0.068,
                0.069,
                0.071,
                0.073,
                0.074,
                0.076
               ]
              ],
              "y": [
               [
                0.405,
                0.405,
                0.405,
                0.405,
                0.405,
                0.405,
                0.405,
                0.405,
                0.405,
                0.405,
                0.405,
                0.405,
                0.405,
                0.405,
                0.405
               ]
              ]
             }
            ],
            "label": "Feature: fractal_dimension_mean - Class: B",
            "method": "restyle"
           },
           {
            "args": [
             {
              "x": [
               [
                0.152,
                0.212,
                0.272,
                0.332,
                0.392,
                0.452,
                0.512,
                0.572,
                0.632,
                0.692,
                0.753,
                0.813,
                0.873,
                0.933,
                0.993
               ]
              ],
              "y": [
               [
                0.405,
                0.405,
                0.405,
                0.405,
                0.405,
                0.405,
                0.405,
                0.405,
                0.405,
                0.405,
                0.405,
                0.405,
                0.405,
                0.405,
                0.405
               ]
              ]
             }
            ],
            "label": "Feature: radius_se - Class: B",
            "method": "restyle"
           },
           {
            "args": [
             {
              "x": [
               [
                0.533,
                0.653,
                0.773,
                0.893,
                1.013,
                1.133,
                1.253,
                1.373,
                1.493,
                1.613,
                1.733,
                1.853,
                1.973,
                2.093,
                2.213
               ]
              ],
              "y": [
               [
                0.405,
                0.405,
                0.405,
                0.405,
                0.405,
                0.405,
                0.405,
                0.405,
                0.405,
                0.405,
                0.405,
                0.405,
                0.405,
                0.405,
                0.405
               ]
              ]
             }
            ],
            "label": "Feature: texture_se - Class: B",
            "method": "restyle"
           },
           {
            "args": [
             {
              "x": [
               [
                1.123,
                1.556,
                1.99,
                2.423,
                2.857,
                3.29,
                3.724,
                4.158,
                4.591,
                5.025,
                5.458,
                5.892,
                6.325,
                6.759,
                7.192
               ]
              ],
              "y": [
               [
                0.405,
                0.405,
                0.405,
                0.405,
                0.405,
                0.405,
                0.405,
                0.405,
                0.405,
                0.405,
                0.405,
                0.405,
                0.405,
                0.405,
                0.405
               ]
              ]
             }
            ],
            "label": "Feature: perimeter_se - Class: B",
            "method": "restyle"
           },
           {
            "args": [
             {
              "x": [
               [
                11.36,
                19.557,
                27.753,
                35.95,
                44.146,
                52.343,
                60.539,
                68.736,
                76.933,
                85.129,
                93.326,
                101.522,
                109.719,
                117.915,
                126.112
               ]
              ],
              "y": [
               [
                0.404,
                0.404,
                0.405,
                0.406,
                0.406,
                0.407,
                0.408,
                0.408,
                0.409,
                0.41,
                0.411,
                0.411,
                0.412,
                0.413,
                0.414
               ]
              ]
             }
            ],
            "label": "Feature: area_se - Class: B",
            "method": "restyle"
           },
           {
            "args": [
             {
              "x": [
               [
                0.004,
                0.005,
                0.006,
                0.006,
                0.007,
                0.008,
                0.009,
                0.01,
                0.01,
                0.011,
                0.012,
                0.013,
                0.013,
                0.014,
                0.015
               ]
              ],
              "y": [
               [
                0.405,
                0.405,
                0.405,
                0.405,
                0.405,
                0.405,
                0.405,
                0.405,
                0.405,
                0.405,
                0.405,
                0.405,
                0.405,
                0.405,
                0.405
               ]
              ]
             }
            ],
            "label": "Feature: smoothness_se - Class: B",
            "method": "restyle"
           },
           {
            "args": [
             {
              "x": [
               [
                0.006,
                0.011,
                0.015,
                0.02,
                0.025,
                0.029,
                0.034,
                0.039,
                0.043,
                0.048,
                0.053,
                0.057,
                0.062,
                0.067,
                0.071
               ]
              ],
              "y": [
               [
                0.405,
                0.405,
                0.405,
                0.405,
                0.405,
                0.405,
                0.405,
                0.405,
                0.405,
                0.405,
                0.405,
                0.405,
                0.405,
                0.405,
                0.405
               ]
              ]
             }
            ],
            "label": "Feature: compactness_se - Class: B",
            "method": "restyle"
           },
           {
            "args": [
             {
              "x": [
               [
                0.005,
                0.012,
                0.018,
                0.024,
                0.03,
                0.037,
                0.043,
                0.049,
                0.055,
                0.061,
                0.068,
                0.074,
                0.08,
                0.086,
                0.093
               ]
              ],
              "y": [
               [
                0.405,
                0.405,
                0.405,
                0.405,
                0.405,
                0.405,
                0.405,
                0.405,
                0.405,
                0.405,
                0.405,
                0.405,
                0.405,
                0.405,
                0.405
               ]
              ]
             }
            ],
            "label": "Feature: concavity_se - Class: B",
            "method": "restyle"
           },
           {
            "args": [
             {
              "x": [
               [
                0.005,
                0.006,
                0.008,
                0.009,
                0.011,
                0.012,
                0.014,
                0.015,
                0.017,
                0.018,
                0.02,
                0.021,
                0.023,
                0.024,
                0.026
               ]
              ],
              "y": [
               [
                0.405,
                0.405,
                0.405,
                0.405,
                0.405,
                0.405,
                0.405,
                0.405,
                0.405,
                0.405,
                0.405,
                0.405,
                0.405,
                0.405,
                0.405
               ]
              ]
             }
            ],
            "label": "Feature: concave points_se - Class: B",
            "method": "restyle"
           },
           {
            "args": [
             {
              "x": [
               [
                0.012,
                0.014,
                0.015,
                0.017,
                0.019,
                0.021,
                0.022,
                0.024,
                0.026,
                0.028,
                0.029,
                0.031,
                0.033,
                0.034,
                0.036
               ]
              ],
              "y": [
               [
                0.405,
                0.405,
                0.405,
                0.405,
                0.405,
                0.405,
                0.405,
                0.405,
                0.405,
                0.405,
                0.405,
                0.405,
                0.405,
                0.405,
                0.405
               ]
              ]
             }
            ],
            "label": "Feature: symmetry_se - Class: B",
            "method": "restyle"
           },
           {
            "args": [
             {
              "x": [
               [
                0.001,
                0.002,
                0.003,
                0.004,
                0.005,
                0.006,
                0.007,
                0.008,
                0.01,
                0.013,
                0.022
               ]
              ],
              "y": [
               [
                0.405,
                0.405,
                0.405,
                0.405,
                0.405,
                0.405,
                0.405,
                0.405,
                0.405,
                0.405,
                0.405
               ]
              ]
             }
            ],
            "label": "Feature: fractal_dimension_se - Class: B",
            "method": "restyle"
           },
           {
            "args": [
             {
              "x": [
               [
                10.105,
                11.229,
                12.352,
                13.476,
                14.6,
                15.723,
                16.847,
                17.97,
                19.094,
                20.218,
                21.341,
                22.465,
                23.588,
                24.712,
                25.836
               ]
              ],
              "y": [
               [
                0.405,
                0.405,
                0.405,
                0.405,
                0.405,
                0.405,
                0.405,
                0.405,
                0.405,
                0.405,
                0.405,
                0.405,
                0.405,
                0.405,
                0.405
               ]
              ]
             }
            ],
            "label": "Feature: radius_worst - Class: B",
            "method": "restyle"
           },
           {
            "args": [
             {
              "x": [
               [
                16.37,
                17.702,
                19.034,
                20.366,
                21.698,
                23.03,
                24.363,
                25.695,
                27.027,
                28.359,
                29.691,
                31.023,
                32.356,
                33.688,
                35.02
               ]
              ],
              "y": [
               [
                0.404,
                0.405,
                0.405,
                0.405,
                0.405,
                0.405,
                0.405,
                0.405,
                0.405,
                0.405,
                0.405,
                0.405,
                0.405,
                0.405,
                0.406
               ]
              ]
             }
            ],
            "label": "Feature: texture_worst - Class: B",
            "method": "restyle"
           },
           {
            "args": [
             {
              "x": [
               [
                67.434,
                74.627,
                81.82,
                89.012,
                96.205,
                103.398,
                110.59,
                117.783,
                124.976,
                132.168,
                139.361,
                146.554,
                153.747,
                160.939,
                168.132
               ]
              ],
              "y": [
               [
                0.402,
                0.403,
                0.403,
                0.404,
                0.404,
                0.405,
                0.405,
                0.406,
                0.407,
                0.407,
                0.408,
                0.408,
                0.409,
                0.41,
                0.41
               ]
              ]
             }
            ],
            "label": "Feature: perimeter_worst - Class: B",
            "method": "restyle"
           },
           {
            "args": [
             {
              "x": [
               [
                307.56,
                430.975,
                554.39,
                677.805,
                801.22,
                924.635,
                1048.05,
                1171.465,
                1294.88,
                1418.295,
                1541.71,
                1665.125,
                1788.54,
                1911.955,
                2035.37
               ]
              ],
              "y": [
               [
                0.019,
                0.03,
                0.064,
                0.173,
                0.459,
                0.805,
                0.954,
                0.989,
                0.998,
                1,
                1,
                1,
                1,
                1,
                1
               ]
              ]
             }
            ],
            "label": "Feature: area_worst - Class: B",
            "method": "restyle"
           },
           {
            "args": [
             {
              "x": [
               [
                0.1,
                0.106,
                0.111,
                0.116,
                0.121,
                0.126,
                0.131,
                0.136,
                0.142,
                0.147,
                0.152,
                0.157,
                0.162,
                0.167,
                0.172
               ]
              ],
              "y": [
               [
                0.405,
                0.405,
                0.405,
                0.405,
                0.405,
                0.405,
                0.405,
                0.405,
                0.405,
                0.405,
                0.405,
                0.405,
                0.405,
                0.405,
                0.405
               ]
              ]
             }
            ],
            "label": "Feature: smoothness_worst - Class: B",
            "method": "restyle"
           },
           {
            "args": [
             {
              "x": [
               [
                0.071,
                0.104,
                0.138,
                0.171,
                0.204,
                0.238,
                0.271,
                0.304,
                0.338,
                0.371,
                0.404,
                0.438,
                0.471,
                0.504,
                0.538
               ]
              ],
              "y": [
               [
                0.405,
                0.405,
                0.405,
                0.405,
                0.405,
                0.405,
                0.405,
                0.405,
                0.405,
                0.405,
                0.405,
                0.405,
                0.405,
                0.405,
                0.405
               ]
              ]
             }
            ],
            "label": "Feature: compactness_worst - Class: B",
            "method": "restyle"
           },
           {
            "args": [
             {
              "x": [
               [
                0.032,
                0.079,
                0.126,
                0.173,
                0.22,
                0.268,
                0.315,
                0.362,
                0.409,
                0.456,
                0.504,
                0.551,
                0.598,
                0.645,
                0.692
               ]
              ],
              "y": [
               [
                0.405,
                0.405,
                0.405,
                0.405,
                0.405,
                0.405,
                0.405,
                0.405,
                0.405,
                0.405,
                0.405,
                0.405,
                0.405,
                0.405,
                0.405
               ]
              ]
             }
            ],
            "label": "Feature: concavity_worst - Class: B",
            "method": "restyle"
           },
           {
            "args": [
             {
              "x": [
               [
                0.026,
                0.04,
                0.054,
                0.068,
                0.082,
                0.096,
                0.11,
                0.124,
                0.138,
                0.152,
                0.166,
                0.18,
                0.194,
                0.208,
                0.222
               ]
              ],
              "y": [
               [
                0.405,
                0.405,
                0.405,
                0.405,
                0.405,
                0.405,
                0.405,
                0.405,
                0.405,
                0.405,
                0.405,
                0.405,
                0.405,
                0.405,
                0.405
               ]
              ]
             }
            ],
            "label": "Feature: concave points_worst - Class: B",
            "method": "restyle"
           },
           {
            "args": [
             {
              "x": [
               [
                0.199,
                0.214,
                0.229,
                0.244,
                0.258,
                0.273,
                0.288,
                0.302,
                0.317,
                0.332,
                0.346,
                0.361,
                0.376,
                0.39,
                0.405
               ]
              ],
              "y": [
               [
                0.405,
                0.405,
                0.405,
                0.405,
                0.405,
                0.405,
                0.405,
                0.405,
                0.405,
                0.405,
                0.405,
                0.405,
                0.405,
                0.405,
                0.405
               ]
              ]
             }
            ],
            "label": "Feature: symmetry_worst - Class: B",
            "method": "restyle"
           },
           {
            "args": [
             {
              "x": [
               [
                0.062,
                0.067,
                0.071,
                0.075,
                0.079,
                0.083,
                0.087,
                0.092,
                0.096,
                0.1,
                0.104,
                0.108,
                0.112,
                0.117,
                0.121
               ]
              ],
              "y": [
               [
                0.405,
                0.405,
                0.405,
                0.405,
                0.405,
                0.405,
                0.405,
                0.405,
                0.405,
                0.405,
                0.405,
                0.405,
                0.405,
                0.405,
                0.405
               ]
              ]
             }
            ],
            "label": "Feature: fractal_dimension_worst - Class: B",
            "method": "restyle"
           }
          ],
          "x": 0,
          "xanchor": "left",
          "y": 1.2,
          "yanchor": "top"
         }
        ],
        "xaxis": {
         "anchor": "y",
         "autorange": true,
         "domain": [
          0,
          1
         ],
         "range": [
          307.56,
          2035.37
         ],
         "title": {
          "text": "Feature value"
         },
         "type": "linear"
        },
        "yaxis": {
         "anchor": "x",
         "autorange": true,
         "domain": [
          0,
          1
         ],
         "range": [
          -0.035500000000000004,
          1.0545
         ],
         "title": {
          "text": "Partial Dependence"
         },
         "type": "linear"
        }
       }
      },
      "image/png": "[encoded data removed]",
      "text/html": [
       "<div>                            <div id=\"ef9d0dc1-c64e-4907-af43-dca4c43a0e7b\" class=\"plotly-graph-div\" style=\"height:525px; width:100%;\"></div>            <script type=\"text/javascript\">                require([\"plotly\"], function(Plotly) {                    window.PLOTLYENV=window.PLOTLYENV || {};                                    if (document.getElementById(\"ef9d0dc1-c64e-4907-af43-dca4c43a0e7b\")) {                    Plotly.newPlot(                        \"ef9d0dc1-c64e-4907-af43-dca4c43a0e7b\",                        [{\"hovertemplate\":\"Feature value=%{x}\\u003cbr\\u003ey=%{y}\\u003cextra\\u003e\\u003c\\u002fextra\\u003e\",\"legendgroup\":\"\",\"line\":{\"color\":\"#636efa\",\"dash\":\"solid\"},\"marker\":{\"symbol\":\"circle\"},\"mode\":\"lines\",\"name\":\"\",\"orientation\":\"v\",\"showlegend\":false,\"x\":[8.196,8.671,8.734,8.888,9.042,9.397,10.17,10.26,10.48,10.51,10.75,10.88,11.04,11.08,11.13,11.15,11.29,11.37,11.43,11.47,11.52,11.62,11.99,12.03,12.18,12.25,12.31,12.45,12.46,12.56,12.67,12.7,12.76,12.81,12.83,12.89,12.94,12.96,12.98,12.99,13.0,13.03,13.11,13.27,13.37,13.43,13.61,13.69,13.71,13.77,13.85,14.03,14.11,14.22,14.42,14.53,14.54,14.58,14.61,14.62,14.86,14.9,14.99,15.08,15.1,15.12,15.78,16.07,16.26,16.5,16.84,17.42,17.46,18.01,18.25,18.31,18.45,19.17,19.21,19.45,19.53,19.68,20.18,20.2,20.29,20.44,20.51,20.58,20.94,21.37,21.75,22.27,27.42],\"xaxis\":\"x\",\"y\":[0.405,0.405,0.405,0.405,0.405,0.405,0.405,0.405,0.405,0.405,0.405,0.405,0.405,0.405,0.405,0.405,0.405,0.405,0.405,0.405,0.405,0.405,0.405,0.405,0.405,0.405,0.405,0.405,0.405,0.405,0.405,0.405,0.405,0.405,0.405,0.405,0.405,0.405,0.405,0.405,0.405,0.405,0.405,0.405,0.405,0.405,0.405,0.405,0.405,0.405,0.405,0.405,0.405,0.405,0.405,0.405,0.405,0.405,0.405,0.405,0.405,0.405,0.405,0.405,0.405,0.405,0.405,0.405,0.405,0.405,0.405,0.405,0.405,0.405,0.405,0.405,0.405,0.405,0.405,0.405,0.405,0.405,0.405,0.405,0.405,0.405,0.405,0.405,0.405,0.405,0.405,0.405,0.405],\"yaxis\":\"y\",\"type\":\"scatter\"}],                        {\"annotations\":[{\"align\":\"center\",\"arrowsize\":0.3,\"arrowwidth\":0.1,\"borderwidth\":2,\"font\":{\"size\":12},\"showarrow\":false,\"text\":\"This graph shows the marginal effect of the selected feature on the \\u003cbr\\u003e probability predicted by the model for the selected class\",\"xanchor\":\"center\",\"xref\":\"paper\",\"y\":-0.35,\"yanchor\":\"bottom\",\"yref\":\"paper\"}],\"legend\":{\"tracegroupgap\":0},\"margin\":{\"t\":60},\"template\":{\"data\":{\"barpolar\":[{\"marker\":{\"line\":{\"color\":\"#E5ECF6\",\"width\":0.5},\"pattern\":{\"fillmode\":\"overlay\",\"size\":10,\"solidity\":0.2}},\"type\":\"barpolar\"}],\"bar\":[{\"error_x\":{\"color\":\"#2a3f5f\"},\"error_y\":{\"color\":\"#2a3f5f\"},\"marker\":{\"line\":{\"color\":\"#E5ECF6\",\"width\":0.5},\"pattern\":{\"fillmode\":\"overlay\",\"size\":10,\"solidity\":0.2}},\"type\":\"bar\"}],\"carpet\":[{\"aaxis\":{\"endlinecolor\":\"#2a3f5f\",\"gridcolor\":\"white\",\"linecolor\":\"white\",\"minorgridcolor\":\"white\",\"startlinecolor\":\"#2a3f5f\"},\"baxis\":{\"endlinecolor\":\"#2a3f5f\",\"gridcolor\":\"white\",\"linecolor\":\"white\",\"minorgridcolor\":\"white\",\"startlinecolor\":\"#2a3f5f\"},\"type\":\"carpet\"}],\"choropleth\":[{\"colorbar\":{\"outlinewidth\":0,\"ticks\":\"\"},\"type\":\"choropleth\"}],\"contourcarpet\":[{\"colorbar\":{\"outlinewidth\":0,\"ticks\":\"\"},\"type\":\"contourcarpet\"}],\"contour\":[{\"colorbar\":{\"outlinewidth\":0,\"ticks\":\"\"},\"colorscale\":[[0.0,\"#0d0887\"],[0.1111111111111111,\"#46039f\"],[0.2222222222222222,\"#7201a8\"],[0.3333333333333333,\"#9c179e\"],[0.4444444444444444,\"#bd3786\"],[0.5555555555555556,\"#d8576b\"],[0.6666666666666666,\"#ed7953\"],[0.7777777777777778,\"#fb9f3a\"],[0.8888888888888888,\"#fdca26\"],[1.0,\"#f0f921\"]],\"type\":\"contour\"}],\"heatmapgl\":[{\"colorbar\":{\"outlinewidth\":0,\"ticks\":\"\"},\"colorscale\":[[0.0,\"#0d0887\"],[0.1111111111111111,\"#46039f\"],[0.2222222222222222,\"#7201a8\"],[0.3333333333333333,\"#9c179e\"],[0.4444444444444444,\"#bd3786\"],[0.5555555555555556,\"#d8576b\"],[0.6666666666666666,\"#ed7953\"],[0.7777777777777778,\"#fb9f3a\"],[0.8888888888888888,\"#fdca26\"],[1.0,\"#f0f921\"]],\"type\":\"heatmapgl\"}],\"heatmap\":[{\"colorbar\":{\"outlinewidth\":0,\"ticks\":\"\"},\"colorscale\":[[0.0,\"#0d0887\"],[0.1111111111111111,\"#46039f\"],[0.2222222222222222,\"#7201a8\"],[0.3333333333333333,\"#9c179e\"],[0.4444444444444444,\"#bd3786\"],[0.5555555555555556,\"#d8576b\"],[0.6666666666666666,\"#ed7953\"],[0.7777777777777778,\"#fb9f3a\"],[0.8888888888888888,\"#fdca26\"],[1.0,\"#f0f921\"]],\"type\":\"heatmap\"}],\"histogram2dcontour\":[{\"colorbar\":{\"outlinewidth\":0,\"ticks\":\"\"},\"colorscale\":[[0.0,\"#0d0887\"],[0.1111111111111111,\"#46039f\"],[0.2222222222222222,\"#7201a8\"],[0.3333333333333333,\"#9c179e\"],[0.4444444444444444,\"#bd3786\"],[0.5555555555555556,\"#d8576b\"],[0.6666666666666666,\"#ed7953\"],[0.7777777777777778,\"#fb9f3a\"],[0.8888888888888888,\"#fdca26\"],[1.0,\"#f0f921\"]],\"type\":\"histogram2dcontour\"}],\"histogram2d\":[{\"colorbar\":{\"outlinewidth\":0,\"ticks\":\"\"},\"colorscale\":[[0.0,\"#0d0887\"],[0.1111111111111111,\"#46039f\"],[0.2222222222222222,\"#7201a8\"],[0.3333333333333333,\"#9c179e\"],[0.4444444444444444,\"#bd3786\"],[0.5555555555555556,\"#d8576b\"],[0.6666666666666666,\"#ed7953\"],[0.7777777777777778,\"#fb9f3a\"],[0.8888888888888888,\"#fdca26\"],[1.0,\"#f0f921\"]],\"type\":\"histogram2d\"}],\"histogram\":[{\"marker\":{\"pattern\":{\"fillmode\":\"overlay\",\"size\":10,\"solidity\":0.2}},\"type\":\"histogram\"}],\"mesh3d\":[{\"colorbar\":{\"outlinewidth\":0,\"ticks\":\"\"},\"type\":\"mesh3d\"}],\"parcoords\":[{\"line\":{\"colorbar\":{\"outlinewidth\":0,\"ticks\":\"\"}},\"type\":\"parcoords\"}],\"pie\":[{\"automargin\":true,\"type\":\"pie\"}],\"scatter3d\":[{\"line\":{\"colorbar\":{\"outlinewidth\":0,\"ticks\":\"\"}},\"marker\":{\"colorbar\":{\"outlinewidth\":0,\"ticks\":\"\"}},\"type\":\"scatter3d\"}],\"scattercarpet\":[{\"marker\":{\"colorbar\":{\"outlinewidth\":0,\"ticks\":\"\"}},\"type\":\"scattercarpet\"}],\"scattergeo\":[{\"marker\":{\"colorbar\":{\"outlinewidth\":0,\"ticks\":\"\"}},\"type\":\"scattergeo\"}],\"scattergl\":[{\"marker\":{\"colorbar\":{\"outlinewidth\":0,\"ticks\":\"\"}},\"type\":\"scattergl\"}],\"scattermapbox\":[{\"marker\":{\"colorbar\":{\"outlinewidth\":0,\"ticks\":\"\"}},\"type\":\"scattermapbox\"}],\"scatterpolargl\":[{\"marker\":{\"colorbar\":{\"outlinewidth\":0,\"ticks\":\"\"}},\"type\":\"scatterpolargl\"}],\"scatterpolar\":[{\"marker\":{\"colorbar\":{\"outlinewidth\":0,\"ticks\":\"\"}},\"type\":\"scatterpolar\"}],\"scatter\":[{\"fillpattern\":{\"fillmode\":\"overlay\",\"size\":10,\"solidity\":0.2},\"type\":\"scatter\"}],\"scatterternary\":[{\"marker\":{\"colorbar\":{\"outlinewidth\":0,\"ticks\":\"\"}},\"type\":\"scatterternary\"}],\"surface\":[{\"colorbar\":{\"outlinewidth\":0,\"ticks\":\"\"},\"colorscale\":[[0.0,\"#0d0887\"],[0.1111111111111111,\"#46039f\"],[0.2222222222222222,\"#7201a8\"],[0.3333333333333333,\"#9c179e\"],[0.4444444444444444,\"#bd3786\"],[0.5555555555555556,\"#d8576b\"],[0.6666666666666666,\"#ed7953\"],[0.7777777777777778,\"#fb9f3a\"],[0.8888888888888888,\"#fdca26\"],[1.0,\"#f0f921\"]],\"type\":\"surface\"}],\"table\":[{\"cells\":{\"fill\":{\"color\":\"#EBF0F8\"},\"line\":{\"color\":\"white\"}},\"header\":{\"fill\":{\"color\":\"#C8D4E3\"},\"line\":{\"color\":\"white\"}},\"type\":\"table\"}]},\"layout\":{\"annotationdefaults\":{\"arrowcolor\":\"#2a3f5f\",\"arrowhead\":0,\"arrowwidth\":1},\"autotypenumbers\":\"strict\",\"coloraxis\":{\"colorbar\":{\"outlinewidth\":0,\"ticks\":\"\"}},\"colorscale\":{\"diverging\":[[0,\"#8e0152\"],[0.1,\"#c51b7d\"],[0.2,\"#de77ae\"],[0.3,\"#f1b6da\"],[0.4,\"#fde0ef\"],[0.5,\"#f7f7f7\"],[0.6,\"#e6f5d0\"],[0.7,\"#b8e186\"],[0.8,\"#7fbc41\"],[0.9,\"#4d9221\"],[1,\"#276419\"]],\"sequential\":[[0.0,\"#0d0887\"],[0.1111111111111111,\"#46039f\"],[0.2222222222222222,\"#7201a8\"],[0.3333333333333333,\"#9c179e\"],[0.4444444444444444,\"#bd3786\"],[0.5555555555555556,\"#d8576b\"],[0.6666666666666666,\"#ed7953\"],[0.7777777777777778,\"#fb9f3a\"],[0.8888888888888888,\"#fdca26\"],[1.0,\"#f0f921\"]],\"sequentialminus\":[[0.0,\"#0d0887\"],[0.1111111111111111,\"#46039f\"],[0.2222222222222222,\"#7201a8\"],[0.3333333333333333,\"#9c179e\"],[0.4444444444444444,\"#bd3786\"],[0.5555555555555556,\"#d8576b\"],[0.6666666666666666,\"#ed7953\"],[0.7777777777777778,\"#fb9f3a\"],[0.8888888888888888,\"#fdca26\"],[1.0,\"#f0f921\"]]},\"colorway\":[\"#636efa\",\"#EF553B\",\"#00cc96\",\"#ab63fa\",\"#FFA15A\",\"#19d3f3\",\"#FF6692\",\"#B6E880\",\"#FF97FF\",\"#FECB52\"],\"font\":{\"color\":\"#2a3f5f\"},\"geo\":{\"bgcolor\":\"white\",\"lakecolor\":\"white\",\"landcolor\":\"#E5ECF6\",\"showlakes\":true,\"showland\":true,\"subunitcolor\":\"white\"},\"hoverlabel\":{\"align\":\"left\"},\"hovermode\":\"closest\",\"mapbox\":{\"style\":\"light\"},\"paper_bgcolor\":\"white\",\"plot_bgcolor\":\"#E5ECF6\",\"polar\":{\"angularaxis\":{\"gridcolor\":\"white\",\"linecolor\":\"white\",\"ticks\":\"\"},\"bgcolor\":\"#E5ECF6\",\"radialaxis\":{\"gridcolor\":\"white\",\"linecolor\":\"white\",\"ticks\":\"\"}},\"scene\":{\"xaxis\":{\"backgroundcolor\":\"#E5ECF6\",\"gridcolor\":\"white\",\"gridwidth\":2,\"linecolor\":\"white\",\"showbackground\":true,\"ticks\":\"\",\"zerolinecolor\":\"white\"},\"yaxis\":{\"backgroundcolor\":\"#E5ECF6\",\"gridcolor\":\"white\",\"gridwidth\":2,\"linecolor\":\"white\",\"showbackground\":true,\"ticks\":\"\",\"zerolinecolor\":\"white\"},\"zaxis\":{\"backgroundcolor\":\"#E5ECF6\",\"gridcolor\":\"white\",\"gridwidth\":2,\"linecolor\":\"white\",\"showbackground\":true,\"ticks\":\"\",\"zerolinecolor\":\"white\"}},\"shapedefaults\":{\"line\":{\"color\":\"#2a3f5f\"}},\"ternary\":{\"aaxis\":{\"gridcolor\":\"white\",\"linecolor\":\"white\",\"ticks\":\"\"},\"baxis\":{\"gridcolor\":\"white\",\"linecolor\":\"white\",\"ticks\":\"\"},\"bgcolor\":\"#E5ECF6\",\"caxis\":{\"gridcolor\":\"white\",\"linecolor\":\"white\",\"ticks\":\"\"}},\"title\":{\"x\":0.05},\"xaxis\":{\"automargin\":true,\"gridcolor\":\"white\",\"linecolor\":\"white\",\"ticks\":\"\",\"title\":{\"standoff\":15},\"zerolinecolor\":\"white\",\"zerolinewidth\":2},\"yaxis\":{\"automargin\":true,\"gridcolor\":\"white\",\"linecolor\":\"white\",\"ticks\":\"\",\"title\":{\"standoff\":15},\"zerolinecolor\":\"white\",\"zerolinewidth\":2}}},\"updatemenus\":[{\"buttons\":[{\"args\":[{\"x\":[[8.196,8.671,8.734,8.888,9.042,9.397,10.17,10.26,10.48,10.51,10.75,10.88,11.04,11.08,11.13,11.15,11.29,11.37,11.43,11.47,11.52,11.62,11.99,12.03,12.18,12.25,12.31,12.45,12.46,12.56,12.67,12.7,12.76,12.81,12.83,12.89,12.94,12.96,12.98,12.99,13.0,13.03,13.11,13.27,13.37,13.43,13.61,13.69,13.71,13.77,13.85,14.03,14.11,14.22,14.42,14.53,14.54,14.58,14.61,14.62,14.86,14.9,14.99,15.08,15.1,15.12,15.78,16.07,16.26,16.5,16.84,17.42,17.46,18.01,18.25,18.31,18.45,19.17,19.21,19.45,19.53,19.68,20.18,20.2,20.29,20.44,20.51,20.58,20.94,21.37,21.75,22.27,27.42]],\"y\":[[0.405,0.405,0.405,0.405,0.405,0.405,0.405,0.405,0.405,0.405,0.405,0.405,0.405,0.405,0.405,0.405,0.405,0.405,0.405,0.405,0.405,0.405,0.405,0.405,0.405,0.405,0.405,0.405,0.405,0.405,0.405,0.405,0.405,0.405,0.405,0.405,0.405,0.405,0.405,0.405,0.405,0.405,0.405,0.405,0.405,0.405,0.405,0.405,0.405,0.405,0.405,0.405,0.405,0.405,0.405,0.405,0.405,0.405,0.405,0.405,0.405,0.405,0.405,0.405,0.405,0.405,0.405,0.405,0.405,0.405,0.405,0.405,0.405,0.405,0.405,0.405,0.405,0.405,0.405,0.405,0.405,0.405,0.405,0.405,0.405,0.405,0.405,0.405,0.405,0.405,0.405,0.405,0.405]]}],\"label\":\"Feature: radius_mean - Class: B\",\"method\":\"restyle\"},{\"args\":[{\"x\":[[13.068,14.035,15.001,15.968,16.935,17.901,18.868,19.834,20.801,21.767,22.734,23.701,24.667,25.634,26.6]],\"y\":[[0.405,0.405,0.405,0.405,0.405,0.405,0.405,0.405,0.405,0.405,0.405,0.405,0.405,0.405,0.405]]}],\"label\":\"Feature: texture_mean - Class: B\",\"method\":\"restyle\"},{\"args\":[{\"x\":[[59.881,65.414,70.947,76.48,82.013,87.546,93.079,98.612,104.145,109.677,115.21,120.743,126.276,131.809,137.342]],\"y\":[[0.405,0.405,0.405,0.405,0.405,0.405,0.405,0.405,0.405,0.405,0.405,0.405,0.406,0.406,0.406]]}],\"label\":\"Feature: perimeter_mean - Class: B\",\"method\":\"restyle\"},{\"args\":[{\"x\":[[254.463,332.398,410.333,488.267,566.202,644.137,722.072,800.007,877.941,955.876,1033.811,1111.746,1189.68,1267.615,1345.55]],\"y\":[[0.436,0.423,0.414,0.407,0.403,0.4,0.4,0.403,0.407,0.414,0.423,0.435,0.45,0.469,0.492]]}],\"label\":\"Feature: area_mean - Class: B\",\"method\":\"restyle\"},{\"args\":[{\"x\":[[0.077,0.08,0.083,0.086,0.089,0.092,0.095,0.098,0.101,0.104,0.107,0.11,0.113,0.116,0.119]],\"y\":[[0.405,0.405,0.405,0.405,0.405,0.405,0.405,0.405,0.405,0.405,0.405,0.405,0.405,0.405,0.405]]}],\"label\":\"Feature: smoothness_mean - Class: B\",\"method\":\"restyle\"},{\"args\":[{\"x\":[[0.038,0.05,0.061,0.073,0.084,0.095,0.107,0.118,0.129,0.141,0.152,0.163,0.175,0.186,0.198]],\"y\":[[0.405,0.405,0.405,0.405,0.405,0.405,0.405,0.405,0.405,0.405,0.405,0.405,0.405,0.405,0.405]]}],\"label\":\"Feature: compactness_mean - Class: B\",\"method\":\"restyle\"},{\"args\":[{\"x\":[[0.011,0.026,0.041,0.056,0.071,0.086,0.101,0.115,0.13,0.145,0.16,0.175,0.19,0.205,0.22]],\"y\":[[0.405,0.405,0.405,0.405,0.405,0.405,0.405,0.405,0.405,0.405,0.405,0.405,0.405,0.405,0.405]]}],\"label\":\"Feature: concavity_mean - Class: B\",\"method\":\"restyle\"},{\"args\":[{\"x\":[[0.006,0.015,0.023,0.032,0.04,0.049,0.057,0.066,0.075,0.083,0.092,0.1,0.109,0.117,0.126]],\"y\":[[0.405,0.405,0.405,0.405,0.405,0.405,0.405,0.405,0.405,0.405,0.405,0.405,0.405,0.405,0.405]]}],\"label\":\"Feature: concave points_mean - Class: B\",\"method\":\"restyle\"},{\"args\":[{\"x\":[[0.139,0.145,0.152,0.159,0.165,0.172,0.179,0.185,0.192,0.199,0.205,0.212,0.218,0.225,0.232]],\"y\":[[0.405,0.405,0.405,0.405,0.405,0.405,0.405,0.405,0.405,0.405,0.405,0.405,0.405,0.405,0.405]]}],\"label\":\"Feature: symmetry_mean - Class: B\",\"method\":\"restyle\"},{\"args\":[{\"x\":[[0.054,0.056,0.057,0.059,0.06,0.062,0.063,0.065,0.066,0.068,0.069,0.071,0.073,0.074,0.076]],\"y\":[[0.405,0.405,0.405,0.405,0.405,0.405,0.405,0.405,0.405,0.405,0.405,0.405,0.405,0.405,0.405]]}],\"label\":\"Feature: fractal_dimension_mean - Class: B\",\"method\":\"restyle\"},{\"args\":[{\"x\":[[0.152,0.212,0.272,0.332,0.392,0.452,0.512,0.572,0.632,0.692,0.753,0.813,0.873,0.933,0.993]],\"y\":[[0.405,0.405,0.405,0.405,0.405,0.405,0.405,0.405,0.405,0.405,0.405,0.405,0.405,0.405,0.405]]}],\"label\":\"Feature: radius_se - Class: B\",\"method\":\"restyle\"},{\"args\":[{\"x\":[[0.533,0.653,0.773,0.893,1.013,1.133,1.253,1.373,1.493,1.613,1.733,1.853,1.973,2.093,2.213]],\"y\":[[0.405,0.405,0.405,0.405,0.405,0.405,0.405,0.405,0.405,0.405,0.405,0.405,0.405,0.405,0.405]]}],\"label\":\"Feature: texture_se - Class: B\",\"method\":\"restyle\"},{\"args\":[{\"x\":[[1.123,1.556,1.99,2.423,2.857,3.29,3.724,4.158,4.591,5.025,5.458,5.892,6.325,6.759,7.192]],\"y\":[[0.405,0.405,0.405,0.405,0.405,0.405,0.405,0.405,0.405,0.405,0.405,0.405,0.405,0.405,0.405]]}],\"label\":\"Feature: perimeter_se - Class: B\",\"method\":\"restyle\"},{\"args\":[{\"x\":[[11.36,19.557,27.753,35.95,44.146,52.343,60.539,68.736,76.933,85.129,93.326,101.522,109.719,117.915,126.112]],\"y\":[[0.404,0.404,0.405,0.406,0.406,0.407,0.408,0.408,0.409,0.41,0.411,0.411,0.412,0.413,0.414]]}],\"label\":\"Feature: area_se - Class: B\",\"method\":\"restyle\"},{\"args\":[{\"x\":[[0.004,0.005,0.006,0.006,0.007,0.008,0.009,0.01,0.01,0.011,0.012,0.013,0.013,0.014,0.015]],\"y\":[[0.405,0.405,0.405,0.405,0.405,0.405,0.405,0.405,0.405,0.405,0.405,0.405,0.405,0.405,0.405]]}],\"label\":\"Feature: smoothness_se - Class: B\",\"method\":\"restyle\"},{\"args\":[{\"x\":[[0.006,0.011,0.015,0.02,0.025,0.029,0.034,0.039,0.043,0.048,0.053,0.057,0.062,0.067,0.071]],\"y\":[[0.405,0.405,0.405,0.405,0.405,0.405,0.405,0.405,0.405,0.405,0.405,0.405,0.405,0.405,0.405]]}],\"label\":\"Feature: compactness_se - Class: B\",\"method\":\"restyle\"},{\"args\":[{\"x\":[[0.005,0.012,0.018,0.024,0.03,0.037,0.043,0.049,0.055,0.061,0.068,0.074,0.08,0.086,0.093]],\"y\":[[0.405,0.405,0.405,0.405,0.405,0.405,0.405,0.405,0.405,0.405,0.405,0.405,0.405,0.405,0.405]]}],\"label\":\"Feature: concavity_se - Class: B\",\"method\":\"restyle\"},{\"args\":[{\"x\":[[0.005,0.006,0.008,0.009,0.011,0.012,0.014,0.015,0.017,0.018,0.02,0.021,0.023,0.024,0.026]],\"y\":[[0.405,0.405,0.405,0.405,0.405,0.405,0.405,0.405,0.405,0.405,0.405,0.405,0.405,0.405,0.405]]}],\"label\":\"Feature: concave points_se - Class: B\",\"method\":\"restyle\"},{\"args\":[{\"x\":[[0.012,0.014,0.015,0.017,0.019,0.021,0.022,0.024,0.026,0.028,0.029,0.031,0.033,0.034,0.036]],\"y\":[[0.405,0.405,0.405,0.405,0.405,0.405,0.405,0.405,0.405,0.405,0.405,0.405,0.405,0.405,0.405]]}],\"label\":\"Feature: symmetry_se - Class: B\",\"method\":\"restyle\"},{\"args\":[{\"x\":[[0.001,0.002,0.003,0.004,0.005,0.006,0.007,0.008,0.01,0.013,0.022]],\"y\":[[0.405,0.405,0.405,0.405,0.405,0.405,0.405,0.405,0.405,0.405,0.405]]}],\"label\":\"Feature: fractal_dimension_se - Class: B\",\"method\":\"restyle\"},{\"args\":[{\"x\":[[10.105,11.229,12.352,13.476,14.6,15.723,16.847,17.97,19.094,20.218,21.341,22.465,23.588,24.712,25.836]],\"y\":[[0.405,0.405,0.405,0.405,0.405,0.405,0.405,0.405,0.405,0.405,0.405,0.405,0.405,0.405,0.405]]}],\"label\":\"Feature: radius_worst - Class: B\",\"method\":\"restyle\"},{\"args\":[{\"x\":[[16.37,17.702,19.034,20.366,21.698,23.03,24.363,25.695,27.027,28.359,29.691,31.023,32.356,33.688,35.02]],\"y\":[[0.404,0.405,0.405,0.405,0.405,0.405,0.405,0.405,0.405,0.405,0.405,0.405,0.405,0.405,0.406]]}],\"label\":\"Feature: texture_worst - Class: B\",\"method\":\"restyle\"},{\"args\":[{\"x\":[[67.434,74.627,81.82,89.012,96.205,103.398,110.59,117.783,124.976,132.168,139.361,146.554,153.747,160.939,168.132]],\"y\":[[0.402,0.403,0.403,0.404,0.404,0.405,0.405,0.406,0.407,0.407,0.408,0.408,0.409,0.41,0.41]]}],\"label\":\"Feature: perimeter_worst - Class: B\",\"method\":\"restyle\"},{\"args\":[{\"x\":[[307.56,430.975,554.39,677.805,801.22,924.635,1048.05,1171.465,1294.88,1418.295,1541.71,1665.125,1788.54,1911.955,2035.37]],\"y\":[[0.019,0.03,0.064,0.173,0.459,0.805,0.954,0.989,0.998,1.0,1.0,1.0,1.0,1.0,1.0]]}],\"label\":\"Feature: area_worst - Class: B\",\"method\":\"restyle\"},{\"args\":[{\"x\":[[0.1,0.106,0.111,0.116,0.121,0.126,0.131,0.136,0.142,0.147,0.152,0.157,0.162,0.167,0.172]],\"y\":[[0.405,0.405,0.405,0.405,0.405,0.405,0.405,0.405,0.405,0.405,0.405,0.405,0.405,0.405,0.405]]}],\"label\":\"Feature: smoothness_worst - Class: B\",\"method\":\"restyle\"},{\"args\":[{\"x\":[[0.071,0.104,0.138,0.171,0.204,0.238,0.271,0.304,0.338,0.371,0.404,0.438,0.471,0.504,0.538]],\"y\":[[0.405,0.405,0.405,0.405,0.405,0.405,0.405,0.405,0.405,0.405,0.405,0.405,0.405,0.405,0.405]]}],\"label\":\"Feature: compactness_worst - Class: B\",\"method\":\"restyle\"},{\"args\":[{\"x\":[[0.032,0.079,0.126,0.173,0.22,0.268,0.315,0.362,0.409,0.456,0.504,0.551,0.598,0.645,0.692]],\"y\":[[0.405,0.405,0.405,0.405,0.405,0.405,0.405,0.405,0.405,0.405,0.405,0.405,0.405,0.405,0.405]]}],\"label\":\"Feature: concavity_worst - Class: B\",\"method\":\"restyle\"},{\"args\":[{\"x\":[[0.026,0.04,0.054,0.068,0.082,0.096,0.11,0.124,0.138,0.152,0.166,0.18,0.194,0.208,0.222]],\"y\":[[0.405,0.405,0.405,0.405,0.405,0.405,0.405,0.405,0.405,0.405,0.405,0.405,0.405,0.405,0.405]]}],\"label\":\"Feature: concave points_worst - Class: B\",\"method\":\"restyle\"},{\"args\":[{\"x\":[[0.199,0.214,0.229,0.244,0.258,0.273,0.288,0.302,0.317,0.332,0.346,0.361,0.376,0.39,0.405]],\"y\":[[0.405,0.405,0.405,0.405,0.405,0.405,0.405,0.405,0.405,0.405,0.405,0.405,0.405,0.405,0.405]]}],\"label\":\"Feature: symmetry_worst - Class: B\",\"method\":\"restyle\"},{\"args\":[{\"x\":[[0.062,0.067,0.071,0.075,0.079,0.083,0.087,0.092,0.096,0.1,0.104,0.108,0.112,0.117,0.121]],\"y\":[[0.405,0.405,0.405,0.405,0.405,0.405,0.405,0.405,0.405,0.405,0.405,0.405,0.405,0.405,0.405]]}],\"label\":\"Feature: fractal_dimension_worst - Class: B\",\"method\":\"restyle\"}],\"x\":0,\"xanchor\":\"left\",\"y\":1.2,\"yanchor\":\"top\"}],\"xaxis\":{\"anchor\":\"y\",\"domain\":[0.0,1.0],\"title\":{\"text\":\"Feature value\"}},\"yaxis\":{\"anchor\":\"x\",\"domain\":[0.0,1.0],\"title\":{\"text\":\"Partial Dependence\"}}},                        {\"responsive\": true}                    ).then(function(){\n",
       "                            \n",
       "var gd = document.getElementById('ef9d0dc1-c64e-4907-af43-dca4c43a0e7b');\n",
       "var x = new MutationObserver(function (mutations, observer) {{\n",
       "        var display = window.getComputedStyle(gd).display;\n",
       "        if (!display || display === 'none') {{\n",
       "            console.log([gd, 'removed!']);\n",
       "            Plotly.purge(gd);\n",
       "            observer.disconnect();\n",
       "        }}\n",
       "}});\n",
       "\n",
       "// Listen for the removal of the full notebook cells\n",
       "var notebookContainer = gd.closest('#notebook-container');\n",
       "if (notebookContainer) {{\n",
       "    x.observe(notebookContainer, {childList: true});\n",
       "}}\n",
       "\n",
       "// Listen for the clearing of the current output cell\n",
       "var outputEl = gd.closest('.output');\n",
       "if (outputEl) {{\n",
       "    x.observe(outputEl, {childList: true});\n",
       "}}\n",
       "\n",
       "                        })                };                });            </script>        </div>"
      ]
     },
     "metadata": {},
     "output_type": "display_data"
    }
   ],
   "source": [
    "parameters = {\n",
    "        \"grid_resolution\": 15,\n",
    "        \"lower_percentile\": 0.05,\n",
    "        \"upper_percentile\": 0.95,\n",
    "    }\n",
    "explainer = PartialDependence(model, **parameters)\n",
    "explanation = explainer.explain(cc_dataset)\n",
    "plot = explainer.plot(explanation)\n",
    "plotly.io.from_json(plot[0])"
   ]
  },
  {
   "cell_type": "code",
   "execution_count": 15,
   "id": "df6c1ab8-876f-400d-80eb-f010a14eb183",
   "metadata": {
    "execution": {
     "iopub.execute_input": "2024-04-25T20:38:49.023840Z",
     "iopub.status.busy": "2024-04-25T20:38:49.023159Z",
     "iopub.status.idle": "2024-04-25T20:38:49.029981Z",
     "shell.execute_reply": "2024-04-25T20:38:49.029123Z",
     "shell.execute_reply.started": "2024-04-25T20:38:49.023818Z"
    }
   },
   "outputs": [
    {
     "data": {
      "text/plain": [
       "{'grid_values': [307.56,\n",
       "  430.975,\n",
       "  554.39,\n",
       "  677.805,\n",
       "  801.22,\n",
       "  924.635,\n",
       "  1048.05,\n",
       "  1171.465,\n",
       "  1294.88,\n",
       "  1418.295,\n",
       "  1541.71,\n",
       "  1665.125,\n",
       "  1788.54,\n",
       "  1911.955,\n",
       "  2035.37],\n",
       " 'average': [[0.019,\n",
       "   0.03,\n",
       "   0.064,\n",
       "   0.173,\n",
       "   0.459,\n",
       "   0.805,\n",
       "   0.954,\n",
       "   0.989,\n",
       "   0.998,\n",
       "   1.0,\n",
       "   1.0,\n",
       "   1.0,\n",
       "   1.0,\n",
       "   1.0,\n",
       "   1.0]]}"
      ]
     },
     "execution_count": 15,
     "metadata": {},
     "output_type": "execute_result"
    }
   ],
   "source": [
    "explanation['area_worst']"
   ]
  },
  {
   "cell_type": "code",
   "execution_count": null,
   "id": "dc23a218",
   "metadata": {},
   "outputs": [],
   "source": [
    "for idx in range(len(cc_inputs_columns)):\n",
    "    pd = partial_dependence(\n",
    "        estimator=model,\n",
    "        X=cc_dataset[0][\"test\"].to_pandas(),\n",
    "        features=idx,\n",
    "        feature_names=cc_inputs_columns,\n",
    "        percentiles=(0.05, 0.95),\n",
    "        grid_resolution=15,\n",
    "        kind=\"average\"\n",
    "    )\n",
    "    print(cc_inputs_columns[idx])\n",
    "    print(pd)"
   ]
  },
  {
   "cell_type": "code",
   "execution_count": 9,
   "id": "90426223",
   "metadata": {
    "execution": {
     "iopub.execute_input": "2024-04-25T14:29:55.169376Z",
     "iopub.status.busy": "2024-04-25T14:29:55.168387Z",
     "iopub.status.idle": "2024-04-25T14:29:55.338480Z",
     "shell.execute_reply": "2024-04-25T14:29:55.337591Z",
     "shell.execute_reply.started": "2024-04-25T14:29:55.169352Z"
    }
   },
   "outputs": [
    {
     "name": "stderr",
     "output_type": "stream",
     "text": [
      "/home/naabarca/rod/lib/python3.8/site-packages/sklearn/inspection/_plot/partial_dependence.py:972: UserWarning:\n",
      "\n",
      "Attempting to set identical low and high ylims makes transformation singular; automatically expanding.\n",
      "\n"
     ]
    },
    {
     "data": {
      "image/png": "[encoded data removed]",
      "text/plain": [
       "<Figure size 640x480 with 2 Axes>"
      ]
     },
     "metadata": {},
     "output_type": "display_data"
    }
   ],
   "source": [
    "display = PartialDependenceDisplay.from_estimator(\n",
    "    estimator=model, \n",
    "    X=cc_dataset[0][\"test\"].to_pandas(), \n",
    "    features=[10], \n",
    "    # target=None, \n",
    "    kind='average',\n",
    "    grid_resolution=15,\n",
    "    percentiles=(0.05, 0.95)\n",
    ")"
   ]
  },
  {
   "cell_type": "markdown",
   "id": "0ce9b516",
   "metadata": {},
   "source": [
    "### PFI"
   ]
  },
  {
   "cell_type": "code",
   "execution_count": 16,
   "id": "9b506f64",
   "metadata": {
    "execution": {
     "iopub.execute_input": "2024-04-25T14:46:47.784261Z",
     "iopub.status.busy": "2024-04-25T14:46:47.783069Z",
     "iopub.status.idle": "2024-04-25T14:46:50.690210Z",
     "shell.execute_reply": "2024-04-25T14:46:50.689223Z",
     "shell.execute_reply.started": "2024-04-25T14:46:47.784234Z"
    }
   },
   "outputs": [
    {
     "data": {
      "application/vnd.plotly.v1+json": {
       "config": {
        "plotlyServerURL": "https://plot.ly"
       },
       "data": [
        {
         "alignmentgroup": "True",
         "error_x": {
          "array": [
           0,
           0,
           0,
           0,
           0,
           0,
           0,
           0,
           0,
           0
          ]
         },
         "hovertemplate": "x=%{x}<br>y=%{y}<extra></extra>",
         "legendgroup": "",
         "marker": {
          "color": "#636efa",
          "pattern": {
           "shape": ""
          }
         },
         "name": "",
         "offsetgroup": "",
         "orientation": "h",
         "showlegend": false,
         "textposition": "auto",
         "type": "bar",
         "x": [
          -0.01,
          -0.01,
          -0.01,
          -0.01,
          -0.01,
          -0.01,
          -0.01,
          -0.01,
          -0.01,
          -0.01
         ],
         "xaxis": "x",
         "y": [
          "symmetry_mean",
          "concave points_mean",
          "concavity_mean",
          "compactness_mean",
          "smoothness_mean",
          "area_mean",
          "perimeter_mean",
          "texture_mean",
          "symmetry_worst",
          "fractal_dimension_worst"
         ],
         "yaxis": "y"
        }
       ],
       "layout": {
        "annotations": [
         {
          "showarrow": false,
          "text": "",
          "x": 0,
          "xanchor": "left",
          "xref": "paper",
          "y": 1.15,
          "yanchor": "top",
          "yref": "paper"
         }
        ],
        "autosize": true,
        "barmode": "relative",
        "legend": {
         "tracegroupgap": 0
        },
        "margin": {
         "t": 60
        },
        "template": {
         "data": {
          "bar": [
           {
            "error_x": {
             "color": "#2a3f5f"
            },
            "error_y": {
             "color": "#2a3f5f"
            },
            "marker": {
             "line": {
              "color": "#E5ECF6",
              "width": 0.5
             },
             "pattern": {
              "fillmode": "overlay",
              "size": 10,
              "solidity": 0.2
             }
            },
            "type": "bar"
           }
          ],
          "barpolar": [
           {
            "marker": {
             "line": {
              "color": "#E5ECF6",
              "width": 0.5
             },
             "pattern": {
              "fillmode": "overlay",
              "size": 10,
              "solidity": 0.2
             }
            },
            "type": "barpolar"
           }
          ],
          "carpet": [
           {
            "aaxis": {
             "endlinecolor": "#2a3f5f",
             "gridcolor": "white",
             "linecolor": "white",
             "minorgridcolor": "white",
             "startlinecolor": "#2a3f5f"
            },
            "baxis": {
             "endlinecolor": "#2a3f5f",
             "gridcolor": "white",
             "linecolor": "white",
             "minorgridcolor": "white",
             "startlinecolor": "#2a3f5f"
            },
            "type": "carpet"
           }
          ],
          "choropleth": [
           {
            "colorbar": {
             "outlinewidth": 0,
             "ticks": ""
            },
            "type": "choropleth"
           }
          ],
          "contour": [
           {
            "colorbar": {
             "outlinewidth": 0,
             "ticks": ""
            },
            "colorscale": [
             [
              0,
              "#0d0887"
             ],
             [
              0.1111111111111111,
              "#46039f"
             ],
             [
              0.2222222222222222,
              "#7201a8"
             ],
             [
              0.3333333333333333,
              "#9c179e"
             ],
             [
              0.4444444444444444,
              "#bd3786"
             ],
             [
              0.5555555555555556,
              "#d8576b"
             ],
             [
              0.6666666666666666,
              "#ed7953"
             ],
             [
              0.7777777777777778,
              "#fb9f3a"
             ],
             [
              0.8888888888888888,
              "#fdca26"
             ],
             [
              1,
              "#f0f921"
             ]
            ],
            "type": "contour"
           }
          ],
          "contourcarpet": [
           {
            "colorbar": {
             "outlinewidth": 0,
             "ticks": ""
            },
            "type": "contourcarpet"
           }
          ],
          "heatmap": [
           {
            "colorbar": {
             "outlinewidth": 0,
             "ticks": ""
            },
            "colorscale": [
             [
              0,
              "#0d0887"
             ],
             [
              0.1111111111111111,
              "#46039f"
             ],
             [
              0.2222222222222222,
              "#7201a8"
             ],
             [
              0.3333333333333333,
              "#9c179e"
             ],
             [
              0.4444444444444444,
              "#bd3786"
             ],
             [
              0.5555555555555556,
              "#d8576b"
             ],
             [
              0.6666666666666666,
              "#ed7953"
             ],
             [
              0.7777777777777778,
              "#fb9f3a"
             ],
             [
              0.8888888888888888,
              "#fdca26"
             ],
             [
              1,
              "#f0f921"
             ]
            ],
            "type": "heatmap"
           }
          ],
          "heatmapgl": [
           {
            "colorbar": {
             "outlinewidth": 0,
             "ticks": ""
            },
            "colorscale": [
             [
              0,
              "#0d0887"
             ],
             [
              0.1111111111111111,
              "#46039f"
             ],
             [
              0.2222222222222222,
              "#7201a8"
             ],
             [
              0.3333333333333333,
              "#9c179e"
             ],
             [
              0.4444444444444444,
              "#bd3786"
             ],
             [
              0.5555555555555556,
              "#d8576b"
             ],
             [
              0.6666666666666666,
              "#ed7953"
             ],
             [
              0.7777777777777778,
              "#fb9f3a"
             ],
             [
              0.8888888888888888,
              "#fdca26"
             ],
             [
              1,
              "#f0f921"
             ]
            ],
            "type": "heatmapgl"
           }
          ],
          "histogram": [
           {
            "marker": {
             "pattern": {
              "fillmode": "overlay",
              "size": 10,
              "solidity": 0.2
             }
            },
            "type": "histogram"
           }
          ],
          "histogram2d": [
           {
            "colorbar": {
             "outlinewidth": 0,
             "ticks": ""
            },
            "colorscale": [
             [
              0,
              "#0d0887"
             ],
             [
              0.1111111111111111,
              "#46039f"
             ],
             [
              0.2222222222222222,
              "#7201a8"
             ],
             [
              0.3333333333333333,
              "#9c179e"
             ],
             [
              0.4444444444444444,
              "#bd3786"
             ],
             [
              0.5555555555555556,
              "#d8576b"
             ],
             [
              0.6666666666666666,
              "#ed7953"
             ],
             [
              0.7777777777777778,
              "#fb9f3a"
             ],
             [
              0.8888888888888888,
              "#fdca26"
             ],
             [
              1,
              "#f0f921"
             ]
            ],
            "type": "histogram2d"
           }
          ],
          "histogram2dcontour": [
           {
            "colorbar": {
             "outlinewidth": 0,
             "ticks": ""
            },
            "colorscale": [
             [
              0,
              "#0d0887"
             ],
             [
              0.1111111111111111,
              "#46039f"
             ],
             [
              0.2222222222222222,
              "#7201a8"
             ],
             [
              0.3333333333333333,
              "#9c179e"
             ],
             [
              0.4444444444444444,
              "#bd3786"
             ],
             [
              0.5555555555555556,
              "#d8576b"
             ],
             [
              0.6666666666666666,
              "#ed7953"
             ],
             [
              0.7777777777777778,
              "#fb9f3a"
             ],
             [
              0.8888888888888888,
              "#fdca26"
             ],
             [
              1,
              "#f0f921"
             ]
            ],
            "type": "histogram2dcontour"
           }
          ],
          "mesh3d": [
           {
            "colorbar": {
             "outlinewidth": 0,
             "ticks": ""
            },
            "type": "mesh3d"
           }
          ],
          "parcoords": [
           {
            "line": {
             "colorbar": {
              "outlinewidth": 0,
              "ticks": ""
             }
            },
            "type": "parcoords"
           }
          ],
          "pie": [
           {
            "automargin": true,
            "type": "pie"
           }
          ],
          "scatter": [
           {
            "fillpattern": {
             "fillmode": "overlay",
             "size": 10,
             "solidity": 0.2
            },
            "type": "scatter"
           }
          ],
          "scatter3d": [
           {
            "line": {
             "colorbar": {
              "outlinewidth": 0,
              "ticks": ""
             }
            },
            "marker": {
             "colorbar": {
              "outlinewidth": 0,
              "ticks": ""
             }
            },
            "type": "scatter3d"
           }
          ],
          "scattercarpet": [
           {
            "marker": {
             "colorbar": {
              "outlinewidth": 0,
              "ticks": ""
             }
            },
            "type": "scattercarpet"
           }
          ],
          "scattergeo": [
           {
            "marker": {
             "colorbar": {
              "outlinewidth": 0,
              "ticks": ""
             }
            },
            "type": "scattergeo"
           }
          ],
          "scattergl": [
           {
            "marker": {
             "colorbar": {
              "outlinewidth": 0,
              "ticks": ""
             }
            },
            "type": "scattergl"
           }
          ],
          "scattermapbox": [
           {
            "marker": {
             "colorbar": {
              "outlinewidth": 0,
              "ticks": ""
             }
            },
            "type": "scattermapbox"
           }
          ],
          "scatterpolar": [
           {
            "marker": {
             "colorbar": {
              "outlinewidth": 0,
              "ticks": ""
             }
            },
            "type": "scatterpolar"
           }
          ],
          "scatterpolargl": [
           {
            "marker": {
             "colorbar": {
              "outlinewidth": 0,
              "ticks": ""
             }
            },
            "type": "scatterpolargl"
           }
          ],
          "scatterternary": [
           {
            "marker": {
             "colorbar": {
              "outlinewidth": 0,
              "ticks": ""
             }
            },
            "type": "scatterternary"
           }
          ],
          "surface": [
           {
            "colorbar": {
             "outlinewidth": 0,
             "ticks": ""
            },
            "colorscale": [
             [
              0,
              "#0d0887"
             ],
             [
              0.1111111111111111,
              "#46039f"
             ],
             [
              0.2222222222222222,
              "#7201a8"
             ],
             [
              0.3333333333333333,
              "#9c179e"
             ],
             [
              0.4444444444444444,
              "#bd3786"
             ],
             [
              0.5555555555555556,
              "#d8576b"
             ],
             [
              0.6666666666666666,
              "#ed7953"
             ],
             [
              0.7777777777777778,
              "#fb9f3a"
             ],
             [
              0.8888888888888888,
              "#fdca26"
             ],
             [
              1,
              "#f0f921"
             ]
            ],
            "type": "surface"
           }
          ],
          "table": [
           {
            "cells": {
             "fill": {
              "color": "#EBF0F8"
             },
             "line": {
              "color": "white"
             }
            },
            "header": {
             "fill": {
              "color": "#C8D4E3"
             },
             "line": {
              "color": "white"
             }
            },
            "type": "table"
           }
          ]
         },
         "layout": {
          "annotationdefaults": {
           "arrowcolor": "#2a3f5f",
           "arrowhead": 0,
           "arrowwidth": 1
          },
          "autotypenumbers": "strict",
          "coloraxis": {
           "colorbar": {
            "outlinewidth": 0,
            "ticks": ""
           }
          },
          "colorscale": {
           "diverging": [
            [
             0,
             "#8e0152"
            ],
            [
             0.1,
             "#c51b7d"
            ],
            [
             0.2,
             "#de77ae"
            ],
            [
             0.3,
             "#f1b6da"
            ],
            [
             0.4,
             "#fde0ef"
            ],
            [
             0.5,
             "#f7f7f7"
            ],
            [
             0.6,
             "#e6f5d0"
            ],
            [
             0.7,
             "#b8e186"
            ],
            [
             0.8,
             "#7fbc41"
            ],
            [
             0.9,
             "#4d9221"
            ],
            [
             1,
             "#276419"
            ]
           ],
           "sequential": [
            [
             0,
             "#0d0887"
            ],
            [
             0.1111111111111111,
             "#46039f"
            ],
            [
             0.2222222222222222,
             "#7201a8"
            ],
            [
             0.3333333333333333,
             "#9c179e"
            ],
            [
             0.4444444444444444,
             "#bd3786"
            ],
            [
             0.5555555555555556,
             "#d8576b"
            ],
            [
             0.6666666666666666,
             "#ed7953"
            ],
            [
             0.7777777777777778,
             "#fb9f3a"
            ],
            [
             0.8888888888888888,
             "#fdca26"
            ],
            [
             1,
             "#f0f921"
            ]
           ],
           "sequentialminus": [
            [
             0,
             "#0d0887"
            ],
            [
             0.1111111111111111,
             "#46039f"
            ],
            [
             0.2222222222222222,
             "#7201a8"
            ],
            [
             0.3333333333333333,
             "#9c179e"
            ],
            [
             0.4444444444444444,
             "#bd3786"
            ],
            [
             0.5555555555555556,
             "#d8576b"
            ],
            [
             0.6666666666666666,
             "#ed7953"
            ],
            [
             0.7777777777777778,
             "#fb9f3a"
            ],
            [
             0.8888888888888888,
             "#fdca26"
            ],
            [
             1,
             "#f0f921"
            ]
           ]
          },
          "colorway": [
           "#636efa",
           "#EF553B",
           "#00cc96",
           "#ab63fa",
           "#FFA15A",
           "#19d3f3",
           "#FF6692",
           "#B6E880",
           "#FF97FF",
           "#FECB52"
          ],
          "font": {
           "color": "#2a3f5f"
          },
          "geo": {
           "bgcolor": "white",
           "lakecolor": "white",
           "landcolor": "#E5ECF6",
           "showlakes": true,
           "showland": true,
           "subunitcolor": "white"
          },
          "hoverlabel": {
           "align": "left"
          },
          "hovermode": "closest",
          "mapbox": {
           "style": "light"
          },
          "paper_bgcolor": "white",
          "plot_bgcolor": "#E5ECF6",
          "polar": {
           "angularaxis": {
            "gridcolor": "white",
            "linecolor": "white",
            "ticks": ""
           },
           "bgcolor": "#E5ECF6",
           "radialaxis": {
            "gridcolor": "white",
            "linecolor": "white",
            "ticks": ""
           }
          },
          "scene": {
           "xaxis": {
            "backgroundcolor": "#E5ECF6",
            "gridcolor": "white",
            "gridwidth": 2,
            "linecolor": "white",
            "showbackground": true,
            "ticks": "",
            "zerolinecolor": "white"
           },
           "yaxis": {
            "backgroundcolor": "#E5ECF6",
            "gridcolor": "white",
            "gridwidth": 2,
            "linecolor": "white",
            "showbackground": true,
            "ticks": "",
            "zerolinecolor": "white"
           },
           "zaxis": {
            "backgroundcolor": "#E5ECF6",
            "gridcolor": "white",
            "gridwidth": 2,
            "linecolor": "white",
            "showbackground": true,
            "ticks": "",
            "zerolinecolor": "white"
           }
          },
          "shapedefaults": {
           "line": {
            "color": "#2a3f5f"
           }
          },
          "ternary": {
           "aaxis": {
            "gridcolor": "white",
            "linecolor": "white",
            "ticks": ""
           },
           "baxis": {
            "gridcolor": "white",
            "linecolor": "white",
            "ticks": ""
           },
           "bgcolor": "#E5ECF6",
           "caxis": {
            "gridcolor": "white",
            "linecolor": "white",
            "ticks": ""
           }
          },
          "title": {
           "x": 0.05
          },
          "xaxis": {
           "automargin": true,
           "gridcolor": "white",
           "linecolor": "white",
           "ticks": "",
           "title": {
            "standoff": 15
           },
           "zerolinecolor": "white",
           "zerolinewidth": 2
          },
          "yaxis": {
           "automargin": true,
           "gridcolor": "white",
           "linecolor": "white",
           "ticks": "",
           "title": {
            "standoff": 15
           },
           "zerolinecolor": "white",
           "zerolinewidth": 2
          }
         }
        },
        "updatemenus": [
         {
          "buttons": [
           {
            "args": [
             {
              "error_x": [
               [
                0,
                0,
                0,
                0,
                0,
                0,
                0,
                0,
                0,
                0,
                0,
                0,
                0,
                0,
                0,
                0,
                0,
                0,
                0,
                0,
                0,
                0,
                0,
                0,
                0,
                0,
                0,
                0,
                0,
                0
               ]
              ],
              "x": [
               [
                -0.01,
                -0.01,
                -0.01,
                -0.01,
                -0.01,
                -0.01,
                -0.01,
                -0.01,
                -0.01,
                -0.01,
                -0.01,
                -0.01,
                -0.01,
                -0.01,
                -0.01,
                -0.01,
                -0.01,
                -0.01,
                -0.01,
                -0.01,
                -0.01,
                -0.01,
                -0.01,
                -0.01,
                -0.01,
                -0.01,
                -0.01,
                -0.01,
                -0.01,
                -0.01
               ]
              ],
              "y": [
               [
                "radius_mean",
                "concave points_worst",
                "concavity_worst",
                "compactness_worst",
                "smoothness_worst",
                "area_worst",
                "perimeter_worst",
                "texture_worst",
                "radius_worst",
                "fractal_dimension_se",
                "symmetry_se",
                "concave points_se",
                "concavity_se",
                "compactness_se",
                "smoothness_se",
                "area_se",
                "perimeter_se",
                "texture_se",
                "radius_se",
                "fractal_dimension_mean",
                "symmetry_mean",
                "concave points_mean",
                "concavity_mean",
                "compactness_mean",
                "smoothness_mean",
                "area_mean",
                "perimeter_mean",
                "texture_mean",
                "symmetry_worst",
                "fractal_dimension_worst"
               ]
              ]
             }
            ],
            "label": "N° features: 30",
            "method": "restyle"
           },
           {
            "args": [
             {
              "error_x": [
               [
                0
               ]
              ],
              "x": [
               [
                -0.01
               ]
              ],
              "y": [
               [
                "fractal_dimension_worst"
               ]
              ]
             }
            ],
            "label": "N° features: 1",
            "method": "restyle"
           },
           {
            "args": [
             {
              "error_x": [
               [
                0,
                0
               ]
              ],
              "x": [
               [
                -0.01,
                -0.01
               ]
              ],
              "y": [
               [
                "symmetry_worst",
                "fractal_dimension_worst"
               ]
              ]
             }
            ],
            "label": "N° features: 2",
            "method": "restyle"
           },
           {
            "args": [
             {
              "error_x": [
               [
                0,
                0,
                0
               ]
              ],
              "x": [
               [
                -0.01,
                -0.01,
                -0.01
               ]
              ],
              "y": [
               [
                "texture_mean",
                "symmetry_worst",
                "fractal_dimension_worst"
               ]
              ]
             }
            ],
            "label": "N° features: 3",
            "method": "restyle"
           },
           {
            "args": [
             {
              "error_x": [
               [
                0,
                0,
                0,
                0
               ]
              ],
              "x": [
               [
                -0.01,
                -0.01,
                -0.01,
                -0.01
               ]
              ],
              "y": [
               [
                "perimeter_mean",
                "texture_mean",
                "symmetry_worst",
                "fractal_dimension_worst"
               ]
              ]
             }
            ],
            "label": "N° features: 4",
            "method": "restyle"
           },
           {
            "args": [
             {
              "error_x": [
               [
                0,
                0,
                0,
                0,
                0
               ]
              ],
              "x": [
               [
                -0.01,
                -0.01,
                -0.01,
                -0.01,
                -0.01
               ]
              ],
              "y": [
               [
                "area_mean",
                "perimeter_mean",
                "texture_mean",
                "symmetry_worst",
                "fractal_dimension_worst"
               ]
              ]
             }
            ],
            "label": "N° features: 5",
            "method": "restyle"
           },
           {
            "args": [
             {
              "error_x": [
               [
                0,
                0,
                0,
                0,
                0,
                0
               ]
              ],
              "x": [
               [
                -0.01,
                -0.01,
                -0.01,
                -0.01,
                -0.01,
                -0.01
               ]
              ],
              "y": [
               [
                "smoothness_mean",
                "area_mean",
                "perimeter_mean",
                "texture_mean",
                "symmetry_worst",
                "fractal_dimension_worst"
               ]
              ]
             }
            ],
            "label": "N° features: 6",
            "method": "restyle"
           },
           {
            "args": [
             {
              "error_x": [
               [
                0,
                0,
                0,
                0,
                0,
                0,
                0
               ]
              ],
              "x": [
               [
                -0.01,
                -0.01,
                -0.01,
                -0.01,
                -0.01,
                -0.01,
                -0.01
               ]
              ],
              "y": [
               [
                "compactness_mean",
                "smoothness_mean",
                "area_mean",
                "perimeter_mean",
                "texture_mean",
                "symmetry_worst",
                "fractal_dimension_worst"
               ]
              ]
             }
            ],
            "label": "N° features: 7",
            "method": "restyle"
           },
           {
            "args": [
             {
              "error_x": [
               [
                0,
                0,
                0,
                0,
                0,
                0,
                0,
                0
               ]
              ],
              "x": [
               [
                -0.01,
                -0.01,
                -0.01,
                -0.01,
                -0.01,
                -0.01,
                -0.01,
                -0.01
               ]
              ],
              "y": [
               [
                "concavity_mean",
                "compactness_mean",
                "smoothness_mean",
                "area_mean",
                "perimeter_mean",
                "texture_mean",
                "symmetry_worst",
                "fractal_dimension_worst"
               ]
              ]
             }
            ],
            "label": "N° features: 8",
            "method": "restyle"
           },
           {
            "args": [
             {
              "error_x": [
               [
                0,
                0,
                0,
                0,
                0,
                0,
                0,
                0,
                0
               ]
              ],
              "x": [
               [
                -0.01,
                -0.01,
                -0.01,
                -0.01,
                -0.01,
                -0.01,
                -0.01,
                -0.01,
                -0.01
               ]
              ],
              "y": [
               [
                "concave points_mean",
                "concavity_mean",
                "compactness_mean",
                "smoothness_mean",
                "area_mean",
                "perimeter_mean",
                "texture_mean",
                "symmetry_worst",
                "fractal_dimension_worst"
               ]
              ]
             }
            ],
            "label": "N° features: 9",
            "method": "restyle"
           },
           {
            "args": [
             {
              "error_x": [
               [
                0,
                0,
                0,
                0,
                0,
                0,
                0,
                0,
                0,
                0
               ]
              ],
              "x": [
               [
                -0.01,
                -0.01,
                -0.01,
                -0.01,
                -0.01,
                -0.01,
                -0.01,
                -0.01,
                -0.01,
                -0.01
               ]
              ],
              "y": [
               [
                "symmetry_mean",
                "concave points_mean",
                "concavity_mean",
                "compactness_mean",
                "smoothness_mean",
                "area_mean",
                "perimeter_mean",
                "texture_mean",
                "symmetry_worst",
                "fractal_dimension_worst"
               ]
              ]
             }
            ],
            "label": "N° features: 10",
            "method": "restyle"
           },
           {
            "args": [
             {
              "error_x": [
               [
                0,
                0,
                0,
                0,
                0,
                0,
                0,
                0,
                0,
                0,
                0
               ]
              ],
              "x": [
               [
                -0.01,
                -0.01,
                -0.01,
                -0.01,
                -0.01,
                -0.01,
                -0.01,
                -0.01,
                -0.01,
                -0.01,
                -0.01
               ]
              ],
              "y": [
               [
                "fractal_dimension_mean",
                "symmetry_mean",
                "concave points_mean",
                "concavity_mean",
                "compactness_mean",
                "smoothness_mean",
                "area_mean",
                "perimeter_mean",
                "texture_mean",
                "symmetry_worst",
                "fractal_dimension_worst"
               ]
              ]
             }
            ],
            "label": "N° features: 11",
            "method": "restyle"
           },
           {
            "args": [
             {
              "error_x": [
               [
                0,
                0,
                0,
                0,
                0,
                0,
                0,
                0,
                0,
                0,
                0,
                0
               ]
              ],
              "x": [
               [
                -0.01,
                -0.01,
                -0.01,
                -0.01,
                -0.01,
                -0.01,
                -0.01,
                -0.01,
                -0.01,
                -0.01,
                -0.01,
                -0.01
               ]
              ],
              "y": [
               [
                "radius_se",
                "fractal_dimension_mean",
                "symmetry_mean",
                "concave points_mean",
                "concavity_mean",
                "compactness_mean",
                "smoothness_mean",
                "area_mean",
                "perimeter_mean",
                "texture_mean",
                "symmetry_worst",
                "fractal_dimension_worst"
               ]
              ]
             }
            ],
            "label": "N° features: 12",
            "method": "restyle"
           },
           {
            "args": [
             {
              "error_x": [
               [
                0,
                0,
                0,
                0,
                0,
                0,
                0,
                0,
                0,
                0,
                0,
                0,
                0
               ]
              ],
              "x": [
               [
                -0.01,
                -0.01,
                -0.01,
                -0.01,
                -0.01,
                -0.01,
                -0.01,
                -0.01,
                -0.01,
                -0.01,
                -0.01,
                -0.01,
                -0.01
               ]
              ],
              "y": [
               [
                "texture_se",
                "radius_se",
                "fractal_dimension_mean",
                "symmetry_mean",
                "concave points_mean",
                "concavity_mean",
                "compactness_mean",
                "smoothness_mean",
                "area_mean",
                "perimeter_mean",
                "texture_mean",
                "symmetry_worst",
                "fractal_dimension_worst"
               ]
              ]
             }
            ],
            "label": "N° features: 13",
            "method": "restyle"
           },
           {
            "args": [
             {
              "error_x": [
               [
                0,
                0,
                0,
                0,
                0,
                0,
                0,
                0,
                0,
                0,
                0,
                0,
                0,
                0
               ]
              ],
              "x": [
               [
                -0.01,
                -0.01,
                -0.01,
                -0.01,
                -0.01,
                -0.01,
                -0.01,
                -0.01,
                -0.01,
                -0.01,
                -0.01,
                -0.01,
                -0.01,
                -0.01
               ]
              ],
              "y": [
               [
                "perimeter_se",
                "texture_se",
                "radius_se",
                "fractal_dimension_mean",
                "symmetry_mean",
                "concave points_mean",
                "concavity_mean",
                "compactness_mean",
                "smoothness_mean",
                "area_mean",
                "perimeter_mean",
                "texture_mean",
                "symmetry_worst",
                "fractal_dimension_worst"
               ]
              ]
             }
            ],
            "label": "N° features: 14",
            "method": "restyle"
           },
           {
            "args": [
             {
              "error_x": [
               [
                0,
                0,
                0,
                0,
                0,
                0,
                0,
                0,
                0,
                0,
                0,
                0,
                0,
                0,
                0
               ]
              ],
              "x": [
               [
                -0.01,
                -0.01,
                -0.01,
                -0.01,
                -0.01,
                -0.01,
                -0.01,
                -0.01,
                -0.01,
                -0.01,
                -0.01,
                -0.01,
                -0.01,
                -0.01,
                -0.01
               ]
              ],
              "y": [
               [
                "area_se",
                "perimeter_se",
                "texture_se",
                "radius_se",
                "fractal_dimension_mean",
                "symmetry_mean",
                "concave points_mean",
                "concavity_mean",
                "compactness_mean",
                "smoothness_mean",
                "area_mean",
                "perimeter_mean",
                "texture_mean",
                "symmetry_worst",
                "fractal_dimension_worst"
               ]
              ]
             }
            ],
            "label": "N° features: 15",
            "method": "restyle"
           },
           {
            "args": [
             {
              "error_x": [
               [
                0,
                0,
                0,
                0,
                0,
                0,
                0,
                0,
                0,
                0,
                0,
                0,
                0,
                0,
                0,
                0
               ]
              ],
              "x": [
               [
                -0.01,
                -0.01,
                -0.01,
                -0.01,
                -0.01,
                -0.01,
                -0.01,
                -0.01,
                -0.01,
                -0.01,
                -0.01,
                -0.01,
                -0.01,
                -0.01,
                -0.01,
                -0.01
               ]
              ],
              "y": [
               [
                "smoothness_se",
                "area_se",
                "perimeter_se",
                "texture_se",
                "radius_se",
                "fractal_dimension_mean",
                "symmetry_mean",
                "concave points_mean",
                "concavity_mean",
                "compactness_mean",
                "smoothness_mean",
                "area_mean",
                "perimeter_mean",
                "texture_mean",
                "symmetry_worst",
                "fractal_dimension_worst"
               ]
              ]
             }
            ],
            "label": "N° features: 16",
            "method": "restyle"
           },
           {
            "args": [
             {
              "error_x": [
               [
                0,
                0,
                0,
                0,
                0,
                0,
                0,
                0,
                0,
                0,
                0,
                0,
                0,
                0,
                0,
                0,
                0
               ]
              ],
              "x": [
               [
                -0.01,
                -0.01,
                -0.01,
                -0.01,
                -0.01,
                -0.01,
                -0.01,
                -0.01,
                -0.01,
                -0.01,
                -0.01,
                -0.01,
                -0.01,
                -0.01,
                -0.01,
                -0.01,
                -0.01
               ]
              ],
              "y": [
               [
                "compactness_se",
                "smoothness_se",
                "area_se",
                "perimeter_se",
                "texture_se",
                "radius_se",
                "fractal_dimension_mean",
                "symmetry_mean",
                "concave points_mean",
                "concavity_mean",
                "compactness_mean",
                "smoothness_mean",
                "area_mean",
                "perimeter_mean",
                "texture_mean",
                "symmetry_worst",
                "fractal_dimension_worst"
               ]
              ]
             }
            ],
            "label": "N° features: 17",
            "method": "restyle"
           },
           {
            "args": [
             {
              "error_x": [
               [
                0,
                0,
                0,
                0,
                0,
                0,
                0,
                0,
                0,
                0,
                0,
                0,
                0,
                0,
                0,
                0,
                0,
                0
               ]
              ],
              "x": [
               [
                -0.01,
                -0.01,
                -0.01,
                -0.01,
                -0.01,
                -0.01,
                -0.01,
                -0.01,
                -0.01,
                -0.01,
                -0.01,
                -0.01,
                -0.01,
                -0.01,
                -0.01,
                -0.01,
                -0.01,
                -0.01
               ]
              ],
              "y": [
               [
                "concavity_se",
                "compactness_se",
                "smoothness_se",
                "area_se",
                "perimeter_se",
                "texture_se",
                "radius_se",
                "fractal_dimension_mean",
                "symmetry_mean",
                "concave points_mean",
                "concavity_mean",
                "compactness_mean",
                "smoothness_mean",
                "area_mean",
                "perimeter_mean",
                "texture_mean",
                "symmetry_worst",
                "fractal_dimension_worst"
               ]
              ]
             }
            ],
            "label": "N° features: 18",
            "method": "restyle"
           },
           {
            "args": [
             {
              "error_x": [
               [
                0,
                0,
                0,
                0,
                0,
                0,
                0,
                0,
                0,
                0,
                0,
                0,
                0,
                0,
                0,
                0,
                0,
                0,
                0
               ]
              ],
              "x": [
               [
                -0.01,
                -0.01,
                -0.01,
                -0.01,
                -0.01,
                -0.01,
                -0.01,
                -0.01,
                -0.01,
                -0.01,
                -0.01,
                -0.01,
                -0.01,
                -0.01,
                -0.01,
                -0.01,
                -0.01,
                -0.01,
                -0.01
               ]
              ],
              "y": [
               [
                "concave points_se",
                "concavity_se",
                "compactness_se",
                "smoothness_se",
                "area_se",
                "perimeter_se",
                "texture_se",
                "radius_se",
                "fractal_dimension_mean",
                "symmetry_mean",
                "concave points_mean",
                "concavity_mean",
                "compactness_mean",
                "smoothness_mean",
                "area_mean",
                "perimeter_mean",
                "texture_mean",
                "symmetry_worst",
                "fractal_dimension_worst"
               ]
              ]
             }
            ],
            "label": "N° features: 19",
            "method": "restyle"
           },
           {
            "args": [
             {
              "error_x": [
               [
                0,
                0,
                0,
                0,
                0,
                0,
                0,
                0,
                0,
                0,
                0,
                0,
                0,
                0,
                0,
                0,
                0,
                0,
                0,
                0
               ]
              ],
              "x": [
               [
                -0.01,
                -0.01,
                -0.01,
                -0.01,
                -0.01,
                -0.01,
                -0.01,
                -0.01,
                -0.01,
                -0.01,
                -0.01,
                -0.01,
                -0.01,
                -0.01,
                -0.01,
                -0.01,
                -0.01,
                -0.01,
                -0.01,
                -0.01
               ]
              ],
              "y": [
               [
                "symmetry_se",
                "concave points_se",
                "concavity_se",
                "compactness_se",
                "smoothness_se",
                "area_se",
                "perimeter_se",
                "texture_se",
                "radius_se",
                "fractal_dimension_mean",
                "symmetry_mean",
                "concave points_mean",
                "concavity_mean",
                "compactness_mean",
                "smoothness_mean",
                "area_mean",
                "perimeter_mean",
                "texture_mean",
                "symmetry_worst",
                "fractal_dimension_worst"
               ]
              ]
             }
            ],
            "label": "N° features: 20",
            "method": "restyle"
           },
           {
            "args": [
             {
              "error_x": [
               [
                0,
                0,
                0,
                0,
                0,
                0,
                0,
                0,
                0,
                0,
                0,
                0,
                0,
                0,
                0,
                0,
                0,
                0,
                0,
                0,
                0
               ]
              ],
              "x": [
               [
                -0.01,
                -0.01,
                -0.01,
                -0.01,
                -0.01,
                -0.01,
                -0.01,
                -0.01,
                -0.01,
                -0.01,
                -0.01,
                -0.01,
                -0.01,
                -0.01,
                -0.01,
                -0.01,
                -0.01,
                -0.01,
                -0.01,
                -0.01,
                -0.01
               ]
              ],
              "y": [
               [
                "fractal_dimension_se",
                "symmetry_se",
                "concave points_se",
                "concavity_se",
                "compactness_se",
                "smoothness_se",
                "area_se",
                "perimeter_se",
                "texture_se",
                "radius_se",
                "fractal_dimension_mean",
                "symmetry_mean",
                "concave points_mean",
                "concavity_mean",
                "compactness_mean",
                "smoothness_mean",
                "area_mean",
                "perimeter_mean",
                "texture_mean",
                "symmetry_worst",
                "fractal_dimension_worst"
               ]
              ]
             }
            ],
            "label": "N° features: 21",
            "method": "restyle"
           },
           {
            "args": [
             {
              "error_x": [
               [
                0,
                0,
                0,
                0,
                0,
                0,
                0,
                0,
                0,
                0,
                0,
                0,
                0,
                0,
                0,
                0,
                0,
                0,
                0,
                0,
                0,
                0
               ]
              ],
              "x": [
               [
                -0.01,
                -0.01,
                -0.01,
                -0.01,
                -0.01,
                -0.01,
                -0.01,
                -0.01,
                -0.01,
                -0.01,
                -0.01,
                -0.01,
                -0.01,
                -0.01,
                -0.01,
                -0.01,
                -0.01,
                -0.01,
                -0.01,
                -0.01,
                -0.01,
                -0.01
               ]
              ],
              "y": [
               [
                "radius_worst",
                "fractal_dimension_se",
                "symmetry_se",
                "concave points_se",
                "concavity_se",
                "compactness_se",
                "smoothness_se",
                "area_se",
                "perimeter_se",
                "texture_se",
                "radius_se",
                "fractal_dimension_mean",
                "symmetry_mean",
                "concave points_mean",
                "concavity_mean",
                "compactness_mean",
                "smoothness_mean",
                "area_mean",
                "perimeter_mean",
                "texture_mean",
                "symmetry_worst",
                "fractal_dimension_worst"
               ]
              ]
             }
            ],
            "label": "N° features: 22",
            "method": "restyle"
           },
           {
            "args": [
             {
              "error_x": [
               [
                0,
                0,
                0,
                0,
                0,
                0,
                0,
                0,
                0,
                0,
                0,
                0,
                0,
                0,
                0,
                0,
                0,
                0,
                0,
                0,
                0,
                0,
                0
               ]
              ],
              "x": [
               [
                -0.01,
                -0.01,
                -0.01,
                -0.01,
                -0.01,
                -0.01,
                -0.01,
                -0.01,
                -0.01,
                -0.01,
                -0.01,
                -0.01,
                -0.01,
                -0.01,
                -0.01,
                -0.01,
                -0.01,
                -0.01,
                -0.01,
                -0.01,
                -0.01,
                -0.01,
                -0.01
               ]
              ],
              "y": [
               [
                "texture_worst",
                "radius_worst",
                "fractal_dimension_se",
                "symmetry_se",
                "concave points_se",
                "concavity_se",
                "compactness_se",
                "smoothness_se",
                "area_se",
                "perimeter_se",
                "texture_se",
                "radius_se",
                "fractal_dimension_mean",
                "symmetry_mean",
                "concave points_mean",
                "concavity_mean",
                "compactness_mean",
                "smoothness_mean",
                "area_mean",
                "perimeter_mean",
                "texture_mean",
                "symmetry_worst",
                "fractal_dimension_worst"
               ]
              ]
             }
            ],
            "label": "N° features: 23",
            "method": "restyle"
           },
           {
            "args": [
             {
              "error_x": [
               [
                0,
                0,
                0,
                0,
                0,
                0,
                0,
                0,
                0,
                0,
                0,
                0,
                0,
                0,
                0,
                0,
                0,
                0,
                0,
                0,
                0,
                0,
                0,
                0
               ]
              ],
              "x": [
               [
                -0.01,
                -0.01,
                -0.01,
                -0.01,
                -0.01,
                -0.01,
                -0.01,
                -0.01,
                -0.01,
                -0.01,
                -0.01,
                -0.01,
                -0.01,
                -0.01,
                -0.01,
                -0.01,
                -0.01,
                -0.01,
                -0.01,
                -0.01,
                -0.01,
                -0.01,
                -0.01,
                -0.01
               ]
              ],
              "y": [
               [
                "perimeter_worst",
                "texture_worst",
                "radius_worst",
                "fractal_dimension_se",
                "symmetry_se",
                "concave points_se",
                "concavity_se",
                "compactness_se",
                "smoothness_se",
                "area_se",
                "perimeter_se",
                "texture_se",
                "radius_se",
                "fractal_dimension_mean",
                "symmetry_mean",
                "concave points_mean",
                "concavity_mean",
                "compactness_mean",
                "smoothness_mean",
                "area_mean",
                "perimeter_mean",
                "texture_mean",
                "symmetry_worst",
                "fractal_dimension_worst"
               ]
              ]
             }
            ],
            "label": "N° features: 24",
            "method": "restyle"
           },
           {
            "args": [
             {
              "error_x": [
               [
                0,
                0,
                0,
                0,
                0,
                0,
                0,
                0,
                0,
                0,
                0,
                0,
                0,
                0,
                0,
                0,
                0,
                0,
                0,
                0,
                0,
                0,
                0,
                0,
                0
               ]
              ],
              "x": [
               [
                -0.01,
                -0.01,
                -0.01,
                -0.01,
                -0.01,
                -0.01,
                -0.01,
                -0.01,
                -0.01,
                -0.01,
                -0.01,
                -0.01,
                -0.01,
                -0.01,
                -0.01,
                -0.01,
                -0.01,
                -0.01,
                -0.01,
                -0.01,
                -0.01,
                -0.01,
                -0.01,
                -0.01,
                -0.01
               ]
              ],
              "y": [
               [
                "area_worst",
                "perimeter_worst",
                "texture_worst",
                "radius_worst",
                "fractal_dimension_se",
                "symmetry_se",
                "concave points_se",
                "concavity_se",
                "compactness_se",
                "smoothness_se",
                "area_se",
                "perimeter_se",
                "texture_se",
                "radius_se",
                "fractal_dimension_mean",
                "symmetry_mean",
                "concave points_mean",
                "concavity_mean",
                "compactness_mean",
                "smoothness_mean",
                "area_mean",
                "perimeter_mean",
                "texture_mean",
                "symmetry_worst",
                "fractal_dimension_worst"
               ]
              ]
             }
            ],
            "label": "N° features: 25",
            "method": "restyle"
           },
           {
            "args": [
             {
              "error_x": [
               [
                0,
                0,
                0,
                0,
                0,
                0,
                0,
                0,
                0,
                0,
                0,
                0,
                0,
                0,
                0,
                0,
                0,
                0,
                0,
                0,
                0,
                0,
                0,
                0,
                0,
                0
               ]
              ],
              "x": [
               [
                -0.01,
                -0.01,
                -0.01,
                -0.01,
                -0.01,
                -0.01,
                -0.01,
                -0.01,
                -0.01,
                -0.01,
                -0.01,
                -0.01,
                -0.01,
                -0.01,
                -0.01,
                -0.01,
                -0.01,
                -0.01,
                -0.01,
                -0.01,
                -0.01,
                -0.01,
                -0.01,
                -0.01,
                -0.01,
                -0.01
               ]
              ],
              "y": [
               [
                "smoothness_worst",
                "area_worst",
                "perimeter_worst",
                "texture_worst",
                "radius_worst",
                "fractal_dimension_se",
                "symmetry_se",
                "concave points_se",
                "concavity_se",
                "compactness_se",
                "smoothness_se",
                "area_se",
                "perimeter_se",
                "texture_se",
                "radius_se",
                "fractal_dimension_mean",
                "symmetry_mean",
                "concave points_mean",
                "concavity_mean",
                "compactness_mean",
                "smoothness_mean",
                "area_mean",
                "perimeter_mean",
                "texture_mean",
                "symmetry_worst",
                "fractal_dimension_worst"
               ]
              ]
             }
            ],
            "label": "N° features: 26",
            "method": "restyle"
           },
           {
            "args": [
             {
              "error_x": [
               [
                0,
                0,
                0,
                0,
                0,
                0,
                0,
                0,
                0,
                0,
                0,
                0,
                0,
                0,
                0,
                0,
                0,
                0,
                0,
                0,
                0,
                0,
                0,
                0,
                0,
                0,
                0
               ]
              ],
              "x": [
               [
                -0.01,
                -0.01,
                -0.01,
                -0.01,
                -0.01,
                -0.01,
                -0.01,
                -0.01,
                -0.01,
                -0.01,
                -0.01,
                -0.01,
                -0.01,
                -0.01,
                -0.01,
                -0.01,
                -0.01,
                -0.01,
                -0.01,
                -0.01,
                -0.01,
                -0.01,
                -0.01,
                -0.01,
                -0.01,
                -0.01,
                -0.01
               ]
              ],
              "y": [
               [
                "compactness_worst",
                "smoothness_worst",
                "area_worst",
                "perimeter_worst",
                "texture_worst",
                "radius_worst",
                "fractal_dimension_se",
                "symmetry_se",
                "concave points_se",
                "concavity_se",
                "compactness_se",
                "smoothness_se",
                "area_se",
                "perimeter_se",
                "texture_se",
                "radius_se",
                "fractal_dimension_mean",
                "symmetry_mean",
                "concave points_mean",
                "concavity_mean",
                "compactness_mean",
                "smoothness_mean",
                "area_mean",
                "perimeter_mean",
                "texture_mean",
                "symmetry_worst",
                "fractal_dimension_worst"
               ]
              ]
             }
            ],
            "label": "N° features: 27",
            "method": "restyle"
           },
           {
            "args": [
             {
              "error_x": [
               [
                0,
                0,
                0,
                0,
                0,
                0,
                0,
                0,
                0,
                0,
                0,
                0,
                0,
                0,
                0,
                0,
                0,
                0,
                0,
                0,
                0,
                0,
                0,
                0,
                0,
                0,
                0,
                0
               ]
              ],
              "x": [
               [
                -0.01,
                -0.01,
                -0.01,
                -0.01,
                -0.01,
                -0.01,
                -0.01,
                -0.01,
                -0.01,
                -0.01,
                -0.01,
                -0.01,
                -0.01,
                -0.01,
                -0.01,
                -0.01,
                -0.01,
                -0.01,
                -0.01,
                -0.01,
                -0.01,
                -0.01,
                -0.01,
                -0.01,
                -0.01,
                -0.01,
                -0.01,
                -0.01
               ]
              ],
              "y": [
               [
                "concavity_worst",
                "compactness_worst",
                "smoothness_worst",
                "area_worst",
                "perimeter_worst",
                "texture_worst",
                "radius_worst",
                "fractal_dimension_se",
                "symmetry_se",
                "concave points_se",
                "concavity_se",
                "compactness_se",
                "smoothness_se",
                "area_se",
                "perimeter_se",
                "texture_se",
                "radius_se",
                "fractal_dimension_mean",
                "symmetry_mean",
                "concave points_mean",
                "concavity_mean",
                "compactness_mean",
                "smoothness_mean",
                "area_mean",
                "perimeter_mean",
                "texture_mean",
                "symmetry_worst",
                "fractal_dimension_worst"
               ]
              ]
             }
            ],
            "label": "N° features: 28",
            "method": "restyle"
           },
           {
            "args": [
             {
              "error_x": [
               [
                0,
                0,
                0,
                0,
                0,
                0,
                0,
                0,
                0,
                0,
                0,
                0,
                0,
                0,
                0,
                0,
                0,
                0,
                0,
                0,
                0,
                0,
                0,
                0,
                0,
                0,
                0,
                0,
                0
               ]
              ],
              "x": [
               [
                -0.01,
                -0.01,
                -0.01,
                -0.01,
                -0.01,
                -0.01,
                -0.01,
                -0.01,
                -0.01,
                -0.01,
                -0.01,
                -0.01,
                -0.01,
                -0.01,
                -0.01,
                -0.01,
                -0.01,
                -0.01,
                -0.01,
                -0.01,
                -0.01,
                -0.01,
                -0.01,
                -0.01,
                -0.01,
                -0.01,
                -0.01,
                -0.01,
                -0.01
               ]
              ],
              "y": [
               [
                "concave points_worst",
                "concavity_worst",
                "compactness_worst",
                "smoothness_worst",
                "area_worst",
                "perimeter_worst",
                "texture_worst",
                "radius_worst",
                "fractal_dimension_se",
                "symmetry_se",
                "concave points_se",
                "concavity_se",
                "compactness_se",
                "smoothness_se",
                "area_se",
                "perimeter_se",
                "texture_se",
                "radius_se",
                "fractal_dimension_mean",
                "symmetry_mean",
                "concave points_mean",
                "concavity_mean",
                "compactness_mean",
                "smoothness_mean",
                "area_mean",
                "perimeter_mean",
                "texture_mean",
                "symmetry_worst",
                "fractal_dimension_worst"
               ]
              ]
             }
            ],
            "label": "N° features: 29",
            "method": "restyle"
           }
          ],
          "x": 0,
          "xanchor": "left",
          "y": 1.2,
          "yanchor": "top"
         }
        ],
        "xaxis": {
         "anchor": "y",
         "autorange": true,
         "domain": [
          0,
          1
         ],
         "range": [
          -0.010526315789473684,
          0
         ],
         "title": {
          "text": "Importance"
         },
         "type": "linear"
        },
        "yaxis": {
         "anchor": "x",
         "autorange": true,
         "domain": [
          0,
          1
         ],
         "range": [
          -0.5,
          9.5
         ],
         "type": "category"
        }
       }
      },
      "image/png": "[encoded data removed]",
      "text/html": [
       "<div>                            <div id=\"2087f22d-a899-41b8-b16d-187f316cb33b\" class=\"plotly-graph-div\" style=\"height:525px; width:100%;\"></div>            <script type=\"text/javascript\">                require([\"plotly\"], function(Plotly) {                    window.PLOTLYENV=window.PLOTLYENV || {};                                    if (document.getElementById(\"2087f22d-a899-41b8-b16d-187f316cb33b\")) {                    Plotly.newPlot(                        \"2087f22d-a899-41b8-b16d-187f316cb33b\",                        [{\"alignmentgroup\":\"True\",\"error_x\":{\"array\":[0.0,0.0,0.0,0.0,0.0,0.0,0.0,0.0,0.0,0.0]},\"hovertemplate\":\"x=%{x}\\u003cbr\\u003ey=%{y}\\u003cextra\\u003e\\u003c\\u002fextra\\u003e\",\"legendgroup\":\"\",\"marker\":{\"color\":\"#636efa\",\"pattern\":{\"shape\":\"\"}},\"name\":\"\",\"offsetgroup\":\"\",\"orientation\":\"h\",\"showlegend\":false,\"textposition\":\"auto\",\"x\":[-0.01,-0.01,-0.01,-0.01,-0.01,-0.01,-0.01,-0.01,-0.01,-0.01],\"xaxis\":\"x\",\"y\":[\"symmetry_mean\",\"concave points_mean\",\"concavity_mean\",\"compactness_mean\",\"smoothness_mean\",\"area_mean\",\"perimeter_mean\",\"texture_mean\",\"symmetry_worst\",\"fractal_dimension_worst\"],\"yaxis\":\"y\",\"type\":\"bar\"}],                        {\"annotations\":[{\"showarrow\":false,\"text\":\"\",\"x\":0,\"xanchor\":\"left\",\"xref\":\"paper\",\"y\":1.15,\"yanchor\":\"top\",\"yref\":\"paper\"}],\"barmode\":\"relative\",\"legend\":{\"tracegroupgap\":0},\"margin\":{\"t\":60},\"template\":{\"data\":{\"barpolar\":[{\"marker\":{\"line\":{\"color\":\"#E5ECF6\",\"width\":0.5},\"pattern\":{\"fillmode\":\"overlay\",\"size\":10,\"solidity\":0.2}},\"type\":\"barpolar\"}],\"bar\":[{\"error_x\":{\"color\":\"#2a3f5f\"},\"error_y\":{\"color\":\"#2a3f5f\"},\"marker\":{\"line\":{\"color\":\"#E5ECF6\",\"width\":0.5},\"pattern\":{\"fillmode\":\"overlay\",\"size\":10,\"solidity\":0.2}},\"type\":\"bar\"}],\"carpet\":[{\"aaxis\":{\"endlinecolor\":\"#2a3f5f\",\"gridcolor\":\"white\",\"linecolor\":\"white\",\"minorgridcolor\":\"white\",\"startlinecolor\":\"#2a3f5f\"},\"baxis\":{\"endlinecolor\":\"#2a3f5f\",\"gridcolor\":\"white\",\"linecolor\":\"white\",\"minorgridcolor\":\"white\",\"startlinecolor\":\"#2a3f5f\"},\"type\":\"carpet\"}],\"choropleth\":[{\"colorbar\":{\"outlinewidth\":0,\"ticks\":\"\"},\"type\":\"choropleth\"}],\"contourcarpet\":[{\"colorbar\":{\"outlinewidth\":0,\"ticks\":\"\"},\"type\":\"contourcarpet\"}],\"contour\":[{\"colorbar\":{\"outlinewidth\":0,\"ticks\":\"\"},\"colorscale\":[[0.0,\"#0d0887\"],[0.1111111111111111,\"#46039f\"],[0.2222222222222222,\"#7201a8\"],[0.3333333333333333,\"#9c179e\"],[0.4444444444444444,\"#bd3786\"],[0.5555555555555556,\"#d8576b\"],[0.6666666666666666,\"#ed7953\"],[0.7777777777777778,\"#fb9f3a\"],[0.8888888888888888,\"#fdca26\"],[1.0,\"#f0f921\"]],\"type\":\"contour\"}],\"heatmapgl\":[{\"colorbar\":{\"outlinewidth\":0,\"ticks\":\"\"},\"colorscale\":[[0.0,\"#0d0887\"],[0.1111111111111111,\"#46039f\"],[0.2222222222222222,\"#7201a8\"],[0.3333333333333333,\"#9c179e\"],[0.4444444444444444,\"#bd3786\"],[0.5555555555555556,\"#d8576b\"],[0.6666666666666666,\"#ed7953\"],[0.7777777777777778,\"#fb9f3a\"],[0.8888888888888888,\"#fdca26\"],[1.0,\"#f0f921\"]],\"type\":\"heatmapgl\"}],\"heatmap\":[{\"colorbar\":{\"outlinewidth\":0,\"ticks\":\"\"},\"colorscale\":[[0.0,\"#0d0887\"],[0.1111111111111111,\"#46039f\"],[0.2222222222222222,\"#7201a8\"],[0.3333333333333333,\"#9c179e\"],[0.4444444444444444,\"#bd3786\"],[0.5555555555555556,\"#d8576b\"],[0.6666666666666666,\"#ed7953\"],[0.7777777777777778,\"#fb9f3a\"],[0.8888888888888888,\"#fdca26\"],[1.0,\"#f0f921\"]],\"type\":\"heatmap\"}],\"histogram2dcontour\":[{\"colorbar\":{\"outlinewidth\":0,\"ticks\":\"\"},\"colorscale\":[[0.0,\"#0d0887\"],[0.1111111111111111,\"#46039f\"],[0.2222222222222222,\"#7201a8\"],[0.3333333333333333,\"#9c179e\"],[0.4444444444444444,\"#bd3786\"],[0.5555555555555556,\"#d8576b\"],[0.6666666666666666,\"#ed7953\"],[0.7777777777777778,\"#fb9f3a\"],[0.8888888888888888,\"#fdca26\"],[1.0,\"#f0f921\"]],\"type\":\"histogram2dcontour\"}],\"histogram2d\":[{\"colorbar\":{\"outlinewidth\":0,\"ticks\":\"\"},\"colorscale\":[[0.0,\"#0d0887\"],[0.1111111111111111,\"#46039f\"],[0.2222222222222222,\"#7201a8\"],[0.3333333333333333,\"#9c179e\"],[0.4444444444444444,\"#bd3786\"],[0.5555555555555556,\"#d8576b\"],[0.6666666666666666,\"#ed7953\"],[0.7777777777777778,\"#fb9f3a\"],[0.8888888888888888,\"#fdca26\"],[1.0,\"#f0f921\"]],\"type\":\"histogram2d\"}],\"histogram\":[{\"marker\":{\"pattern\":{\"fillmode\":\"overlay\",\"size\":10,\"solidity\":0.2}},\"type\":\"histogram\"}],\"mesh3d\":[{\"colorbar\":{\"outlinewidth\":0,\"ticks\":\"\"},\"type\":\"mesh3d\"}],\"parcoords\":[{\"line\":{\"colorbar\":{\"outlinewidth\":0,\"ticks\":\"\"}},\"type\":\"parcoords\"}],\"pie\":[{\"automargin\":true,\"type\":\"pie\"}],\"scatter3d\":[{\"line\":{\"colorbar\":{\"outlinewidth\":0,\"ticks\":\"\"}},\"marker\":{\"colorbar\":{\"outlinewidth\":0,\"ticks\":\"\"}},\"type\":\"scatter3d\"}],\"scattercarpet\":[{\"marker\":{\"colorbar\":{\"outlinewidth\":0,\"ticks\":\"\"}},\"type\":\"scattercarpet\"}],\"scattergeo\":[{\"marker\":{\"colorbar\":{\"outlinewidth\":0,\"ticks\":\"\"}},\"type\":\"scattergeo\"}],\"scattergl\":[{\"marker\":{\"colorbar\":{\"outlinewidth\":0,\"ticks\":\"\"}},\"type\":\"scattergl\"}],\"scattermapbox\":[{\"marker\":{\"colorbar\":{\"outlinewidth\":0,\"ticks\":\"\"}},\"type\":\"scattermapbox\"}],\"scatterpolargl\":[{\"marker\":{\"colorbar\":{\"outlinewidth\":0,\"ticks\":\"\"}},\"type\":\"scatterpolargl\"}],\"scatterpolar\":[{\"marker\":{\"colorbar\":{\"outlinewidth\":0,\"ticks\":\"\"}},\"type\":\"scatterpolar\"}],\"scatter\":[{\"fillpattern\":{\"fillmode\":\"overlay\",\"size\":10,\"solidity\":0.2},\"type\":\"scatter\"}],\"scatterternary\":[{\"marker\":{\"colorbar\":{\"outlinewidth\":0,\"ticks\":\"\"}},\"type\":\"scatterternary\"}],\"surface\":[{\"colorbar\":{\"outlinewidth\":0,\"ticks\":\"\"},\"colorscale\":[[0.0,\"#0d0887\"],[0.1111111111111111,\"#46039f\"],[0.2222222222222222,\"#7201a8\"],[0.3333333333333333,\"#9c179e\"],[0.4444444444444444,\"#bd3786\"],[0.5555555555555556,\"#d8576b\"],[0.6666666666666666,\"#ed7953\"],[0.7777777777777778,\"#fb9f3a\"],[0.8888888888888888,\"#fdca26\"],[1.0,\"#f0f921\"]],\"type\":\"surface\"}],\"table\":[{\"cells\":{\"fill\":{\"color\":\"#EBF0F8\"},\"line\":{\"color\":\"white\"}},\"header\":{\"fill\":{\"color\":\"#C8D4E3\"},\"line\":{\"color\":\"white\"}},\"type\":\"table\"}]},\"layout\":{\"annotationdefaults\":{\"arrowcolor\":\"#2a3f5f\",\"arrowhead\":0,\"arrowwidth\":1},\"autotypenumbers\":\"strict\",\"coloraxis\":{\"colorbar\":{\"outlinewidth\":0,\"ticks\":\"\"}},\"colorscale\":{\"diverging\":[[0,\"#8e0152\"],[0.1,\"#c51b7d\"],[0.2,\"#de77ae\"],[0.3,\"#f1b6da\"],[0.4,\"#fde0ef\"],[0.5,\"#f7f7f7\"],[0.6,\"#e6f5d0\"],[0.7,\"#b8e186\"],[0.8,\"#7fbc41\"],[0.9,\"#4d9221\"],[1,\"#276419\"]],\"sequential\":[[0.0,\"#0d0887\"],[0.1111111111111111,\"#46039f\"],[0.2222222222222222,\"#7201a8\"],[0.3333333333333333,\"#9c179e\"],[0.4444444444444444,\"#bd3786\"],[0.5555555555555556,\"#d8576b\"],[0.6666666666666666,\"#ed7953\"],[0.7777777777777778,\"#fb9f3a\"],[0.8888888888888888,\"#fdca26\"],[1.0,\"#f0f921\"]],\"sequentialminus\":[[0.0,\"#0d0887\"],[0.1111111111111111,\"#46039f\"],[0.2222222222222222,\"#7201a8\"],[0.3333333333333333,\"#9c179e\"],[0.4444444444444444,\"#bd3786\"],[0.5555555555555556,\"#d8576b\"],[0.6666666666666666,\"#ed7953\"],[0.7777777777777778,\"#fb9f3a\"],[0.8888888888888888,\"#fdca26\"],[1.0,\"#f0f921\"]]},\"colorway\":[\"#636efa\",\"#EF553B\",\"#00cc96\",\"#ab63fa\",\"#FFA15A\",\"#19d3f3\",\"#FF6692\",\"#B6E880\",\"#FF97FF\",\"#FECB52\"],\"font\":{\"color\":\"#2a3f5f\"},\"geo\":{\"bgcolor\":\"white\",\"lakecolor\":\"white\",\"landcolor\":\"#E5ECF6\",\"showlakes\":true,\"showland\":true,\"subunitcolor\":\"white\"},\"hoverlabel\":{\"align\":\"left\"},\"hovermode\":\"closest\",\"mapbox\":{\"style\":\"light\"},\"paper_bgcolor\":\"white\",\"plot_bgcolor\":\"#E5ECF6\",\"polar\":{\"angularaxis\":{\"gridcolor\":\"white\",\"linecolor\":\"white\",\"ticks\":\"\"},\"bgcolor\":\"#E5ECF6\",\"radialaxis\":{\"gridcolor\":\"white\",\"linecolor\":\"white\",\"ticks\":\"\"}},\"scene\":{\"xaxis\":{\"backgroundcolor\":\"#E5ECF6\",\"gridcolor\":\"white\",\"gridwidth\":2,\"linecolor\":\"white\",\"showbackground\":true,\"ticks\":\"\",\"zerolinecolor\":\"white\"},\"yaxis\":{\"backgroundcolor\":\"#E5ECF6\",\"gridcolor\":\"white\",\"gridwidth\":2,\"linecolor\":\"white\",\"showbackground\":true,\"ticks\":\"\",\"zerolinecolor\":\"white\"},\"zaxis\":{\"backgroundcolor\":\"#E5ECF6\",\"gridcolor\":\"white\",\"gridwidth\":2,\"linecolor\":\"white\",\"showbackground\":true,\"ticks\":\"\",\"zerolinecolor\":\"white\"}},\"shapedefaults\":{\"line\":{\"color\":\"#2a3f5f\"}},\"ternary\":{\"aaxis\":{\"gridcolor\":\"white\",\"linecolor\":\"white\",\"ticks\":\"\"},\"baxis\":{\"gridcolor\":\"white\",\"linecolor\":\"white\",\"ticks\":\"\"},\"bgcolor\":\"#E5ECF6\",\"caxis\":{\"gridcolor\":\"white\",\"linecolor\":\"white\",\"ticks\":\"\"}},\"title\":{\"x\":0.05},\"xaxis\":{\"automargin\":true,\"gridcolor\":\"white\",\"linecolor\":\"white\",\"ticks\":\"\",\"title\":{\"standoff\":15},\"zerolinecolor\":\"white\",\"zerolinewidth\":2},\"yaxis\":{\"automargin\":true,\"gridcolor\":\"white\",\"linecolor\":\"white\",\"ticks\":\"\",\"title\":{\"standoff\":15},\"zerolinecolor\":\"white\",\"zerolinewidth\":2}}},\"updatemenus\":[{\"buttons\":[{\"args\":[{\"x\":[[-0.01,-0.01,-0.01,-0.01,-0.01,-0.01,-0.01,-0.01,-0.01,-0.01,-0.01,-0.01,-0.01,-0.01,-0.01,-0.01,-0.01,-0.01,-0.01,-0.01,-0.01,-0.01,-0.01,-0.01,-0.01,-0.01,-0.01,-0.01,-0.01,-0.01]],\"y\":[[\"radius_mean\",\"concave points_worst\",\"concavity_worst\",\"compactness_worst\",\"smoothness_worst\",\"area_worst\",\"perimeter_worst\",\"texture_worst\",\"radius_worst\",\"fractal_dimension_se\",\"symmetry_se\",\"concave points_se\",\"concavity_se\",\"compactness_se\",\"smoothness_se\",\"area_se\",\"perimeter_se\",\"texture_se\",\"radius_se\",\"fractal_dimension_mean\",\"symmetry_mean\",\"concave points_mean\",\"concavity_mean\",\"compactness_mean\",\"smoothness_mean\",\"area_mean\",\"perimeter_mean\",\"texture_mean\",\"symmetry_worst\",\"fractal_dimension_worst\"]],\"error_x\":[[0.0,0.0,0.0,0.0,0.0,0.0,0.0,0.0,0.0,0.0,0.0,0.0,0.0,0.0,0.0,0.0,0.0,0.0,0.0,0.0,0.0,0.0,0.0,0.0,0.0,0.0,0.0,0.0,0.0,0.0]]}],\"label\":\"N° features: 30\",\"method\":\"restyle\"},{\"args\":[{\"x\":[[-0.01]],\"y\":[[\"fractal_dimension_worst\"]],\"error_x\":[[0.0]]}],\"label\":\"N° features: 1\",\"method\":\"restyle\"},{\"args\":[{\"x\":[[-0.01,-0.01]],\"y\":[[\"symmetry_worst\",\"fractal_dimension_worst\"]],\"error_x\":[[0.0,0.0]]}],\"label\":\"N° features: 2\",\"method\":\"restyle\"},{\"args\":[{\"x\":[[-0.01,-0.01,-0.01]],\"y\":[[\"texture_mean\",\"symmetry_worst\",\"fractal_dimension_worst\"]],\"error_x\":[[0.0,0.0,0.0]]}],\"label\":\"N° features: 3\",\"method\":\"restyle\"},{\"args\":[{\"x\":[[-0.01,-0.01,-0.01,-0.01]],\"y\":[[\"perimeter_mean\",\"texture_mean\",\"symmetry_worst\",\"fractal_dimension_worst\"]],\"error_x\":[[0.0,0.0,0.0,0.0]]}],\"label\":\"N° features: 4\",\"method\":\"restyle\"},{\"args\":[{\"x\":[[-0.01,-0.01,-0.01,-0.01,-0.01]],\"y\":[[\"area_mean\",\"perimeter_mean\",\"texture_mean\",\"symmetry_worst\",\"fractal_dimension_worst\"]],\"error_x\":[[0.0,0.0,0.0,0.0,0.0]]}],\"label\":\"N° features: 5\",\"method\":\"restyle\"},{\"args\":[{\"x\":[[-0.01,-0.01,-0.01,-0.01,-0.01,-0.01]],\"y\":[[\"smoothness_mean\",\"area_mean\",\"perimeter_mean\",\"texture_mean\",\"symmetry_worst\",\"fractal_dimension_worst\"]],\"error_x\":[[0.0,0.0,0.0,0.0,0.0,0.0]]}],\"label\":\"N° features: 6\",\"method\":\"restyle\"},{\"args\":[{\"x\":[[-0.01,-0.01,-0.01,-0.01,-0.01,-0.01,-0.01]],\"y\":[[\"compactness_mean\",\"smoothness_mean\",\"area_mean\",\"perimeter_mean\",\"texture_mean\",\"symmetry_worst\",\"fractal_dimension_worst\"]],\"error_x\":[[0.0,0.0,0.0,0.0,0.0,0.0,0.0]]}],\"label\":\"N° features: 7\",\"method\":\"restyle\"},{\"args\":[{\"x\":[[-0.01,-0.01,-0.01,-0.01,-0.01,-0.01,-0.01,-0.01]],\"y\":[[\"concavity_mean\",\"compactness_mean\",\"smoothness_mean\",\"area_mean\",\"perimeter_mean\",\"texture_mean\",\"symmetry_worst\",\"fractal_dimension_worst\"]],\"error_x\":[[0.0,0.0,0.0,0.0,0.0,0.0,0.0,0.0]]}],\"label\":\"N° features: 8\",\"method\":\"restyle\"},{\"args\":[{\"x\":[[-0.01,-0.01,-0.01,-0.01,-0.01,-0.01,-0.01,-0.01,-0.01]],\"y\":[[\"concave points_mean\",\"concavity_mean\",\"compactness_mean\",\"smoothness_mean\",\"area_mean\",\"perimeter_mean\",\"texture_mean\",\"symmetry_worst\",\"fractal_dimension_worst\"]],\"error_x\":[[0.0,0.0,0.0,0.0,0.0,0.0,0.0,0.0,0.0]]}],\"label\":\"N° features: 9\",\"method\":\"restyle\"},{\"args\":[{\"x\":[[-0.01,-0.01,-0.01,-0.01,-0.01,-0.01,-0.01,-0.01,-0.01,-0.01]],\"y\":[[\"symmetry_mean\",\"concave points_mean\",\"concavity_mean\",\"compactness_mean\",\"smoothness_mean\",\"area_mean\",\"perimeter_mean\",\"texture_mean\",\"symmetry_worst\",\"fractal_dimension_worst\"]],\"error_x\":[[0.0,0.0,0.0,0.0,0.0,0.0,0.0,0.0,0.0,0.0]]}],\"label\":\"N° features: 10\",\"method\":\"restyle\"},{\"args\":[{\"x\":[[-0.01,-0.01,-0.01,-0.01,-0.01,-0.01,-0.01,-0.01,-0.01,-0.01,-0.01]],\"y\":[[\"fractal_dimension_mean\",\"symmetry_mean\",\"concave points_mean\",\"concavity_mean\",\"compactness_mean\",\"smoothness_mean\",\"area_mean\",\"perimeter_mean\",\"texture_mean\",\"symmetry_worst\",\"fractal_dimension_worst\"]],\"error_x\":[[0.0,0.0,0.0,0.0,0.0,0.0,0.0,0.0,0.0,0.0,0.0]]}],\"label\":\"N° features: 11\",\"method\":\"restyle\"},{\"args\":[{\"x\":[[-0.01,-0.01,-0.01,-0.01,-0.01,-0.01,-0.01,-0.01,-0.01,-0.01,-0.01,-0.01]],\"y\":[[\"radius_se\",\"fractal_dimension_mean\",\"symmetry_mean\",\"concave points_mean\",\"concavity_mean\",\"compactness_mean\",\"smoothness_mean\",\"area_mean\",\"perimeter_mean\",\"texture_mean\",\"symmetry_worst\",\"fractal_dimension_worst\"]],\"error_x\":[[0.0,0.0,0.0,0.0,0.0,0.0,0.0,0.0,0.0,0.0,0.0,0.0]]}],\"label\":\"N° features: 12\",\"method\":\"restyle\"},{\"args\":[{\"x\":[[-0.01,-0.01,-0.01,-0.01,-0.01,-0.01,-0.01,-0.01,-0.01,-0.01,-0.01,-0.01,-0.01]],\"y\":[[\"texture_se\",\"radius_se\",\"fractal_dimension_mean\",\"symmetry_mean\",\"concave points_mean\",\"concavity_mean\",\"compactness_mean\",\"smoothness_mean\",\"area_mean\",\"perimeter_mean\",\"texture_mean\",\"symmetry_worst\",\"fractal_dimension_worst\"]],\"error_x\":[[0.0,0.0,0.0,0.0,0.0,0.0,0.0,0.0,0.0,0.0,0.0,0.0,0.0]]}],\"label\":\"N° features: 13\",\"method\":\"restyle\"},{\"args\":[{\"x\":[[-0.01,-0.01,-0.01,-0.01,-0.01,-0.01,-0.01,-0.01,-0.01,-0.01,-0.01,-0.01,-0.01,-0.01]],\"y\":[[\"perimeter_se\",\"texture_se\",\"radius_se\",\"fractal_dimension_mean\",\"symmetry_mean\",\"concave points_mean\",\"concavity_mean\",\"compactness_mean\",\"smoothness_mean\",\"area_mean\",\"perimeter_mean\",\"texture_mean\",\"symmetry_worst\",\"fractal_dimension_worst\"]],\"error_x\":[[0.0,0.0,0.0,0.0,0.0,0.0,0.0,0.0,0.0,0.0,0.0,0.0,0.0,0.0]]}],\"label\":\"N° features: 14\",\"method\":\"restyle\"},{\"args\":[{\"x\":[[-0.01,-0.01,-0.01,-0.01,-0.01,-0.01,-0.01,-0.01,-0.01,-0.01,-0.01,-0.01,-0.01,-0.01,-0.01]],\"y\":[[\"area_se\",\"perimeter_se\",\"texture_se\",\"radius_se\",\"fractal_dimension_mean\",\"symmetry_mean\",\"concave points_mean\",\"concavity_mean\",\"compactness_mean\",\"smoothness_mean\",\"area_mean\",\"perimeter_mean\",\"texture_mean\",\"symmetry_worst\",\"fractal_dimension_worst\"]],\"error_x\":[[0.0,0.0,0.0,0.0,0.0,0.0,0.0,0.0,0.0,0.0,0.0,0.0,0.0,0.0,0.0]]}],\"label\":\"N° features: 15\",\"method\":\"restyle\"},{\"args\":[{\"x\":[[-0.01,-0.01,-0.01,-0.01,-0.01,-0.01,-0.01,-0.01,-0.01,-0.01,-0.01,-0.01,-0.01,-0.01,-0.01,-0.01]],\"y\":[[\"smoothness_se\",\"area_se\",\"perimeter_se\",\"texture_se\",\"radius_se\",\"fractal_dimension_mean\",\"symmetry_mean\",\"concave points_mean\",\"concavity_mean\",\"compactness_mean\",\"smoothness_mean\",\"area_mean\",\"perimeter_mean\",\"texture_mean\",\"symmetry_worst\",\"fractal_dimension_worst\"]],\"error_x\":[[0.0,0.0,0.0,0.0,0.0,0.0,0.0,0.0,0.0,0.0,0.0,0.0,0.0,0.0,0.0,0.0]]}],\"label\":\"N° features: 16\",\"method\":\"restyle\"},{\"args\":[{\"x\":[[-0.01,-0.01,-0.01,-0.01,-0.01,-0.01,-0.01,-0.01,-0.01,-0.01,-0.01,-0.01,-0.01,-0.01,-0.01,-0.01,-0.01]],\"y\":[[\"compactness_se\",\"smoothness_se\",\"area_se\",\"perimeter_se\",\"texture_se\",\"radius_se\",\"fractal_dimension_mean\",\"symmetry_mean\",\"concave points_mean\",\"concavity_mean\",\"compactness_mean\",\"smoothness_mean\",\"area_mean\",\"perimeter_mean\",\"texture_mean\",\"symmetry_worst\",\"fractal_dimension_worst\"]],\"error_x\":[[0.0,0.0,0.0,0.0,0.0,0.0,0.0,0.0,0.0,0.0,0.0,0.0,0.0,0.0,0.0,0.0,0.0]]}],\"label\":\"N° features: 17\",\"method\":\"restyle\"},{\"args\":[{\"x\":[[-0.01,-0.01,-0.01,-0.01,-0.01,-0.01,-0.01,-0.01,-0.01,-0.01,-0.01,-0.01,-0.01,-0.01,-0.01,-0.01,-0.01,-0.01]],\"y\":[[\"concavity_se\",\"compactness_se\",\"smoothness_se\",\"area_se\",\"perimeter_se\",\"texture_se\",\"radius_se\",\"fractal_dimension_mean\",\"symmetry_mean\",\"concave points_mean\",\"concavity_mean\",\"compactness_mean\",\"smoothness_mean\",\"area_mean\",\"perimeter_mean\",\"texture_mean\",\"symmetry_worst\",\"fractal_dimension_worst\"]],\"error_x\":[[0.0,0.0,0.0,0.0,0.0,0.0,0.0,0.0,0.0,0.0,0.0,0.0,0.0,0.0,0.0,0.0,0.0,0.0]]}],\"label\":\"N° features: 18\",\"method\":\"restyle\"},{\"args\":[{\"x\":[[-0.01,-0.01,-0.01,-0.01,-0.01,-0.01,-0.01,-0.01,-0.01,-0.01,-0.01,-0.01,-0.01,-0.01,-0.01,-0.01,-0.01,-0.01,-0.01]],\"y\":[[\"concave points_se\",\"concavity_se\",\"compactness_se\",\"smoothness_se\",\"area_se\",\"perimeter_se\",\"texture_se\",\"radius_se\",\"fractal_dimension_mean\",\"symmetry_mean\",\"concave points_mean\",\"concavity_mean\",\"compactness_mean\",\"smoothness_mean\",\"area_mean\",\"perimeter_mean\",\"texture_mean\",\"symmetry_worst\",\"fractal_dimension_worst\"]],\"error_x\":[[0.0,0.0,0.0,0.0,0.0,0.0,0.0,0.0,0.0,0.0,0.0,0.0,0.0,0.0,0.0,0.0,0.0,0.0,0.0]]}],\"label\":\"N° features: 19\",\"method\":\"restyle\"},{\"args\":[{\"x\":[[-0.01,-0.01,-0.01,-0.01,-0.01,-0.01,-0.01,-0.01,-0.01,-0.01,-0.01,-0.01,-0.01,-0.01,-0.01,-0.01,-0.01,-0.01,-0.01,-0.01]],\"y\":[[\"symmetry_se\",\"concave points_se\",\"concavity_se\",\"compactness_se\",\"smoothness_se\",\"area_se\",\"perimeter_se\",\"texture_se\",\"radius_se\",\"fractal_dimension_mean\",\"symmetry_mean\",\"concave points_mean\",\"concavity_mean\",\"compactness_mean\",\"smoothness_mean\",\"area_mean\",\"perimeter_mean\",\"texture_mean\",\"symmetry_worst\",\"fractal_dimension_worst\"]],\"error_x\":[[0.0,0.0,0.0,0.0,0.0,0.0,0.0,0.0,0.0,0.0,0.0,0.0,0.0,0.0,0.0,0.0,0.0,0.0,0.0,0.0]]}],\"label\":\"N° features: 20\",\"method\":\"restyle\"},{\"args\":[{\"x\":[[-0.01,-0.01,-0.01,-0.01,-0.01,-0.01,-0.01,-0.01,-0.01,-0.01,-0.01,-0.01,-0.01,-0.01,-0.01,-0.01,-0.01,-0.01,-0.01,-0.01,-0.01]],\"y\":[[\"fractal_dimension_se\",\"symmetry_se\",\"concave points_se\",\"concavity_se\",\"compactness_se\",\"smoothness_se\",\"area_se\",\"perimeter_se\",\"texture_se\",\"radius_se\",\"fractal_dimension_mean\",\"symmetry_mean\",\"concave points_mean\",\"concavity_mean\",\"compactness_mean\",\"smoothness_mean\",\"area_mean\",\"perimeter_mean\",\"texture_mean\",\"symmetry_worst\",\"fractal_dimension_worst\"]],\"error_x\":[[0.0,0.0,0.0,0.0,0.0,0.0,0.0,0.0,0.0,0.0,0.0,0.0,0.0,0.0,0.0,0.0,0.0,0.0,0.0,0.0,0.0]]}],\"label\":\"N° features: 21\",\"method\":\"restyle\"},{\"args\":[{\"x\":[[-0.01,-0.01,-0.01,-0.01,-0.01,-0.01,-0.01,-0.01,-0.01,-0.01,-0.01,-0.01,-0.01,-0.01,-0.01,-0.01,-0.01,-0.01,-0.01,-0.01,-0.01,-0.01]],\"y\":[[\"radius_worst\",\"fractal_dimension_se\",\"symmetry_se\",\"concave points_se\",\"concavity_se\",\"compactness_se\",\"smoothness_se\",\"area_se\",\"perimeter_se\",\"texture_se\",\"radius_se\",\"fractal_dimension_mean\",\"symmetry_mean\",\"concave points_mean\",\"concavity_mean\",\"compactness_mean\",\"smoothness_mean\",\"area_mean\",\"perimeter_mean\",\"texture_mean\",\"symmetry_worst\",\"fractal_dimension_worst\"]],\"error_x\":[[0.0,0.0,0.0,0.0,0.0,0.0,0.0,0.0,0.0,0.0,0.0,0.0,0.0,0.0,0.0,0.0,0.0,0.0,0.0,0.0,0.0,0.0]]}],\"label\":\"N° features: 22\",\"method\":\"restyle\"},{\"args\":[{\"x\":[[-0.01,-0.01,-0.01,-0.01,-0.01,-0.01,-0.01,-0.01,-0.01,-0.01,-0.01,-0.01,-0.01,-0.01,-0.01,-0.01,-0.01,-0.01,-0.01,-0.01,-0.01,-0.01,-0.01]],\"y\":[[\"texture_worst\",\"radius_worst\",\"fractal_dimension_se\",\"symmetry_se\",\"concave points_se\",\"concavity_se\",\"compactness_se\",\"smoothness_se\",\"area_se\",\"perimeter_se\",\"texture_se\",\"radius_se\",\"fractal_dimension_mean\",\"symmetry_mean\",\"concave points_mean\",\"concavity_mean\",\"compactness_mean\",\"smoothness_mean\",\"area_mean\",\"perimeter_mean\",\"texture_mean\",\"symmetry_worst\",\"fractal_dimension_worst\"]],\"error_x\":[[0.0,0.0,0.0,0.0,0.0,0.0,0.0,0.0,0.0,0.0,0.0,0.0,0.0,0.0,0.0,0.0,0.0,0.0,0.0,0.0,0.0,0.0,0.0]]}],\"label\":\"N° features: 23\",\"method\":\"restyle\"},{\"args\":[{\"x\":[[-0.01,-0.01,-0.01,-0.01,-0.01,-0.01,-0.01,-0.01,-0.01,-0.01,-0.01,-0.01,-0.01,-0.01,-0.01,-0.01,-0.01,-0.01,-0.01,-0.01,-0.01,-0.01,-0.01,-0.01]],\"y\":[[\"perimeter_worst\",\"texture_worst\",\"radius_worst\",\"fractal_dimension_se\",\"symmetry_se\",\"concave points_se\",\"concavity_se\",\"compactness_se\",\"smoothness_se\",\"area_se\",\"perimeter_se\",\"texture_se\",\"radius_se\",\"fractal_dimension_mean\",\"symmetry_mean\",\"concave points_mean\",\"concavity_mean\",\"compactness_mean\",\"smoothness_mean\",\"area_mean\",\"perimeter_mean\",\"texture_mean\",\"symmetry_worst\",\"fractal_dimension_worst\"]],\"error_x\":[[0.0,0.0,0.0,0.0,0.0,0.0,0.0,0.0,0.0,0.0,0.0,0.0,0.0,0.0,0.0,0.0,0.0,0.0,0.0,0.0,0.0,0.0,0.0,0.0]]}],\"label\":\"N° features: 24\",\"method\":\"restyle\"},{\"args\":[{\"x\":[[-0.01,-0.01,-0.01,-0.01,-0.01,-0.01,-0.01,-0.01,-0.01,-0.01,-0.01,-0.01,-0.01,-0.01,-0.01,-0.01,-0.01,-0.01,-0.01,-0.01,-0.01,-0.01,-0.01,-0.01,-0.01]],\"y\":[[\"area_worst\",\"perimeter_worst\",\"texture_worst\",\"radius_worst\",\"fractal_dimension_se\",\"symmetry_se\",\"concave points_se\",\"concavity_se\",\"compactness_se\",\"smoothness_se\",\"area_se\",\"perimeter_se\",\"texture_se\",\"radius_se\",\"fractal_dimension_mean\",\"symmetry_mean\",\"concave points_mean\",\"concavity_mean\",\"compactness_mean\",\"smoothness_mean\",\"area_mean\",\"perimeter_mean\",\"texture_mean\",\"symmetry_worst\",\"fractal_dimension_worst\"]],\"error_x\":[[0.0,0.0,0.0,0.0,0.0,0.0,0.0,0.0,0.0,0.0,0.0,0.0,0.0,0.0,0.0,0.0,0.0,0.0,0.0,0.0,0.0,0.0,0.0,0.0,0.0]]}],\"label\":\"N° features: 25\",\"method\":\"restyle\"},{\"args\":[{\"x\":[[-0.01,-0.01,-0.01,-0.01,-0.01,-0.01,-0.01,-0.01,-0.01,-0.01,-0.01,-0.01,-0.01,-0.01,-0.01,-0.01,-0.01,-0.01,-0.01,-0.01,-0.01,-0.01,-0.01,-0.01,-0.01,-0.01]],\"y\":[[\"smoothness_worst\",\"area_worst\",\"perimeter_worst\",\"texture_worst\",\"radius_worst\",\"fractal_dimension_se\",\"symmetry_se\",\"concave points_se\",\"concavity_se\",\"compactness_se\",\"smoothness_se\",\"area_se\",\"perimeter_se\",\"texture_se\",\"radius_se\",\"fractal_dimension_mean\",\"symmetry_mean\",\"concave points_mean\",\"concavity_mean\",\"compactness_mean\",\"smoothness_mean\",\"area_mean\",\"perimeter_mean\",\"texture_mean\",\"symmetry_worst\",\"fractal_dimension_worst\"]],\"error_x\":[[0.0,0.0,0.0,0.0,0.0,0.0,0.0,0.0,0.0,0.0,0.0,0.0,0.0,0.0,0.0,0.0,0.0,0.0,0.0,0.0,0.0,0.0,0.0,0.0,0.0,0.0]]}],\"label\":\"N° features: 26\",\"method\":\"restyle\"},{\"args\":[{\"x\":[[-0.01,-0.01,-0.01,-0.01,-0.01,-0.01,-0.01,-0.01,-0.01,-0.01,-0.01,-0.01,-0.01,-0.01,-0.01,-0.01,-0.01,-0.01,-0.01,-0.01,-0.01,-0.01,-0.01,-0.01,-0.01,-0.01,-0.01]],\"y\":[[\"compactness_worst\",\"smoothness_worst\",\"area_worst\",\"perimeter_worst\",\"texture_worst\",\"radius_worst\",\"fractal_dimension_se\",\"symmetry_se\",\"concave points_se\",\"concavity_se\",\"compactness_se\",\"smoothness_se\",\"area_se\",\"perimeter_se\",\"texture_se\",\"radius_se\",\"fractal_dimension_mean\",\"symmetry_mean\",\"concave points_mean\",\"concavity_mean\",\"compactness_mean\",\"smoothness_mean\",\"area_mean\",\"perimeter_mean\",\"texture_mean\",\"symmetry_worst\",\"fractal_dimension_worst\"]],\"error_x\":[[0.0,0.0,0.0,0.0,0.0,0.0,0.0,0.0,0.0,0.0,0.0,0.0,0.0,0.0,0.0,0.0,0.0,0.0,0.0,0.0,0.0,0.0,0.0,0.0,0.0,0.0,0.0]]}],\"label\":\"N° features: 27\",\"method\":\"restyle\"},{\"args\":[{\"x\":[[-0.01,-0.01,-0.01,-0.01,-0.01,-0.01,-0.01,-0.01,-0.01,-0.01,-0.01,-0.01,-0.01,-0.01,-0.01,-0.01,-0.01,-0.01,-0.01,-0.01,-0.01,-0.01,-0.01,-0.01,-0.01,-0.01,-0.01,-0.01]],\"y\":[[\"concavity_worst\",\"compactness_worst\",\"smoothness_worst\",\"area_worst\",\"perimeter_worst\",\"texture_worst\",\"radius_worst\",\"fractal_dimension_se\",\"symmetry_se\",\"concave points_se\",\"concavity_se\",\"compactness_se\",\"smoothness_se\",\"area_se\",\"perimeter_se\",\"texture_se\",\"radius_se\",\"fractal_dimension_mean\",\"symmetry_mean\",\"concave points_mean\",\"concavity_mean\",\"compactness_mean\",\"smoothness_mean\",\"area_mean\",\"perimeter_mean\",\"texture_mean\",\"symmetry_worst\",\"fractal_dimension_worst\"]],\"error_x\":[[0.0,0.0,0.0,0.0,0.0,0.0,0.0,0.0,0.0,0.0,0.0,0.0,0.0,0.0,0.0,0.0,0.0,0.0,0.0,0.0,0.0,0.0,0.0,0.0,0.0,0.0,0.0,0.0]]}],\"label\":\"N° features: 28\",\"method\":\"restyle\"},{\"args\":[{\"x\":[[-0.01,-0.01,-0.01,-0.01,-0.01,-0.01,-0.01,-0.01,-0.01,-0.01,-0.01,-0.01,-0.01,-0.01,-0.01,-0.01,-0.01,-0.01,-0.01,-0.01,-0.01,-0.01,-0.01,-0.01,-0.01,-0.01,-0.01,-0.01,-0.01]],\"y\":[[\"concave points_worst\",\"concavity_worst\",\"compactness_worst\",\"smoothness_worst\",\"area_worst\",\"perimeter_worst\",\"texture_worst\",\"radius_worst\",\"fractal_dimension_se\",\"symmetry_se\",\"concave points_se\",\"concavity_se\",\"compactness_se\",\"smoothness_se\",\"area_se\",\"perimeter_se\",\"texture_se\",\"radius_se\",\"fractal_dimension_mean\",\"symmetry_mean\",\"concave points_mean\",\"concavity_mean\",\"compactness_mean\",\"smoothness_mean\",\"area_mean\",\"perimeter_mean\",\"texture_mean\",\"symmetry_worst\",\"fractal_dimension_worst\"]],\"error_x\":[[0.0,0.0,0.0,0.0,0.0,0.0,0.0,0.0,0.0,0.0,0.0,0.0,0.0,0.0,0.0,0.0,0.0,0.0,0.0,0.0,0.0,0.0,0.0,0.0,0.0,0.0,0.0,0.0,0.0]]}],\"label\":\"N° features: 29\",\"method\":\"restyle\"}],\"x\":0,\"xanchor\":\"left\",\"y\":1.2,\"yanchor\":\"top\"}],\"xaxis\":{\"anchor\":\"y\",\"domain\":[0.0,1.0],\"title\":{\"text\":\"Importance\"}},\"yaxis\":{\"anchor\":\"x\",\"domain\":[0.0,1.0]}},                        {\"responsive\": true}                    ).then(function(){\n",
       "                            \n",
       "var gd = document.getElementById('2087f22d-a899-41b8-b16d-187f316cb33b');\n",
       "var x = new MutationObserver(function (mutations, observer) {{\n",
       "        var display = window.getComputedStyle(gd).display;\n",
       "        if (!display || display === 'none') {{\n",
       "            console.log([gd, 'removed!']);\n",
       "            Plotly.purge(gd);\n",
       "            observer.disconnect();\n",
       "        }}\n",
       "}});\n",
       "\n",
       "// Listen for the removal of the full notebook cells\n",
       "var notebookContainer = gd.closest('#notebook-container');\n",
       "if (notebookContainer) {{\n",
       "    x.observe(notebookContainer, {childList: true});\n",
       "}}\n",
       "\n",
       "// Listen for the clearing of the current output cell\n",
       "var outputEl = gd.closest('.output');\n",
       "if (outputEl) {{\n",
       "    x.observe(outputEl, {childList: true});\n",
       "}}\n",
       "\n",
       "                        })                };                });            </script>        </div>"
      ]
     },
     "metadata": {},
     "output_type": "display_data"
    }
   ],
   "source": [
    "parameters = {\n",
    "    \"scoring\": \"accuracy\",\n",
    "    \"n_repeats\": 20,\n",
    "    \"random_state\": 5,\n",
    "    \"max_samples\": 20,\n",
    "}\n",
    "explainer = PermutationFeatureImportance(model, **parameters)\n",
    "explanation = explainer.explain(cc_dataset)\n",
    "plot = explainer.plot(explanation)\n",
    "plotly.io.from_json(plot[0])"
   ]
  },
  {
   "cell_type": "code",
   "execution_count": 10,
   "id": "d5a15d26",
   "metadata": {},
   "outputs": [
    {
     "data": {
      "text/plain": [
       "<BarContainer object of 30 artists>"
      ]
     },
     "execution_count": 10,
     "metadata": {},
     "output_type": "execute_result"
    },
    {
     "data": {
      "image/png": "[encoded data removed]",
      "text/plain": [
       "<Figure size 640x480 with 1 Axes>"
      ]
     },
     "metadata": {},
     "output_type": "display_data"
    }
   ],
   "source": [
    "def patched_metric(y_true, y_pred_probas):\n",
    "    return accuracy_score(y_true, np.argmax(y_pred_probas, axis=1))\n",
    "\n",
    "pi = permutation_importance(\n",
    "    estimator=model, \n",
    "    X=cc_dataset[0][\"train\"].to_pandas(), \n",
    "    y=cc_dataset[1][\"train\"].to_pandas(), \n",
    "    scoring=make_scorer(patched_metric),\n",
    "    n_repeats=20,\n",
    "    random_state=5,\n",
    "    max_samples=20\n",
    ")\n",
    "plt.barh(range(30), pi['importances_mean'], color='b', align='center')"
   ]
  },
  {
   "cell_type": "markdown",
   "id": "2227202a",
   "metadata": {},
   "source": [
    "### SHAP"
   ]
  },
  {
   "cell_type": "code",
   "execution_count": 11,
   "id": "0fefc590",
   "metadata": {},
   "outputs": [
    {
     "name": "stderr",
     "output_type": "stream",
     "text": [
      "100%|██████████| 10/10 [00:05<00:00,  1.79it/s]\n"
     ]
    },
    {
     "data": {
      "application/vnd.plotly.v1+json": {
       "config": {
        "plotlyServerURL": "https://plot.ly"
       },
       "data": [
        {
         "base": 0.71,
         "constraintext": "inside",
         "decreasing": {
          "marker": {
           "color": "rgb(47,138,196)"
          }
         },
         "increasing": {
          "marker": {
           "color": "rgb(231,63,116)"
          }
         },
         "measure": [
          "relative",
          "relative",
          "relative",
          "relative",
          "relative",
          "relative",
          "relative",
          "relative",
          "relative"
         ],
         "name": "20",
         "orientation": "h",
         "text": [
          "0.0",
          "0.0",
          "0.0",
          "0.0",
          "0.0",
          "0.0",
          "0.0",
          "0.0",
          "0.0"
         ],
         "textposition": "auto",
         "type": "waterfall",
         "x": [
          0,
          0,
          0,
          0,
          0,
          0,
          0,
          0,
          0
         ],
         "y": [
          "Others=None",
          "concavity_mean=0.002",
          "compactness_mean=0.039",
          "smoothness_mean=0.077",
          "area_mean=446.0",
          "perimeter_mean=76.09",
          "texture_mean=17.93",
          "symmetry_worst=0.217",
          "fractal_dimension_worst=0.07"
         ]
        }
       ],
       "layout": {
        "annotations": [
         {
          "align": "center",
          "arrowsize": 0.3,
          "arrowwidth": 0.1,
          "font": {
           "size": 12
          },
          "showarrow": false,
          "text": "The predicted class was M with probability f(x)=0.71.",
          "xanchor": "center",
          "xref": "paper",
          "y": -0.3,
          "yanchor": "bottom",
          "yref": "paper"
         }
        ],
        "margin": {
         "b": 10,
         "l": 100,
         "pad": 20,
         "r": 130,
         "t": 60
        },
        "template": {
         "data": {
          "bar": [
           {
            "error_x": {
             "color": "#2a3f5f"
            },
            "error_y": {
             "color": "#2a3f5f"
            },
            "marker": {
             "line": {
              "color": "#E5ECF6",
              "width": 0.5
             },
             "pattern": {
              "fillmode": "overlay",
              "size": 10,
              "solidity": 0.2
             }
            },
            "type": "bar"
           }
          ],
          "barpolar": [
           {
            "marker": {
             "line": {
              "color": "#E5ECF6",
              "width": 0.5
             },
             "pattern": {
              "fillmode": "overlay",
              "size": 10,
              "solidity": 0.2
             }
            },
            "type": "barpolar"
           }
          ],
          "carpet": [
           {
            "aaxis": {
             "endlinecolor": "#2a3f5f",
             "gridcolor": "white",
             "linecolor": "white",
             "minorgridcolor": "white",
             "startlinecolor": "#2a3f5f"
            },
            "baxis": {
             "endlinecolor": "#2a3f5f",
             "gridcolor": "white",
             "linecolor": "white",
             "minorgridcolor": "white",
             "startlinecolor": "#2a3f5f"
            },
            "type": "carpet"
           }
          ],
          "choropleth": [
           {
            "colorbar": {
             "outlinewidth": 0,
             "ticks": ""
            },
            "type": "choropleth"
           }
          ],
          "contour": [
           {
            "colorbar": {
             "outlinewidth": 0,
             "ticks": ""
            },
            "colorscale": [
             [
              0,
              "#0d0887"
             ],
             [
              0.1111111111111111,
              "#46039f"
             ],
             [
              0.2222222222222222,
              "#7201a8"
             ],
             [
              0.3333333333333333,
              "#9c179e"
             ],
             [
              0.4444444444444444,
              "#bd3786"
             ],
             [
              0.5555555555555556,
              "#d8576b"
             ],
             [
              0.6666666666666666,
              "#ed7953"
             ],
             [
              0.7777777777777778,
              "#fb9f3a"
             ],
             [
              0.8888888888888888,
              "#fdca26"
             ],
             [
              1,
              "#f0f921"
             ]
            ],
            "type": "contour"
           }
          ],
          "contourcarpet": [
           {
            "colorbar": {
             "outlinewidth": 0,
             "ticks": ""
            },
            "type": "contourcarpet"
           }
          ],
          "heatmap": [
           {
            "colorbar": {
             "outlinewidth": 0,
             "ticks": ""
            },
            "colorscale": [
             [
              0,
              "#0d0887"
             ],
             [
              0.1111111111111111,
              "#46039f"
             ],
             [
              0.2222222222222222,
              "#7201a8"
             ],
             [
              0.3333333333333333,
              "#9c179e"
             ],
             [
              0.4444444444444444,
              "#bd3786"
             ],
             [
              0.5555555555555556,
              "#d8576b"
             ],
             [
              0.6666666666666666,
              "#ed7953"
             ],
             [
              0.7777777777777778,
              "#fb9f3a"
             ],
             [
              0.8888888888888888,
              "#fdca26"
             ],
             [
              1,
              "#f0f921"
             ]
            ],
            "type": "heatmap"
           }
          ],
          "heatmapgl": [
           {
            "colorbar": {
             "outlinewidth": 0,
             "ticks": ""
            },
            "colorscale": [
             [
              0,
              "#0d0887"
             ],
             [
              0.1111111111111111,
              "#46039f"
             ],
             [
              0.2222222222222222,
              "#7201a8"
             ],
             [
              0.3333333333333333,
              "#9c179e"
             ],
             [
              0.4444444444444444,
              "#bd3786"
             ],
             [
              0.5555555555555556,
              "#d8576b"
             ],
             [
              0.6666666666666666,
              "#ed7953"
             ],
             [
              0.7777777777777778,
              "#fb9f3a"
             ],
             [
              0.8888888888888888,
              "#fdca26"
             ],
             [
              1,
              "#f0f921"
             ]
            ],
            "type": "heatmapgl"
           }
          ],
          "histogram": [
           {
            "marker": {
             "pattern": {
              "fillmode": "overlay",
              "size": 10,
              "solidity": 0.2
             }
            },
            "type": "histogram"
           }
          ],
          "histogram2d": [
           {
            "colorbar": {
             "outlinewidth": 0,
             "ticks": ""
            },
            "colorscale": [
             [
              0,
              "#0d0887"
             ],
             [
              0.1111111111111111,
              "#46039f"
             ],
             [
              0.2222222222222222,
              "#7201a8"
             ],
             [
              0.3333333333333333,
              "#9c179e"
             ],
             [
              0.4444444444444444,
              "#bd3786"
             ],
             [
              0.5555555555555556,
              "#d8576b"
             ],
             [
              0.6666666666666666,
              "#ed7953"
             ],
             [
              0.7777777777777778,
              "#fb9f3a"
             ],
             [
              0.8888888888888888,
              "#fdca26"
             ],
             [
              1,
              "#f0f921"
             ]
            ],
            "type": "histogram2d"
           }
          ],
          "histogram2dcontour": [
           {
            "colorbar": {
             "outlinewidth": 0,
             "ticks": ""
            },
            "colorscale": [
             [
              0,
              "#0d0887"
             ],
             [
              0.1111111111111111,
              "#46039f"
             ],
             [
              0.2222222222222222,
              "#7201a8"
             ],
             [
              0.3333333333333333,
              "#9c179e"
             ],
             [
              0.4444444444444444,
              "#bd3786"
             ],
             [
              0.5555555555555556,
              "#d8576b"
             ],
             [
              0.6666666666666666,
              "#ed7953"
             ],
             [
              0.7777777777777778,
              "#fb9f3a"
             ],
             [
              0.8888888888888888,
              "#fdca26"
             ],
             [
              1,
              "#f0f921"
             ]
            ],
            "type": "histogram2dcontour"
           }
          ],
          "mesh3d": [
           {
            "colorbar": {
             "outlinewidth": 0,
             "ticks": ""
            },
            "type": "mesh3d"
           }
          ],
          "parcoords": [
           {
            "line": {
             "colorbar": {
              "outlinewidth": 0,
              "ticks": ""
             }
            },
            "type": "parcoords"
           }
          ],
          "pie": [
           {
            "automargin": true,
            "type": "pie"
           }
          ],
          "scatter": [
           {
            "fillpattern": {
             "fillmode": "overlay",
             "size": 10,
             "solidity": 0.2
            },
            "type": "scatter"
           }
          ],
          "scatter3d": [
           {
            "line": {
             "colorbar": {
              "outlinewidth": 0,
              "ticks": ""
             }
            },
            "marker": {
             "colorbar": {
              "outlinewidth": 0,
              "ticks": ""
             }
            },
            "type": "scatter3d"
           }
          ],
          "scattercarpet": [
           {
            "marker": {
             "colorbar": {
              "outlinewidth": 0,
              "ticks": ""
             }
            },
            "type": "scattercarpet"
           }
          ],
          "scattergeo": [
           {
            "marker": {
             "colorbar": {
              "outlinewidth": 0,
              "ticks": ""
             }
            },
            "type": "scattergeo"
           }
          ],
          "scattergl": [
           {
            "marker": {
             "colorbar": {
              "outlinewidth": 0,
              "ticks": ""
             }
            },
            "type": "scattergl"
           }
          ],
          "scattermapbox": [
           {
            "marker": {
             "colorbar": {
              "outlinewidth": 0,
              "ticks": ""
             }
            },
            "type": "scattermapbox"
           }
          ],
          "scatterpolar": [
           {
            "marker": {
             "colorbar": {
              "outlinewidth": 0,
              "ticks": ""
             }
            },
            "type": "scatterpolar"
           }
          ],
          "scatterpolargl": [
           {
            "marker": {
             "colorbar": {
              "outlinewidth": 0,
              "ticks": ""
             }
            },
            "type": "scatterpolargl"
           }
          ],
          "scatterternary": [
           {
            "marker": {
             "colorbar": {
              "outlinewidth": 0,
              "ticks": ""
             }
            },
            "type": "scatterternary"
           }
          ],
          "surface": [
           {
            "colorbar": {
             "outlinewidth": 0,
             "ticks": ""
            },
            "colorscale": [
             [
              0,
              "#0d0887"
             ],
             [
              0.1111111111111111,
              "#46039f"
             ],
             [
              0.2222222222222222,
              "#7201a8"
             ],
             [
              0.3333333333333333,
              "#9c179e"
             ],
             [
              0.4444444444444444,
              "#bd3786"
             ],
             [
              0.5555555555555556,
              "#d8576b"
             ],
             [
              0.6666666666666666,
              "#ed7953"
             ],
             [
              0.7777777777777778,
              "#fb9f3a"
             ],
             [
              0.8888888888888888,
              "#fdca26"
             ],
             [
              1,
              "#f0f921"
             ]
            ],
            "type": "surface"
           }
          ],
          "table": [
           {
            "cells": {
             "fill": {
              "color": "#EBF0F8"
             },
             "line": {
              "color": "white"
             }
            },
            "header": {
             "fill": {
              "color": "#C8D4E3"
             },
             "line": {
              "color": "white"
             }
            },
            "type": "table"
           }
          ]
         },
         "layout": {
          "annotationdefaults": {
           "arrowcolor": "#2a3f5f",
           "arrowhead": 0,
           "arrowwidth": 1
          },
          "autotypenumbers": "strict",
          "coloraxis": {
           "colorbar": {
            "outlinewidth": 0,
            "ticks": ""
           }
          },
          "colorscale": {
           "diverging": [
            [
             0,
             "#8e0152"
            ],
            [
             0.1,
             "#c51b7d"
            ],
            [
             0.2,
             "#de77ae"
            ],
            [
             0.3,
             "#f1b6da"
            ],
            [
             0.4,
             "#fde0ef"
            ],
            [
             0.5,
             "#f7f7f7"
            ],
            [
             0.6,
             "#e6f5d0"
            ],
            [
             0.7,
             "#b8e186"
            ],
            [
             0.8,
             "#7fbc41"
            ],
            [
             0.9,
             "#4d9221"
            ],
            [
             1,
             "#276419"
            ]
           ],
           "sequential": [
            [
             0,
             "#0d0887"
            ],
            [
             0.1111111111111111,
             "#46039f"
            ],
            [
             0.2222222222222222,
             "#7201a8"
            ],
            [
             0.3333333333333333,
             "#9c179e"
            ],
            [
             0.4444444444444444,
             "#bd3786"
            ],
            [
             0.5555555555555556,
             "#d8576b"
            ],
            [
             0.6666666666666666,
             "#ed7953"
            ],
            [
             0.7777777777777778,
             "#fb9f3a"
            ],
            [
             0.8888888888888888,
             "#fdca26"
            ],
            [
             1,
             "#f0f921"
            ]
           ],
           "sequentialminus": [
            [
             0,
             "#0d0887"
            ],
            [
             0.1111111111111111,
             "#46039f"
            ],
            [
             0.2222222222222222,
             "#7201a8"
            ],
            [
             0.3333333333333333,
             "#9c179e"
            ],
            [
             0.4444444444444444,
             "#bd3786"
            ],
            [
             0.5555555555555556,
             "#d8576b"
            ],
            [
             0.6666666666666666,
             "#ed7953"
            ],
            [
             0.7777777777777778,
             "#fb9f3a"
            ],
            [
             0.8888888888888888,
             "#fdca26"
            ],
            [
             1,
             "#f0f921"
            ]
           ]
          },
          "colorway": [
           "#636efa",
           "#EF553B",
           "#00cc96",
           "#ab63fa",
           "#FFA15A",
           "#19d3f3",
           "#FF6692",
           "#B6E880",
           "#FF97FF",
           "#FECB52"
          ],
          "font": {
           "color": "#2a3f5f"
          },
          "geo": {
           "bgcolor": "white",
           "lakecolor": "white",
           "landcolor": "#E5ECF6",
           "showlakes": true,
           "showland": true,
           "subunitcolor": "white"
          },
          "hoverlabel": {
           "align": "left"
          },
          "hovermode": "closest",
          "mapbox": {
           "style": "light"
          },
          "paper_bgcolor": "white",
          "plot_bgcolor": "#E5ECF6",
          "polar": {
           "angularaxis": {
            "gridcolor": "white",
            "linecolor": "white",
            "ticks": ""
           },
           "bgcolor": "#E5ECF6",
           "radialaxis": {
            "gridcolor": "white",
            "linecolor": "white",
            "ticks": ""
           }
          },
          "scene": {
           "xaxis": {
            "backgroundcolor": "#E5ECF6",
            "gridcolor": "white",
            "gridwidth": 2,
            "linecolor": "white",
            "showbackground": true,
            "ticks": "",
            "zerolinecolor": "white"
           },
           "yaxis": {
            "backgroundcolor": "#E5ECF6",
            "gridcolor": "white",
            "gridwidth": 2,
            "linecolor": "white",
            "showbackground": true,
            "ticks": "",
            "zerolinecolor": "white"
           },
           "zaxis": {
            "backgroundcolor": "#E5ECF6",
            "gridcolor": "white",
            "gridwidth": 2,
            "linecolor": "white",
            "showbackground": true,
            "ticks": "",
            "zerolinecolor": "white"
           }
          },
          "shapedefaults": {
           "line": {
            "color": "#2a3f5f"
           }
          },
          "ternary": {
           "aaxis": {
            "gridcolor": "white",
            "linecolor": "white",
            "ticks": ""
           },
           "baxis": {
            "gridcolor": "white",
            "linecolor": "white",
            "ticks": ""
           },
           "bgcolor": "#E5ECF6",
           "caxis": {
            "gridcolor": "white",
            "linecolor": "white",
            "ticks": ""
           }
          },
          "title": {
           "x": 0.05
          },
          "xaxis": {
           "automargin": true,
           "gridcolor": "white",
           "linecolor": "white",
           "ticks": "",
           "title": {
            "standoff": 15
           },
           "zerolinecolor": "white",
           "zerolinewidth": 2
          },
          "yaxis": {
           "automargin": true,
           "gridcolor": "white",
           "linecolor": "white",
           "ticks": "",
           "title": {
            "standoff": 15
           },
           "zerolinecolor": "white",
           "zerolinewidth": 2
          }
         }
        },
        "xaxis": {
         "gridcolor": "#1B2631",
         "gridwidth": 1,
         "nticks": 2,
         "showgrid": true,
         "tickangle": 0,
         "tickmode": "array",
         "ticktext": [
          "E[f(x)]=0.71",
          "f(x)=0.71"
         ],
         "tickvals": [
          0.71,
          0.71
         ],
         "tickwidth": 100,
         "title": {
          "text": ""
         }
        },
        "yaxis": {
         "showgrid": true,
         "tickwidth": 150
        }
       }
      },
      "text/html": [
       "<div>                            <div id=\"a26b3795-0633-4f17-b6c2-055ed20377a9\" class=\"plotly-graph-div\" style=\"height:525px; width:100%;\"></div>            <script type=\"text/javascript\">                require([\"plotly\"], function(Plotly) {                    window.PLOTLYENV=window.PLOTLYENV || {};                                    if (document.getElementById(\"a26b3795-0633-4f17-b6c2-055ed20377a9\")) {                    Plotly.newPlot(                        \"a26b3795-0633-4f17-b6c2-055ed20377a9\",                        [{\"base\":0.71,\"constraintext\":\"inside\",\"decreasing\":{\"marker\":{\"color\":\"rgb(47,138,196)\"}},\"increasing\":{\"marker\":{\"color\":\"rgb(231,63,116)\"}},\"measure\":[\"relative\",\"relative\",\"relative\",\"relative\",\"relative\",\"relative\",\"relative\",\"relative\",\"relative\"],\"name\":\"20\",\"orientation\":\"h\",\"text\":[\"0.0\",\"0.0\",\"0.0\",\"0.0\",\"0.0\",\"0.0\",\"0.0\",\"0.0\",\"0.0\"],\"textposition\":\"auto\",\"x\":[0.0,0.0,0.0,0.0,0.0,0.0,0.0,0.0,0.0],\"y\":[\"Others=None\",\"concavity_mean=0.002\",\"compactness_mean=0.039\",\"smoothness_mean=0.077\",\"area_mean=446.0\",\"perimeter_mean=76.09\",\"texture_mean=17.93\",\"symmetry_worst=0.217\",\"fractal_dimension_worst=0.07\"],\"type\":\"waterfall\"}],                        {\"annotations\":[{\"align\":\"center\",\"arrowsize\":0.3,\"arrowwidth\":0.1,\"font\":{\"size\":12},\"showarrow\":false,\"text\":\"The predicted class was M with probability f(x)=0.71.\",\"xanchor\":\"center\",\"xref\":\"paper\",\"y\":-0.3,\"yanchor\":\"bottom\",\"yref\":\"paper\"}],\"margin\":{\"b\":10,\"l\":100,\"pad\":20,\"r\":130,\"t\":60},\"template\":{\"data\":{\"barpolar\":[{\"marker\":{\"line\":{\"color\":\"#E5ECF6\",\"width\":0.5},\"pattern\":{\"fillmode\":\"overlay\",\"size\":10,\"solidity\":0.2}},\"type\":\"barpolar\"}],\"bar\":[{\"error_x\":{\"color\":\"#2a3f5f\"},\"error_y\":{\"color\":\"#2a3f5f\"},\"marker\":{\"line\":{\"color\":\"#E5ECF6\",\"width\":0.5},\"pattern\":{\"fillmode\":\"overlay\",\"size\":10,\"solidity\":0.2}},\"type\":\"bar\"}],\"carpet\":[{\"aaxis\":{\"endlinecolor\":\"#2a3f5f\",\"gridcolor\":\"white\",\"linecolor\":\"white\",\"minorgridcolor\":\"white\",\"startlinecolor\":\"#2a3f5f\"},\"baxis\":{\"endlinecolor\":\"#2a3f5f\",\"gridcolor\":\"white\",\"linecolor\":\"white\",\"minorgridcolor\":\"white\",\"startlinecolor\":\"#2a3f5f\"},\"type\":\"carpet\"}],\"choropleth\":[{\"colorbar\":{\"outlinewidth\":0,\"ticks\":\"\"},\"type\":\"choropleth\"}],\"contourcarpet\":[{\"colorbar\":{\"outlinewidth\":0,\"ticks\":\"\"},\"type\":\"contourcarpet\"}],\"contour\":[{\"colorbar\":{\"outlinewidth\":0,\"ticks\":\"\"},\"colorscale\":[[0.0,\"#0d0887\"],[0.1111111111111111,\"#46039f\"],[0.2222222222222222,\"#7201a8\"],[0.3333333333333333,\"#9c179e\"],[0.4444444444444444,\"#bd3786\"],[0.5555555555555556,\"#d8576b\"],[0.6666666666666666,\"#ed7953\"],[0.7777777777777778,\"#fb9f3a\"],[0.8888888888888888,\"#fdca26\"],[1.0,\"#f0f921\"]],\"type\":\"contour\"}],\"heatmapgl\":[{\"colorbar\":{\"outlinewidth\":0,\"ticks\":\"\"},\"colorscale\":[[0.0,\"#0d0887\"],[0.1111111111111111,\"#46039f\"],[0.2222222222222222,\"#7201a8\"],[0.3333333333333333,\"#9c179e\"],[0.4444444444444444,\"#bd3786\"],[0.5555555555555556,\"#d8576b\"],[0.6666666666666666,\"#ed7953\"],[0.7777777777777778,\"#fb9f3a\"],[0.8888888888888888,\"#fdca26\"],[1.0,\"#f0f921\"]],\"type\":\"heatmapgl\"}],\"heatmap\":[{\"colorbar\":{\"outlinewidth\":0,\"ticks\":\"\"},\"colorscale\":[[0.0,\"#0d0887\"],[0.1111111111111111,\"#46039f\"],[0.2222222222222222,\"#7201a8\"],[0.3333333333333333,\"#9c179e\"],[0.4444444444444444,\"#bd3786\"],[0.5555555555555556,\"#d8576b\"],[0.6666666666666666,\"#ed7953\"],[0.7777777777777778,\"#fb9f3a\"],[0.8888888888888888,\"#fdca26\"],[1.0,\"#f0f921\"]],\"type\":\"heatmap\"}],\"histogram2dcontour\":[{\"colorbar\":{\"outlinewidth\":0,\"ticks\":\"\"},\"colorscale\":[[0.0,\"#0d0887\"],[0.1111111111111111,\"#46039f\"],[0.2222222222222222,\"#7201a8\"],[0.3333333333333333,\"#9c179e\"],[0.4444444444444444,\"#bd3786\"],[0.5555555555555556,\"#d8576b\"],[0.6666666666666666,\"#ed7953\"],[0.7777777777777778,\"#fb9f3a\"],[0.8888888888888888,\"#fdca26\"],[1.0,\"#f0f921\"]],\"type\":\"histogram2dcontour\"}],\"histogram2d\":[{\"colorbar\":{\"outlinewidth\":0,\"ticks\":\"\"},\"colorscale\":[[0.0,\"#0d0887\"],[0.1111111111111111,\"#46039f\"],[0.2222222222222222,\"#7201a8\"],[0.3333333333333333,\"#9c179e\"],[0.4444444444444444,\"#bd3786\"],[0.5555555555555556,\"#d8576b\"],[0.6666666666666666,\"#ed7953\"],[0.7777777777777778,\"#fb9f3a\"],[0.8888888888888888,\"#fdca26\"],[1.0,\"#f0f921\"]],\"type\":\"histogram2d\"}],\"histogram\":[{\"marker\":{\"pattern\":{\"fillmode\":\"overlay\",\"size\":10,\"solidity\":0.2}},\"type\":\"histogram\"}],\"mesh3d\":[{\"colorbar\":{\"outlinewidth\":0,\"ticks\":\"\"},\"type\":\"mesh3d\"}],\"parcoords\":[{\"line\":{\"colorbar\":{\"outlinewidth\":0,\"ticks\":\"\"}},\"type\":\"parcoords\"}],\"pie\":[{\"automargin\":true,\"type\":\"pie\"}],\"scatter3d\":[{\"line\":{\"colorbar\":{\"outlinewidth\":0,\"ticks\":\"\"}},\"marker\":{\"colorbar\":{\"outlinewidth\":0,\"ticks\":\"\"}},\"type\":\"scatter3d\"}],\"scattercarpet\":[{\"marker\":{\"colorbar\":{\"outlinewidth\":0,\"ticks\":\"\"}},\"type\":\"scattercarpet\"}],\"scattergeo\":[{\"marker\":{\"colorbar\":{\"outlinewidth\":0,\"ticks\":\"\"}},\"type\":\"scattergeo\"}],\"scattergl\":[{\"marker\":{\"colorbar\":{\"outlinewidth\":0,\"ticks\":\"\"}},\"type\":\"scattergl\"}],\"scattermapbox\":[{\"marker\":{\"colorbar\":{\"outlinewidth\":0,\"ticks\":\"\"}},\"type\":\"scattermapbox\"}],\"scatterpolargl\":[{\"marker\":{\"colorbar\":{\"outlinewidth\":0,\"ticks\":\"\"}},\"type\":\"scatterpolargl\"}],\"scatterpolar\":[{\"marker\":{\"colorbar\":{\"outlinewidth\":0,\"ticks\":\"\"}},\"type\":\"scatterpolar\"}],\"scatter\":[{\"fillpattern\":{\"fillmode\":\"overlay\",\"size\":10,\"solidity\":0.2},\"type\":\"scatter\"}],\"scatterternary\":[{\"marker\":{\"colorbar\":{\"outlinewidth\":0,\"ticks\":\"\"}},\"type\":\"scatterternary\"}],\"surface\":[{\"colorbar\":{\"outlinewidth\":0,\"ticks\":\"\"},\"colorscale\":[[0.0,\"#0d0887\"],[0.1111111111111111,\"#46039f\"],[0.2222222222222222,\"#7201a8\"],[0.3333333333333333,\"#9c179e\"],[0.4444444444444444,\"#bd3786\"],[0.5555555555555556,\"#d8576b\"],[0.6666666666666666,\"#ed7953\"],[0.7777777777777778,\"#fb9f3a\"],[0.8888888888888888,\"#fdca26\"],[1.0,\"#f0f921\"]],\"type\":\"surface\"}],\"table\":[{\"cells\":{\"fill\":{\"color\":\"#EBF0F8\"},\"line\":{\"color\":\"white\"}},\"header\":{\"fill\":{\"color\":\"#C8D4E3\"},\"line\":{\"color\":\"white\"}},\"type\":\"table\"}]},\"layout\":{\"annotationdefaults\":{\"arrowcolor\":\"#2a3f5f\",\"arrowhead\":0,\"arrowwidth\":1},\"autotypenumbers\":\"strict\",\"coloraxis\":{\"colorbar\":{\"outlinewidth\":0,\"ticks\":\"\"}},\"colorscale\":{\"diverging\":[[0,\"#8e0152\"],[0.1,\"#c51b7d\"],[0.2,\"#de77ae\"],[0.3,\"#f1b6da\"],[0.4,\"#fde0ef\"],[0.5,\"#f7f7f7\"],[0.6,\"#e6f5d0\"],[0.7,\"#b8e186\"],[0.8,\"#7fbc41\"],[0.9,\"#4d9221\"],[1,\"#276419\"]],\"sequential\":[[0.0,\"#0d0887\"],[0.1111111111111111,\"#46039f\"],[0.2222222222222222,\"#7201a8\"],[0.3333333333333333,\"#9c179e\"],[0.4444444444444444,\"#bd3786\"],[0.5555555555555556,\"#d8576b\"],[0.6666666666666666,\"#ed7953\"],[0.7777777777777778,\"#fb9f3a\"],[0.8888888888888888,\"#fdca26\"],[1.0,\"#f0f921\"]],\"sequentialminus\":[[0.0,\"#0d0887\"],[0.1111111111111111,\"#46039f\"],[0.2222222222222222,\"#7201a8\"],[0.3333333333333333,\"#9c179e\"],[0.4444444444444444,\"#bd3786\"],[0.5555555555555556,\"#d8576b\"],[0.6666666666666666,\"#ed7953\"],[0.7777777777777778,\"#fb9f3a\"],[0.8888888888888888,\"#fdca26\"],[1.0,\"#f0f921\"]]},\"colorway\":[\"#636efa\",\"#EF553B\",\"#00cc96\",\"#ab63fa\",\"#FFA15A\",\"#19d3f3\",\"#FF6692\",\"#B6E880\",\"#FF97FF\",\"#FECB52\"],\"font\":{\"color\":\"#2a3f5f\"},\"geo\":{\"bgcolor\":\"white\",\"lakecolor\":\"white\",\"landcolor\":\"#E5ECF6\",\"showlakes\":true,\"showland\":true,\"subunitcolor\":\"white\"},\"hoverlabel\":{\"align\":\"left\"},\"hovermode\":\"closest\",\"mapbox\":{\"style\":\"light\"},\"paper_bgcolor\":\"white\",\"plot_bgcolor\":\"#E5ECF6\",\"polar\":{\"angularaxis\":{\"gridcolor\":\"white\",\"linecolor\":\"white\",\"ticks\":\"\"},\"bgcolor\":\"#E5ECF6\",\"radialaxis\":{\"gridcolor\":\"white\",\"linecolor\":\"white\",\"ticks\":\"\"}},\"scene\":{\"xaxis\":{\"backgroundcolor\":\"#E5ECF6\",\"gridcolor\":\"white\",\"gridwidth\":2,\"linecolor\":\"white\",\"showbackground\":true,\"ticks\":\"\",\"zerolinecolor\":\"white\"},\"yaxis\":{\"backgroundcolor\":\"#E5ECF6\",\"gridcolor\":\"white\",\"gridwidth\":2,\"linecolor\":\"white\",\"showbackground\":true,\"ticks\":\"\",\"zerolinecolor\":\"white\"},\"zaxis\":{\"backgroundcolor\":\"#E5ECF6\",\"gridcolor\":\"white\",\"gridwidth\":2,\"linecolor\":\"white\",\"showbackground\":true,\"ticks\":\"\",\"zerolinecolor\":\"white\"}},\"shapedefaults\":{\"line\":{\"color\":\"#2a3f5f\"}},\"ternary\":{\"aaxis\":{\"gridcolor\":\"white\",\"linecolor\":\"white\",\"ticks\":\"\"},\"baxis\":{\"gridcolor\":\"white\",\"linecolor\":\"white\",\"ticks\":\"\"},\"bgcolor\":\"#E5ECF6\",\"caxis\":{\"gridcolor\":\"white\",\"linecolor\":\"white\",\"ticks\":\"\"}},\"title\":{\"x\":0.05},\"xaxis\":{\"automargin\":true,\"gridcolor\":\"white\",\"linecolor\":\"white\",\"ticks\":\"\",\"title\":{\"standoff\":15},\"zerolinecolor\":\"white\",\"zerolinewidth\":2},\"yaxis\":{\"automargin\":true,\"gridcolor\":\"white\",\"linecolor\":\"white\",\"ticks\":\"\",\"title\":{\"standoff\":15},\"zerolinecolor\":\"white\",\"zerolinewidth\":2}}},\"xaxis\":{\"gridcolor\":\"#1B2631\",\"gridwidth\":1,\"nticks\":2,\"showgrid\":true,\"tickangle\":0,\"tickmode\":\"array\",\"ticktext\":[\"E[f(x)]=0.71\",\"f(x)=0.71\"],\"tickvals\":[0.71,0.71],\"tickwidth\":100,\"title\":{\"text\":\"\"}},\"yaxis\":{\"showgrid\":true,\"tickwidth\":150}},                        {\"responsive\": true}                    ).then(function(){\n",
       "                            \n",
       "var gd = document.getElementById('a26b3795-0633-4f17-b6c2-055ed20377a9');\n",
       "var x = new MutationObserver(function (mutations, observer) {{\n",
       "        var display = window.getComputedStyle(gd).display;\n",
       "        if (!display || display === 'none') {{\n",
       "            console.log([gd, 'removed!']);\n",
       "            Plotly.purge(gd);\n",
       "            observer.disconnect();\n",
       "        }}\n",
       "}});\n",
       "\n",
       "// Listen for the removal of the full notebook cells\n",
       "var notebookContainer = gd.closest('#notebook-container');\n",
       "if (notebookContainer) {{\n",
       "    x.observe(notebookContainer, {childList: true});\n",
       "}}\n",
       "\n",
       "// Listen for the clearing of the current output cell\n",
       "var outputEl = gd.closest('.output');\n",
       "if (outputEl) {{\n",
       "    x.observe(outputEl, {childList: true});\n",
       "}}\n",
       "\n",
       "                        })                };                });            </script>        </div>"
      ]
     },
     "metadata": {},
     "output_type": "display_data"
    }
   ],
   "source": [
    "parameters = {\n",
    "        \"link\": \"identity\",\n",
    "    }\n",
    "fit_parameters = {\n",
    "    \"sample_background_data\": True,\n",
    "    \"n_background_samples\": 50,\n",
    "    \"sampling_method\": \"kmeans\",\n",
    "}\n",
    "\n",
    "explainer = KernelShap(model, **parameters)\n",
    "explainer.fit(background_dataset=cc_dataset, **fit_parameters)\n",
    "explanation = explainer.explain_instance(cc_dataset_i[0])\n",
    "plots = explainer.plot(explanation)\n",
    "plotly.io.from_json(plots[0])"
   ]
  },
  {
   "cell_type": "code",
   "execution_count": 12,
   "id": "c7438b42",
   "metadata": {},
   "outputs": [
    {
     "name": "stderr",
     "output_type": "stream",
     "text": [
      "Using 350 background data samples could cause slower run times. Consider using shap.sample(data, K) or shap.kmeans(data, K) to summarize the background as K samples.\n",
      "  0%|          | 0/10 [00:00<?, ?it/s]"
     ]
    },
    {
     "name": "stderr",
     "output_type": "stream",
     "text": [
      "100%|██████████| 10/10 [00:24<00:00,  2.47s/it]\n"
     ]
    }
   ],
   "source": [
    "instances = cc_dataset_i[0]\n",
    "splits = list(instances.keys())\n",
    "X = instances[splits[0]]\n",
    "for split in splits[1:]:\n",
    "    X = concatenate_datasets([X, instances[split]])\n",
    "\n",
    "X = X.to_pandas()\n",
    "kernel_shap = shap.KernelExplainer(\n",
    "    model=model.predict_proba,\n",
    "    data=cc_dataset[0][\"train\"].to_pandas(),\n",
    "    feature_names=cc_inputs_columns,\n",
    "    link='identity'\n",
    ")\n",
    "\n",
    "shap_values = kernel_shap.shap_values(X)"
   ]
  },
  {
   "cell_type": "code",
   "execution_count": 13,
   "id": "d75272cb",
   "metadata": {},
   "outputs": [
    {
     "name": "stdout",
     "output_type": "stream",
     "text": [
      "expected_values: [0.28571429 0.71428571]\n",
      "prediction row 9: [0.28571429 0.71428571]\n"
     ]
    }
   ],
   "source": [
    "instance = 9\n",
    "y_pred = model.predict_proba(X)\n",
    "print(f\"expected_values: {kernel_shap.expected_value}\")\n",
    "print(f\"prediction row {instance}: {y_pred[instance]}\")"
   ]
  },
  {
   "cell_type": "code",
   "execution_count": 14,
   "id": "0bab0e42",
   "metadata": {},
   "outputs": [
    {
     "ename": "IndexError",
     "evalue": "index 27 is out of bounds for axis 0 with size 10",
     "output_type": "error",
     "traceback": [
      "\u001b[0;31m---------------------------------------------------------------------------\u001b[0m",
      "\u001b[0;31mIndexError\u001b[0m                                Traceback (most recent call last)",
      "Cell \u001b[0;32mIn[14], line 6\u001b[0m\n\u001b[1;32m      1\u001b[0m clase \u001b[38;5;241m=\u001b[39m \u001b[38;5;241m1\u001b[39m\n\u001b[1;32m      2\u001b[0m explanation_shap \u001b[38;5;241m=\u001b[39m shap\u001b[38;5;241m.\u001b[39mExplanation(values\u001b[38;5;241m=\u001b[39mshap_values[clase][instance], \n\u001b[1;32m      3\u001b[0m            base_values\u001b[38;5;241m=\u001b[39mkernel_shap\u001b[38;5;241m.\u001b[39mexpected_value[clase], \n\u001b[1;32m      4\u001b[0m            data\u001b[38;5;241m=\u001b[39mX\u001b[38;5;241m.\u001b[39mvalues,\n\u001b[1;32m      5\u001b[0m            feature_names\u001b[38;5;241m=\u001b[39mcc_inputs_columns)\n\u001b[0;32m----> 6\u001b[0m \u001b[43mshap\u001b[49m\u001b[38;5;241;43m.\u001b[39;49m\u001b[43mplots\u001b[49m\u001b[38;5;241;43m.\u001b[39;49m\u001b[43mwaterfall\u001b[49m\u001b[43m(\u001b[49m\u001b[43mexplanation_shap\u001b[49m\u001b[43m)\u001b[49m\n",
      "File \u001b[0;32m~/rod/lib/python3.8/site-packages/shap/plots/_waterfall.py:138\u001b[0m, in \u001b[0;36mwaterfall\u001b[0;34m(shap_values, max_display, show)\u001b[0m\n\u001b[1;32m    136\u001b[0m     yticklabels[rng[i]] \u001b[38;5;241m=\u001b[39m feature_names[order[i]]\n\u001b[1;32m    137\u001b[0m \u001b[38;5;28;01melse\u001b[39;00m:\n\u001b[0;32m--> 138\u001b[0m     \u001b[38;5;28;01mif\u001b[39;00m np\u001b[38;5;241m.\u001b[39missubdtype(\u001b[38;5;28mtype\u001b[39m(\u001b[43mfeatures\u001b[49m\u001b[43m[\u001b[49m\u001b[43morder\u001b[49m\u001b[43m[\u001b[49m\u001b[43mi\u001b[49m\u001b[43m]\u001b[49m\u001b[43m]\u001b[49m), np\u001b[38;5;241m.\u001b[39mnumber):\n\u001b[1;32m    139\u001b[0m         yticklabels[rng[i]] \u001b[38;5;241m=\u001b[39m format_value(\u001b[38;5;28mfloat\u001b[39m(features[order[i]]), \u001b[38;5;124m\"\u001b[39m\u001b[38;5;132;01m%0.03f\u001b[39;00m\u001b[38;5;124m\"\u001b[39m) \u001b[38;5;241m+\u001b[39m \u001b[38;5;124m\"\u001b[39m\u001b[38;5;124m = \u001b[39m\u001b[38;5;124m\"\u001b[39m \u001b[38;5;241m+\u001b[39m feature_names[order[i]]\n\u001b[1;32m    140\u001b[0m     \u001b[38;5;28;01melse\u001b[39;00m:\n",
      "\u001b[0;31mIndexError\u001b[0m: index 27 is out of bounds for axis 0 with size 10"
     ]
    },
    {
     "data": {
      "image/png": "[encoded data removed]",
      "text/plain": [
       "<Figure size 800x650 with 1 Axes>"
      ]
     },
     "metadata": {},
     "output_type": "display_data"
    }
   ],
   "source": [
    "clase = 1\n",
    "explanation_shap = shap.Explanation(values=shap_values[clase][instance], \n",
    "           base_values=kernel_shap.expected_value[clase], \n",
    "           data=X.values,\n",
    "           feature_names=cc_inputs_columns)\n",
    "shap.plots.waterfall(explanation_shap)"
   ]
  },
  {
   "cell_type": "code",
   "execution_count": null,
   "id": "2fea9293",
   "metadata": {},
   "outputs": [],
   "source": []
  }
 ],
 "metadata": {
  "kernelspec": {
   "display_name": "Python 3 (ipykernel)",
   "language": "python",
   "name": "python3"
  },
  "language_info": {
   "codemirror_mode": {
    "name": "ipython",
    "version": 3
   },
   "file_extension": ".py",
   "mimetype": "text/x-python",
   "name": "python",
   "nbconvert_exporter": "python",
   "pygments_lexer": "ipython3",
   "version": "3.8.10"
  }
 },
 "nbformat": 4,
 "nbformat_minor": 5
}
